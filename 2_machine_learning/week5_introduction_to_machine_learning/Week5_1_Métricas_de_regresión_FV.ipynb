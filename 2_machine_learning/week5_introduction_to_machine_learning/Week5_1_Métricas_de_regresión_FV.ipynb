{
  "nbformat": 4,
  "nbformat_minor": 0,
  "metadata": {
    "colab": {
      "name": "Week5_Métricas de regresión_FV.ipynb",
      "provenance": [],
      "collapsed_sections": []
    },
    "kernelspec": {
      "name": "python3",
      "display_name": "Python 3"
    },
    "language_info": {
      "name": "python"
    }
  },
  "cells": [
    {
      "cell_type": "markdown",
      "source": [
        "#### **Ejercicio:** Métricas de regresión\n",
        "\n",
        "**Elaborado por:** Fabian Villarreal Sosa\n",
        "\n",
        "La sección de regresión lineal utilizó R2, también conocida como el coeficiente de determinación como una métrica para evaluar el desempeño de la regresión lineal. También existen otras métricas que puedes usar para evaluar el desempeño de un modelo. Tu tarea es calcular el significado del error absoluto medio (MAE), error cuadrático medio (MSE), y la raíz del error cuadrático medio (RMSE) para el conjunto de datos y modelo de la sección de regresión lineal.\n",
        "\n",
        "Las fórmulas para cada una de estas se proporcionan más abajo. Utiliza estos, o cualquiera de los recursos disponibles (Google, etcétera) para completar esta tarea.\n",
        "\n",
        "Si los símbolos matemáticos no son de tu preferencia, deberías recordar que, aunque puedes calcular elementos desde cero, puede resultar ser una pérdida de tu tiempo. Considera usar librerías Python y Google.\n",
        "\n",
        "**Información métrica:**\n",
        "\n",
        "* **Coeficiente de determinación**\n",
        "\n",
        "  $R^{2}=1-\\frac{MSE}{Var\\left ( y \\right )}$\n",
        "\n",
        "* **Error absoluto medio (MAE):** Media del valor absoluto de los errores. Puedes considerarlo como un error común.\n",
        "\n",
        "  $\\frac{1}{n}\\sum_{i=1}^{n}|y_{i}-\\hat{y_{i}}|$\n",
        "\n",
        "* **Error cuadrático medio (MSE):** Media de los errores cuadráticos. MSE \"castiga\" a los errores más grandes, los cuales tienden a ser útiles en el mundo real. Considera que, más adelante en el curso, cuando ahondemos en cómo los algoritmos de aprendizaje automático funcionan, y que MSE es continuo y diferenciable, facilitará el uso de MAE para la optimización.\n",
        "\n",
        "  $\\frac{1}{n}\\sum_{i=1}^{n} \\left (y_{i}-\\hat{y_{i}}\\right )^{2}$\n",
        "\n",
        "* **Raíz del error cuadrático medio (RMSE):** Raíz cuadrática de la media de los errores cuadráticos. Similar a MSE, pero más popular ya que es visto como más fácil de entender que MSE.\n",
        "\n",
        "  $\\sqrt{\\frac{1}{n}\\sum_{i=1}^{n} \\left (y_{i}-\\hat{y_{i}}\\right )^{2}}$\n"
      ],
      "metadata": {
        "id": "3umCCs3WcBcT"
      }
    },
    {
      "cell_type": "code",
      "source": [
        "# Librerias\n",
        "import os\n",
        "import pandas as pd\n",
        "import numpy as np\n",
        "\n",
        "import matplotlib.pyplot as plt\n",
        "import matplotlib.ticker as mtick\n",
        "import seaborn as sns\n",
        "\n",
        "from sklearn.linear_model import LinearRegression\n",
        "\n",
        "from google.colab import drive"
      ],
      "metadata": {
        "id": "DEuuFLyJttgb"
      },
      "execution_count": 119,
      "outputs": []
    },
    {
      "cell_type": "code",
      "source": [
        "# Acceder a directorio en Google Drive\n",
        "drive.mount('/content/drive')"
      ],
      "metadata": {
        "colab": {
          "base_uri": "https://localhost:8080/"
        },
        "id": "Pl7Y2M0X6BB_",
        "outputId": "e1dc2bf8-6521-4e16-810e-dbf21d36d54a"
      },
      "execution_count": 120,
      "outputs": [
        {
          "output_type": "stream",
          "name": "stdout",
          "text": [
            "Drive already mounted at /content/drive; to attempt to forcibly remount, call drive.mount(\"/content/drive\", force_remount=True).\n"
          ]
        }
      ]
    },
    {
      "cell_type": "code",
      "source": [
        "# Determinar directorio\n",
        "os.chdir('/content/drive/MyDrive/Coding Dojo/Datos')\n",
        "os.getcwd()"
      ],
      "metadata": {
        "colab": {
          "base_uri": "https://localhost:8080/",
          "height": 36
        },
        "id": "xDmxVrTN6AJc",
        "outputId": "03718b4f-5e82-490a-e48c-446515a4264f"
      },
      "execution_count": 121,
      "outputs": [
        {
          "output_type": "execute_result",
          "data": {
            "application/vnd.google.colaboratory.intrinsic+json": {
              "type": "string"
            },
            "text/plain": [
              "'/content/drive/MyDrive/Coding Dojo/Datos'"
            ]
          },
          "metadata": {},
          "execution_count": 121
        }
      ]
    },
    {
      "cell_type": "code",
      "source": [
        "# Cargar datos\n",
        "df=pd.read_csv('modifiedBostonHousing.csv')\n",
        "df.head()"
      ],
      "metadata": {
        "colab": {
          "base_uri": "https://localhost:8080/",
          "height": 206
        },
        "id": "leBqDJ_qeCWE",
        "outputId": "933e8796-4ac2-46c1-85c9-b4ddfd715c11"
      },
      "execution_count": 122,
      "outputs": [
        {
          "output_type": "execute_result",
          "data": {
            "text/html": [
              "\n",
              "  <div id=\"df-48755a0c-a430-409d-bd61-b92d3f180bd7\">\n",
              "    <div class=\"colab-df-container\">\n",
              "      <div>\n",
              "<style scoped>\n",
              "    .dataframe tbody tr th:only-of-type {\n",
              "        vertical-align: middle;\n",
              "    }\n",
              "\n",
              "    .dataframe tbody tr th {\n",
              "        vertical-align: top;\n",
              "    }\n",
              "\n",
              "    .dataframe thead th {\n",
              "        text-align: right;\n",
              "    }\n",
              "</style>\n",
              "<table border=\"1\" class=\"dataframe\">\n",
              "  <thead>\n",
              "    <tr style=\"text-align: right;\">\n",
              "      <th></th>\n",
              "      <th>CRIM</th>\n",
              "      <th>ZN</th>\n",
              "      <th>INDUS</th>\n",
              "      <th>CHAS</th>\n",
              "      <th>NOX</th>\n",
              "      <th>RM</th>\n",
              "      <th>AGE</th>\n",
              "      <th>DIS</th>\n",
              "      <th>RAD</th>\n",
              "      <th>TAX</th>\n",
              "      <th>PTRATIO</th>\n",
              "      <th>B</th>\n",
              "      <th>LSTAT</th>\n",
              "      <th>price</th>\n",
              "    </tr>\n",
              "  </thead>\n",
              "  <tbody>\n",
              "    <tr>\n",
              "      <th>0</th>\n",
              "      <td>0.00632</td>\n",
              "      <td>18.0</td>\n",
              "      <td>2.31</td>\n",
              "      <td>0.0</td>\n",
              "      <td>0.538</td>\n",
              "      <td>6.575</td>\n",
              "      <td>65.2</td>\n",
              "      <td>4.0900</td>\n",
              "      <td>1.0</td>\n",
              "      <td>296.0</td>\n",
              "      <td>15.3</td>\n",
              "      <td>396.90</td>\n",
              "      <td>4.98</td>\n",
              "      <td>24.0</td>\n",
              "    </tr>\n",
              "    <tr>\n",
              "      <th>1</th>\n",
              "      <td>0.02731</td>\n",
              "      <td>0.0</td>\n",
              "      <td>7.07</td>\n",
              "      <td>0.0</td>\n",
              "      <td>0.469</td>\n",
              "      <td>6.421</td>\n",
              "      <td>78.9</td>\n",
              "      <td>4.9671</td>\n",
              "      <td>2.0</td>\n",
              "      <td>242.0</td>\n",
              "      <td>17.8</td>\n",
              "      <td>396.90</td>\n",
              "      <td>9.14</td>\n",
              "      <td>21.6</td>\n",
              "    </tr>\n",
              "    <tr>\n",
              "      <th>2</th>\n",
              "      <td>0.02729</td>\n",
              "      <td>0.0</td>\n",
              "      <td>7.07</td>\n",
              "      <td>0.0</td>\n",
              "      <td>0.469</td>\n",
              "      <td>7.185</td>\n",
              "      <td>61.1</td>\n",
              "      <td>4.9671</td>\n",
              "      <td>2.0</td>\n",
              "      <td>242.0</td>\n",
              "      <td>17.8</td>\n",
              "      <td>392.83</td>\n",
              "      <td>4.03</td>\n",
              "      <td>34.7</td>\n",
              "    </tr>\n",
              "    <tr>\n",
              "      <th>3</th>\n",
              "      <td>0.03237</td>\n",
              "      <td>0.0</td>\n",
              "      <td>2.18</td>\n",
              "      <td>0.0</td>\n",
              "      <td>0.458</td>\n",
              "      <td>6.998</td>\n",
              "      <td>45.8</td>\n",
              "      <td>6.0622</td>\n",
              "      <td>3.0</td>\n",
              "      <td>222.0</td>\n",
              "      <td>18.7</td>\n",
              "      <td>394.63</td>\n",
              "      <td>2.94</td>\n",
              "      <td>33.4</td>\n",
              "    </tr>\n",
              "    <tr>\n",
              "      <th>4</th>\n",
              "      <td>0.06905</td>\n",
              "      <td>0.0</td>\n",
              "      <td>2.18</td>\n",
              "      <td>0.0</td>\n",
              "      <td>0.458</td>\n",
              "      <td>7.147</td>\n",
              "      <td>54.2</td>\n",
              "      <td>6.0622</td>\n",
              "      <td>3.0</td>\n",
              "      <td>222.0</td>\n",
              "      <td>18.7</td>\n",
              "      <td>396.90</td>\n",
              "      <td>5.33</td>\n",
              "      <td>36.2</td>\n",
              "    </tr>\n",
              "  </tbody>\n",
              "</table>\n",
              "</div>\n",
              "      <button class=\"colab-df-convert\" onclick=\"convertToInteractive('df-48755a0c-a430-409d-bd61-b92d3f180bd7')\"\n",
              "              title=\"Convert this dataframe to an interactive table.\"\n",
              "              style=\"display:none;\">\n",
              "        \n",
              "  <svg xmlns=\"http://www.w3.org/2000/svg\" height=\"24px\"viewBox=\"0 0 24 24\"\n",
              "       width=\"24px\">\n",
              "    <path d=\"M0 0h24v24H0V0z\" fill=\"none\"/>\n",
              "    <path d=\"M18.56 5.44l.94 2.06.94-2.06 2.06-.94-2.06-.94-.94-2.06-.94 2.06-2.06.94zm-11 1L8.5 8.5l.94-2.06 2.06-.94-2.06-.94L8.5 2.5l-.94 2.06-2.06.94zm10 10l.94 2.06.94-2.06 2.06-.94-2.06-.94-.94-2.06-.94 2.06-2.06.94z\"/><path d=\"M17.41 7.96l-1.37-1.37c-.4-.4-.92-.59-1.43-.59-.52 0-1.04.2-1.43.59L10.3 9.45l-7.72 7.72c-.78.78-.78 2.05 0 2.83L4 21.41c.39.39.9.59 1.41.59.51 0 1.02-.2 1.41-.59l7.78-7.78 2.81-2.81c.8-.78.8-2.07 0-2.86zM5.41 20L4 18.59l7.72-7.72 1.47 1.35L5.41 20z\"/>\n",
              "  </svg>\n",
              "      </button>\n",
              "      \n",
              "  <style>\n",
              "    .colab-df-container {\n",
              "      display:flex;\n",
              "      flex-wrap:wrap;\n",
              "      gap: 12px;\n",
              "    }\n",
              "\n",
              "    .colab-df-convert {\n",
              "      background-color: #E8F0FE;\n",
              "      border: none;\n",
              "      border-radius: 50%;\n",
              "      cursor: pointer;\n",
              "      display: none;\n",
              "      fill: #1967D2;\n",
              "      height: 32px;\n",
              "      padding: 0 0 0 0;\n",
              "      width: 32px;\n",
              "    }\n",
              "\n",
              "    .colab-df-convert:hover {\n",
              "      background-color: #E2EBFA;\n",
              "      box-shadow: 0px 1px 2px rgba(60, 64, 67, 0.3), 0px 1px 3px 1px rgba(60, 64, 67, 0.15);\n",
              "      fill: #174EA6;\n",
              "    }\n",
              "\n",
              "    [theme=dark] .colab-df-convert {\n",
              "      background-color: #3B4455;\n",
              "      fill: #D2E3FC;\n",
              "    }\n",
              "\n",
              "    [theme=dark] .colab-df-convert:hover {\n",
              "      background-color: #434B5C;\n",
              "      box-shadow: 0px 1px 3px 1px rgba(0, 0, 0, 0.15);\n",
              "      filter: drop-shadow(0px 1px 2px rgba(0, 0, 0, 0.3));\n",
              "      fill: #FFFFFF;\n",
              "    }\n",
              "  </style>\n",
              "\n",
              "      <script>\n",
              "        const buttonEl =\n",
              "          document.querySelector('#df-48755a0c-a430-409d-bd61-b92d3f180bd7 button.colab-df-convert');\n",
              "        buttonEl.style.display =\n",
              "          google.colab.kernel.accessAllowed ? 'block' : 'none';\n",
              "\n",
              "        async function convertToInteractive(key) {\n",
              "          const element = document.querySelector('#df-48755a0c-a430-409d-bd61-b92d3f180bd7');\n",
              "          const dataTable =\n",
              "            await google.colab.kernel.invokeFunction('convertToInteractive',\n",
              "                                                     [key], {});\n",
              "          if (!dataTable) return;\n",
              "\n",
              "          const docLinkHtml = 'Like what you see? Visit the ' +\n",
              "            '<a target=\"_blank\" href=https://colab.research.google.com/notebooks/data_table.ipynb>data table notebook</a>'\n",
              "            + ' to learn more about interactive tables.';\n",
              "          element.innerHTML = '';\n",
              "          dataTable['output_type'] = 'display_data';\n",
              "          await google.colab.output.renderOutput(dataTable, element);\n",
              "          const docLink = document.createElement('div');\n",
              "          docLink.innerHTML = docLinkHtml;\n",
              "          element.appendChild(docLink);\n",
              "        }\n",
              "      </script>\n",
              "    </div>\n",
              "  </div>\n",
              "  "
            ],
            "text/plain": [
              "      CRIM    ZN  INDUS  CHAS    NOX  ...    TAX  PTRATIO       B  LSTAT  price\n",
              "0  0.00632  18.0   2.31   0.0  0.538  ...  296.0     15.3  396.90   4.98   24.0\n",
              "1  0.02731   0.0   7.07   0.0  0.469  ...  242.0     17.8  396.90   9.14   21.6\n",
              "2  0.02729   0.0   7.07   0.0  0.469  ...  242.0     17.8  392.83   4.03   34.7\n",
              "3  0.03237   0.0   2.18   0.0  0.458  ...  222.0     18.7  394.63   2.94   33.4\n",
              "4  0.06905   0.0   2.18   0.0  0.458  ...  222.0     18.7  396.90   5.33   36.2\n",
              "\n",
              "[5 rows x 14 columns]"
            ]
          },
          "metadata": {},
          "execution_count": 122
        }
      ]
    },
    {
      "cell_type": "code",
      "source": [
        "df.shape"
      ],
      "metadata": {
        "colab": {
          "base_uri": "https://localhost:8080/"
        },
        "id": "0ucpoQZ3TfsE",
        "outputId": "79d54e99-bfd1-482d-8387-f0d9ce2aaa87"
      },
      "execution_count": 123,
      "outputs": [
        {
          "output_type": "execute_result",
          "data": {
            "text/plain": [
              "(506, 14)"
            ]
          },
          "metadata": {},
          "execution_count": 123
        }
      ]
    },
    {
      "cell_type": "code",
      "source": [
        "# Variables de interes\n",
        "df=df.loc[:, ['RM', 'LSTAT', 'PTRATIO', 'price']]\n",
        "df.head()"
      ],
      "metadata": {
        "colab": {
          "base_uri": "https://localhost:8080/",
          "height": 206
        },
        "id": "AVJMdmZ8T1--",
        "outputId": "39005cd1-14b7-4615-bc7b-6c8a88f65d2a"
      },
      "execution_count": 124,
      "outputs": [
        {
          "output_type": "execute_result",
          "data": {
            "text/html": [
              "\n",
              "  <div id=\"df-5ae5169d-3e04-4964-90a9-a98c8f6c85a8\">\n",
              "    <div class=\"colab-df-container\">\n",
              "      <div>\n",
              "<style scoped>\n",
              "    .dataframe tbody tr th:only-of-type {\n",
              "        vertical-align: middle;\n",
              "    }\n",
              "\n",
              "    .dataframe tbody tr th {\n",
              "        vertical-align: top;\n",
              "    }\n",
              "\n",
              "    .dataframe thead th {\n",
              "        text-align: right;\n",
              "    }\n",
              "</style>\n",
              "<table border=\"1\" class=\"dataframe\">\n",
              "  <thead>\n",
              "    <tr style=\"text-align: right;\">\n",
              "      <th></th>\n",
              "      <th>RM</th>\n",
              "      <th>LSTAT</th>\n",
              "      <th>PTRATIO</th>\n",
              "      <th>price</th>\n",
              "    </tr>\n",
              "  </thead>\n",
              "  <tbody>\n",
              "    <tr>\n",
              "      <th>0</th>\n",
              "      <td>6.575</td>\n",
              "      <td>4.98</td>\n",
              "      <td>15.3</td>\n",
              "      <td>24.0</td>\n",
              "    </tr>\n",
              "    <tr>\n",
              "      <th>1</th>\n",
              "      <td>6.421</td>\n",
              "      <td>9.14</td>\n",
              "      <td>17.8</td>\n",
              "      <td>21.6</td>\n",
              "    </tr>\n",
              "    <tr>\n",
              "      <th>2</th>\n",
              "      <td>7.185</td>\n",
              "      <td>4.03</td>\n",
              "      <td>17.8</td>\n",
              "      <td>34.7</td>\n",
              "    </tr>\n",
              "    <tr>\n",
              "      <th>3</th>\n",
              "      <td>6.998</td>\n",
              "      <td>2.94</td>\n",
              "      <td>18.7</td>\n",
              "      <td>33.4</td>\n",
              "    </tr>\n",
              "    <tr>\n",
              "      <th>4</th>\n",
              "      <td>7.147</td>\n",
              "      <td>5.33</td>\n",
              "      <td>18.7</td>\n",
              "      <td>36.2</td>\n",
              "    </tr>\n",
              "  </tbody>\n",
              "</table>\n",
              "</div>\n",
              "      <button class=\"colab-df-convert\" onclick=\"convertToInteractive('df-5ae5169d-3e04-4964-90a9-a98c8f6c85a8')\"\n",
              "              title=\"Convert this dataframe to an interactive table.\"\n",
              "              style=\"display:none;\">\n",
              "        \n",
              "  <svg xmlns=\"http://www.w3.org/2000/svg\" height=\"24px\"viewBox=\"0 0 24 24\"\n",
              "       width=\"24px\">\n",
              "    <path d=\"M0 0h24v24H0V0z\" fill=\"none\"/>\n",
              "    <path d=\"M18.56 5.44l.94 2.06.94-2.06 2.06-.94-2.06-.94-.94-2.06-.94 2.06-2.06.94zm-11 1L8.5 8.5l.94-2.06 2.06-.94-2.06-.94L8.5 2.5l-.94 2.06-2.06.94zm10 10l.94 2.06.94-2.06 2.06-.94-2.06-.94-.94-2.06-.94 2.06-2.06.94z\"/><path d=\"M17.41 7.96l-1.37-1.37c-.4-.4-.92-.59-1.43-.59-.52 0-1.04.2-1.43.59L10.3 9.45l-7.72 7.72c-.78.78-.78 2.05 0 2.83L4 21.41c.39.39.9.59 1.41.59.51 0 1.02-.2 1.41-.59l7.78-7.78 2.81-2.81c.8-.78.8-2.07 0-2.86zM5.41 20L4 18.59l7.72-7.72 1.47 1.35L5.41 20z\"/>\n",
              "  </svg>\n",
              "      </button>\n",
              "      \n",
              "  <style>\n",
              "    .colab-df-container {\n",
              "      display:flex;\n",
              "      flex-wrap:wrap;\n",
              "      gap: 12px;\n",
              "    }\n",
              "\n",
              "    .colab-df-convert {\n",
              "      background-color: #E8F0FE;\n",
              "      border: none;\n",
              "      border-radius: 50%;\n",
              "      cursor: pointer;\n",
              "      display: none;\n",
              "      fill: #1967D2;\n",
              "      height: 32px;\n",
              "      padding: 0 0 0 0;\n",
              "      width: 32px;\n",
              "    }\n",
              "\n",
              "    .colab-df-convert:hover {\n",
              "      background-color: #E2EBFA;\n",
              "      box-shadow: 0px 1px 2px rgba(60, 64, 67, 0.3), 0px 1px 3px 1px rgba(60, 64, 67, 0.15);\n",
              "      fill: #174EA6;\n",
              "    }\n",
              "\n",
              "    [theme=dark] .colab-df-convert {\n",
              "      background-color: #3B4455;\n",
              "      fill: #D2E3FC;\n",
              "    }\n",
              "\n",
              "    [theme=dark] .colab-df-convert:hover {\n",
              "      background-color: #434B5C;\n",
              "      box-shadow: 0px 1px 3px 1px rgba(0, 0, 0, 0.15);\n",
              "      filter: drop-shadow(0px 1px 2px rgba(0, 0, 0, 0.3));\n",
              "      fill: #FFFFFF;\n",
              "    }\n",
              "  </style>\n",
              "\n",
              "      <script>\n",
              "        const buttonEl =\n",
              "          document.querySelector('#df-5ae5169d-3e04-4964-90a9-a98c8f6c85a8 button.colab-df-convert');\n",
              "        buttonEl.style.display =\n",
              "          google.colab.kernel.accessAllowed ? 'block' : 'none';\n",
              "\n",
              "        async function convertToInteractive(key) {\n",
              "          const element = document.querySelector('#df-5ae5169d-3e04-4964-90a9-a98c8f6c85a8');\n",
              "          const dataTable =\n",
              "            await google.colab.kernel.invokeFunction('convertToInteractive',\n",
              "                                                     [key], {});\n",
              "          if (!dataTable) return;\n",
              "\n",
              "          const docLinkHtml = 'Like what you see? Visit the ' +\n",
              "            '<a target=\"_blank\" href=https://colab.research.google.com/notebooks/data_table.ipynb>data table notebook</a>'\n",
              "            + ' to learn more about interactive tables.';\n",
              "          element.innerHTML = '';\n",
              "          dataTable['output_type'] = 'display_data';\n",
              "          await google.colab.output.renderOutput(dataTable, element);\n",
              "          const docLink = document.createElement('div');\n",
              "          docLink.innerHTML = docLinkHtml;\n",
              "          element.appendChild(docLink);\n",
              "        }\n",
              "      </script>\n",
              "    </div>\n",
              "  </div>\n",
              "  "
            ],
            "text/plain": [
              "      RM  LSTAT  PTRATIO  price\n",
              "0  6.575   4.98     15.3   24.0\n",
              "1  6.421   9.14     17.8   21.6\n",
              "2  7.185   4.03     17.8   34.7\n",
              "3  6.998   2.94     18.7   33.4\n",
              "4  7.147   5.33     18.7   36.2"
            ]
          },
          "metadata": {},
          "execution_count": 124
        }
      ]
    },
    {
      "cell_type": "code",
      "source": [
        "# Ver si existen valores perdidos\n",
        "columns_nans=df.columns[df.isna().any()] # que contenga al menos un valor perdido\n",
        "df[columns_nans].isna().sum()"
      ],
      "metadata": {
        "colab": {
          "base_uri": "https://localhost:8080/"
        },
        "id": "xB1bRCbMgeFe",
        "outputId": "afa16734-fb97-4185-8060-9e7ae994c912"
      },
      "execution_count": 125,
      "outputs": [
        {
          "output_type": "execute_result",
          "data": {
            "text/plain": [
              "price    1\n",
              "dtype: int64"
            ]
          },
          "metadata": {},
          "execution_count": 125
        }
      ]
    },
    {
      "cell_type": "code",
      "source": [
        "# Quitar valor perdido\n",
        "df=df.dropna(how='any')\n",
        "\n",
        "df.isna().sum()"
      ],
      "metadata": {
        "colab": {
          "base_uri": "https://localhost:8080/"
        },
        "id": "UPeT52EqgxQT",
        "outputId": "6b070290-e127-44a8-9c57-9823725e5f34"
      },
      "execution_count": 126,
      "outputs": [
        {
          "output_type": "execute_result",
          "data": {
            "text/plain": [
              "RM         0\n",
              "LSTAT      0\n",
              "PTRATIO    0\n",
              "price      0\n",
              "dtype: int64"
            ]
          },
          "metadata": {},
          "execution_count": 126
        }
      ]
    },
    {
      "cell_type": "code",
      "source": [
        "# Eliminar precios negativos\n",
        "price_filter=df.loc[:, 'price']<0\n",
        "df=df.loc[~price_filter, :]"
      ],
      "metadata": {
        "id": "X1MPnMPyeCbA"
      },
      "execution_count": 127,
      "outputs": []
    },
    {
      "cell_type": "code",
      "source": [
        "# Ver relacion lineal entre las variables\n",
        "fig, axes=plt.subplots(nrows=1, ncols=3, figsize=(10,2), dpi=100)\n",
        "sns.regplot(data=df, x='RM', y='price', ci=None, scatter_kws={'alpha': 0.1}, ax=axes[0])\n",
        "sns.regplot(data=df, x='LSTAT', y='price', ci=None, scatter_kws={'alpha': 0.1}, ax=axes[1])\n",
        "sns.regplot(data=df, x='PTRATIO', y='price', ci=None, scatter_kws={'alpha': 0.1}, ax=axes[2])\n",
        "fig.tight_layout()"
      ],
      "metadata": {
        "colab": {
          "base_uri": "https://localhost:8080/",
          "height": 207
        },
        "id": "hCEfO9H6eiZO",
        "outputId": "41eaee11-3068-4ad5-fe72-f57c1d81e5d6"
      },
      "execution_count": 128,
      "outputs": [
        {
          "output_type": "display_data",
          "data": {
            "image/png": "[encoded data removed]",
            "text/plain": [
              "<Figure size 1000x200 with 3 Axes>"
            ]
          },
          "metadata": {
            "needs_background": "light"
          }
        }
      ]
    },
    {
      "cell_type": "code",
      "source": [
        "df['price'].isna().sum()"
      ],
      "metadata": {
        "colab": {
          "base_uri": "https://localhost:8080/"
        },
        "id": "9u4jVyrVgUuF",
        "outputId": "d5bdcc40-cb68-4fe0-854a-cbb04e1b177c"
      },
      "execution_count": 129,
      "outputs": [
        {
          "output_type": "execute_result",
          "data": {
            "text/plain": [
              "0"
            ]
          },
          "metadata": {},
          "execution_count": 129
        }
      ]
    },
    {
      "cell_type": "markdown",
      "source": [
        "**Organización de datos en la matriz de características y el vector de destino**"
      ],
      "metadata": {
        "id": "s4aNxEPBiEkB"
      }
    },
    {
      "cell_type": "markdown",
      "source": [
        "**Ecuación a estimar**\n",
        "\n",
        "$price_{i} = \\beta_{0} + \\beta_{1}RM_{i} + \\beta_{2}LSTAT_{i} +\\beta_{3} PTRATIO_{i} + u_{i}$"
      ],
      "metadata": {
        "id": "_lZw19d6es0d"
      }
    },
    {
      "cell_type": "code",
      "source": [
        "# Matriz de caracteristicas\n",
        "\n",
        "X_var=['RM', 'LSTAT', 'PTRATIO']\n",
        "X=df.loc[:, X_var].to_numpy()\n",
        "X.shape"
      ],
      "metadata": {
        "colab": {
          "base_uri": "https://localhost:8080/"
        },
        "id": "LaMbhNjOfaFY",
        "outputId": "c79bf9ae-7abc-4b10-fc09-14bddddf5704"
      },
      "execution_count": 130,
      "outputs": [
        {
          "output_type": "execute_result",
          "data": {
            "text/plain": [
              "(404, 3)"
            ]
          },
          "metadata": {},
          "execution_count": 130
        }
      ]
    },
    {
      "cell_type": "code",
      "source": [
        "# Vector de destino\n",
        "\n",
        "y=df.loc[:, 'price'].to_numpy()\n",
        "y.shape"
      ],
      "metadata": {
        "colab": {
          "base_uri": "https://localhost:8080/"
        },
        "id": "AK1A2Wx4iQVc",
        "outputId": "1f172ce8-e049-4b75-8ecf-b53fd0cdac31"
      },
      "execution_count": 131,
      "outputs": [
        {
          "output_type": "execute_result",
          "data": {
            "text/plain": [
              "(404,)"
            ]
          },
          "metadata": {},
          "execution_count": 131
        }
      ]
    },
    {
      "cell_type": "code",
      "source": [
        "# Crear instancia del modelo de regresion lineal\n",
        "ols=LinearRegression(fit_intercept=True) # Regresion lineal con constante"
      ],
      "metadata": {
        "id": "iD6-VBRSeieI"
      },
      "execution_count": 132,
      "outputs": []
    },
    {
      "cell_type": "code",
      "source": [
        "# Estimar el modelo\n",
        "ols.fit(X, y)"
      ],
      "metadata": {
        "colab": {
          "base_uri": "https://localhost:8080/"
        },
        "id": "61A6fX2zeigr",
        "outputId": "e1ccaef3-f80d-4d0b-caef-582dae9ad05b"
      },
      "execution_count": 133,
      "outputs": [
        {
          "output_type": "execute_result",
          "data": {
            "text/plain": [
              "LinearRegression()"
            ]
          },
          "metadata": {},
          "execution_count": 133
        }
      ]
    },
    {
      "cell_type": "code",
      "source": [
        "# Predecir valores\n",
        "y_hat=ols.predict(X);"
      ],
      "metadata": {
        "id": "N-H8nxqDeii4"
      },
      "execution_count": 134,
      "outputs": []
    },
    {
      "cell_type": "code",
      "source": [
        "# Coeficientes de variables explicativas\n",
        "ols.coef_"
      ],
      "metadata": {
        "colab": {
          "base_uri": "https://localhost:8080/"
        },
        "id": "3hcv-kBLfork",
        "outputId": "0241b6b5-14ea-4919-ae93-76d05bf8b9f9"
      },
      "execution_count": 135,
      "outputs": [
        {
          "output_type": "execute_result",
          "data": {
            "text/plain": [
              "array([ 6.61452725, -0.44571061, -1.00672009])"
            ]
          },
          "metadata": {},
          "execution_count": 135
        }
      ]
    },
    {
      "cell_type": "code",
      "source": [
        "# Constante del modelo\n",
        "ols.intercept_"
      ],
      "metadata": {
        "colab": {
          "base_uri": "https://localhost:8080/"
        },
        "id": "Elqhgkf4fouQ",
        "outputId": "3eb97dbb-0f11-43f7-d442-2f8f76520061"
      },
      "execution_count": 136,
      "outputs": [
        {
          "output_type": "execute_result",
          "data": {
            "text/plain": [
              "5.068862183051461"
            ]
          },
          "metadata": {},
          "execution_count": 136
        }
      ]
    },
    {
      "cell_type": "code",
      "source": [
        "# Ecuacion estimada\n",
        "b1=ols.coef_[0]\n",
        "b2=ols.coef_[1]\n",
        "b3=ols.coef_[2]\n",
        "b0=ols.intercept_\n",
        "\n",
        "print('Equation: price = {:.2f} + {:.2f}*RM + {:.2f}*LSTAT + {:.2f}*PTRATIO'.format(b0, b1, b2, b3))"
      ],
      "metadata": {
        "colab": {
          "base_uri": "https://localhost:8080/"
        },
        "id": "WYShFtHUeilK",
        "outputId": "be32c2dd-ca21-4e55-e87f-da958348fa55"
      },
      "execution_count": 137,
      "outputs": [
        {
          "output_type": "stream",
          "name": "stdout",
          "text": [
            "Equation: price = 5.07 + 6.61*RM + -0.45*LSTAT + -1.01*PTRATIO\n"
          ]
        }
      ]
    },
    {
      "cell_type": "markdown",
      "source": [
        "Definiciones con base en:\n",
        "\n",
        "Wooldridge, J. (2015). *Introductory Econometrics: A Modern Approach*. Cengage Learning."
      ],
      "metadata": {
        "id": "sJQ-P0sUivjH"
      }
    },
    {
      "cell_type": "code",
      "source": [
        "# Fuente:\n",
        "# https://towardsdatascience.com/linear-regression-in-python-9a1f5f000606\n",
        "\n",
        "from sklearn import metrics"
      ],
      "metadata": {
        "id": "fO6lMOaPjzcU"
      },
      "execution_count": 138,
      "outputs": []
    },
    {
      "cell_type": "markdown",
      "source": [
        "**Coeficiente de determinación**: Es la relación entre la variación explicada y la variación total. Se interpreta como la fracción de la variación muestral en $y$ que es explicada por $x$. \n",
        "\n",
        "  $R^{2}=1-\\frac{MSE}{Var\\left ( y \\right )}$"
      ],
      "metadata": {
        "id": "zqyP6OYLeBRE"
      }
    },
    {
      "cell_type": "code",
      "source": [
        "# R2/Coeficiente de determinacion\n",
        "r2_v1=ols.score(X, y)\n",
        "r2_v1"
      ],
      "metadata": {
        "colab": {
          "base_uri": "https://localhost:8080/"
        },
        "id": "SQE3kw3Wd6Wq",
        "outputId": "fafa035c-f634-4ddb-cd2b-0972fd94db76"
      },
      "execution_count": 139,
      "outputs": [
        {
          "output_type": "execute_result",
          "data": {
            "text/plain": [
              "0.7848414273030438"
            ]
          },
          "metadata": {},
          "execution_count": 139
        }
      ]
    },
    {
      "cell_type": "code",
      "source": [
        "MSE=metrics.mean_squared_error(y, y_hat)\n",
        "var_y=np.var(y)\n",
        "\n",
        "r2_v2=1-MSE/var_y\n",
        "r2_v2"
      ],
      "metadata": {
        "colab": {
          "base_uri": "https://localhost:8080/"
        },
        "id": "yjMyeODVjY9c",
        "outputId": "f0d99cc5-35fb-485d-c957-af500e73c10b"
      },
      "execution_count": 140,
      "outputs": [
        {
          "output_type": "execute_result",
          "data": {
            "text/plain": [
              "0.7848414273030438"
            ]
          },
          "metadata": {},
          "execution_count": 140
        }
      ]
    },
    {
      "cell_type": "markdown",
      "source": [
        "**Error absoluto medio (MAE):** Media del valor absoluto de los errores. Puedes considerarlo como un error común.\n",
        "\n",
        "Es el promedio de los errores de pronóstico absolutos. Se prefiere un MAE pequeño. \n",
        "\n",
        "  $\\frac{1}{n}\\sum_{i=1}^{n}|y_{i}-\\hat{y_{i}}|$"
      ],
      "metadata": {
        "id": "uYjn0kVJlb2E"
      }
    },
    {
      "cell_type": "code",
      "source": [
        "# MAE\n",
        "MAE_v1=metrics.mean_absolute_error(y, y_hat)\n",
        "MAE_v1"
      ],
      "metadata": {
        "colab": {
          "base_uri": "https://localhost:8080/"
        },
        "id": "SyxiYC7UlN9R",
        "outputId": "8ef870f6-3e19-4506-a20f-a2b4190edff4"
      },
      "execution_count": 141,
      "outputs": [
        {
          "output_type": "execute_result",
          "data": {
            "text/plain": [
              "3.2313558816689714"
            ]
          },
          "metadata": {},
          "execution_count": 141
        }
      ]
    },
    {
      "cell_type": "code",
      "source": [
        "n=y.shape[0]\n",
        "sum_abs_y_yhat=np.sum(np.absolute(y-y_hat))\n",
        "\n",
        "MAE_v2=1/n*sum_abs_y_yhat\n",
        "MAE_v2"
      ],
      "metadata": {
        "colab": {
          "base_uri": "https://localhost:8080/"
        },
        "id": "KTdIGDR2mOnk",
        "outputId": "64dea1f2-bfd1-4f50-8326-cd2d355214ce"
      },
      "execution_count": 142,
      "outputs": [
        {
          "output_type": "execute_result",
          "data": {
            "text/plain": [
              "3.2313558816689714"
            ]
          },
          "metadata": {},
          "execution_count": 142
        }
      ]
    },
    {
      "cell_type": "markdown",
      "source": [
        "**Error cuadrático medio (MSE):** Media de los errores cuadráticos. MSE \"castiga\" a los errores más grandes, los cuales tienden a ser útiles en el mundo real. Considera que, más adelante en el curso, cuando ahondemos en cómo los algoritmos de aprendizaje automático funcionan, y que MSE es continuo y diferenciable, facilitará el uso de MAE para la optimización.\n",
        "\n",
        "Representa el error promedio o diferencia promedio entre el valor real y el valor predicho.\n",
        "\n",
        "  $\\frac{1}{n}\\sum_{i=1}^{n} \\left (y_{i}-\\hat{y_{i}}\\right )^{2}$"
      ],
      "metadata": {
        "id": "CRk6-cscmwdF"
      }
    },
    {
      "cell_type": "code",
      "source": [
        "# MSE\n",
        "MSE_v1=metrics.mean_squared_error(y, y_hat)\n",
        "MSE_v1"
      ],
      "metadata": {
        "colab": {
          "base_uri": "https://localhost:8080/"
        },
        "id": "hCG3k_NJn_7J",
        "outputId": "e57134ba-1075-4190-a0d6-2d405eba8f2a"
      },
      "execution_count": 143,
      "outputs": [
        {
          "output_type": "execute_result",
          "data": {
            "text/plain": [
              "17.915487275260496"
            ]
          },
          "metadata": {},
          "execution_count": 143
        }
      ]
    },
    {
      "cell_type": "code",
      "source": [
        "n=y.shape[0]\n",
        "sum_y_yhat2=np.sum((y-y_hat)**2)\n",
        "\n",
        "MSE_v2=1/n*sum_y_yhat2\n",
        "MSE_v2"
      ],
      "metadata": {
        "colab": {
          "base_uri": "https://localhost:8080/"
        },
        "id": "p8ft-R4fn_9e",
        "outputId": "2b152f2d-6177-46c8-a87b-8f7f8cc1ff0d"
      },
      "execution_count": 144,
      "outputs": [
        {
          "output_type": "execute_result",
          "data": {
            "text/plain": [
              "17.915487275260496"
            ]
          },
          "metadata": {},
          "execution_count": 144
        }
      ]
    },
    {
      "cell_type": "markdown",
      "source": [
        "**Raíz del error cuadrático medio (RMSE):** Raíz cuadrática de la media de los errores cuadráticos. Similar a MSE, pero más popular ya que es visto como más fácil de entender que MSE.\n",
        "\n",
        "Es la desviación estándar de la muestra de los errores de pronóstico. \n",
        "\n",
        "  $\\sqrt{\\frac{1}{n}\\sum_{i=1}^{n} \\left (y_{i}-\\hat{y_{i}}\\right )^{2}}$"
      ],
      "metadata": {
        "id": "FIaYvSCGolx4"
      }
    },
    {
      "cell_type": "code",
      "source": [
        "# RMSE\n",
        "RMSE_v1=np.sqrt(metrics.mean_squared_error(y, y_hat))\n",
        "RMSE_v1"
      ],
      "metadata": {
        "colab": {
          "base_uri": "https://localhost:8080/"
        },
        "id": "YgOuhw1XoAAB",
        "outputId": "888a2a92-ed98-4168-d5aa-2e957e65c7f4"
      },
      "execution_count": 145,
      "outputs": [
        {
          "output_type": "execute_result",
          "data": {
            "text/plain": [
              "4.232669048633556"
            ]
          },
          "metadata": {},
          "execution_count": 145
        }
      ]
    },
    {
      "cell_type": "code",
      "source": [
        "RMSE_v2=np.sqrt(MSE_v2)\n",
        "RMSE_v2"
      ],
      "metadata": {
        "colab": {
          "base_uri": "https://localhost:8080/"
        },
        "id": "wH99aPHmmWUR",
        "outputId": "1fd14cec-2a6f-4835-89d0-f44c086095c2"
      },
      "execution_count": 146,
      "outputs": [
        {
          "output_type": "execute_result",
          "data": {
            "text/plain": [
              "4.232669048633556"
            ]
          },
          "metadata": {},
          "execution_count": 146
        }
      ]
    }
  ]
}