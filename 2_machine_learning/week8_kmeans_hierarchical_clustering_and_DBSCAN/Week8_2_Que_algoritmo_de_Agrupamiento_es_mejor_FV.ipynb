{
  "nbformat": 4,
  "nbformat_minor": 0,
  "metadata": {
    "colab": {
      "name": "Week8_2_Que algoritmo de Agrupamiento es mejor_FV.ipynb",
      "provenance": [],
      "collapsed_sections": []
    },
    "kernelspec": {
      "name": "python3",
      "display_name": "Python 3"
    },
    "language_info": {
      "name": "python"
    }
  },
  "cells": [
    {
      "cell_type": "markdown",
      "source": [
        "#### **Ejercicio:** ¿Qué algoritmo de Agrupamiento es mejor?\n",
        "\n",
        "**Elaborado por:** Fabian Villarreal Sosa\n",
        "\n",
        "**Tarea**\n",
        "\n",
        "Tu tarea es construir a partir de tu trabajo de segmentación de clientes utilizando KMeans de antes en este capítulo. Ahora, queremos usar métodos de agrupamiento adicionales y seleccionar el mejor algoritmo de agrupamiento para esta tarea. Realiza la segmentación de clientes mediante KMeans, agrupación jerárquica en clústeres y DBSCAN. Nos interesa agrupar a nuestros clientes en grupos basados en características similares. Esto puede ayudar a la empresa a asignar recursos de marketing de forma eficaz. Usaremos la edad del cliente, la educación, los años de empleo, los ingresos, la deuda, si incumplieron y la relación deuda: ingresos para agruparlos en segmentos. Puedes descargar los datos aquí. La fuente original proviene de esta fuente.\n",
        "\n",
        "https://github.com/Nikhil-Adithyan/Customer-Segmentation-with-K-Means\n",
        "\n",
        "**Parte 1**\n",
        "\n",
        "Utiliza KMeans, agrupación jerárquica, y DBSCAN para crear varios segmentos de clientes. Asegúrate de poder hacer una copia de seguridad del número de clústeres que elijas para los algoritmos que seleccionen el número de clústeres.\n",
        "\n",
        "**Parte 2**\n",
        "\n",
        "¿Qué algoritmo de agrupación en clústeres es mejor para estos datos y por qué?"
      ],
      "metadata": {
        "id": "gE4BolTvF8Y6"
      }
    },
    {
      "cell_type": "code",
      "source": [
        "# Librerias\n",
        "import os\n",
        "import pandas as pd\n",
        "import numpy as np\n",
        "\n",
        "import matplotlib.pyplot as plt\n",
        "import matplotlib.ticker as mtick\n",
        "import seaborn as sns\n",
        "\n",
        "from google.colab import drive\n",
        "\n",
        "from sklearn.preprocessing import StandardScaler\n",
        "from sklearn.cluster import KMeans, AgglomerativeClustering, DBSCAN\n",
        "from sklearn.metrics import silhouette_score"
      ],
      "metadata": {
        "id": "oFeWZkHrGNT4"
      },
      "execution_count": 59,
      "outputs": []
    },
    {
      "cell_type": "code",
      "source": [
        "# Acceder a directorio en Google Drive\n",
        "drive.mount('/content/drive')"
      ],
      "metadata": {
        "colab": {
          "base_uri": "https://localhost:8080/"
        },
        "id": "w-jhTub4aRoc",
        "outputId": "ca86e8af-93cf-439d-ea93-0e111932fde2"
      },
      "execution_count": 60,
      "outputs": [
        {
          "output_type": "stream",
          "name": "stdout",
          "text": [
            "Drive already mounted at /content/drive; to attempt to forcibly remount, call drive.mount(\"/content/drive\", force_remount=True).\n"
          ]
        }
      ]
    },
    {
      "cell_type": "code",
      "source": [
        "# Determinar directorio\n",
        "os.chdir('/content/drive/MyDrive/Coding Dojo/Datos')\n",
        "os.getcwd()"
      ],
      "metadata": {
        "colab": {
          "base_uri": "https://localhost:8080/",
          "height": 36
        },
        "id": "rHH6UYb4aSem",
        "outputId": "bb6a72ad-cd43-46b1-bf54-b5f478d9853c"
      },
      "execution_count": 61,
      "outputs": [
        {
          "output_type": "execute_result",
          "data": {
            "application/vnd.google.colaboratory.intrinsic+json": {
              "type": "string"
            },
            "text/plain": [
              "'/content/drive/MyDrive/Coding Dojo/Datos'"
            ]
          },
          "metadata": {},
          "execution_count": 61
        }
      ]
    },
    {
      "cell_type": "code",
      "source": [
        "# Estilo de graficos\n",
        "sns.set_style('white')\n",
        "csfont = {'fontname':'Calibri'} # Fuente a utilizar\n",
        "\n",
        "# Paleta de colores\n",
        "# my_palette = ['#4472C4', '#ED7D31', '#A5A5A5', '#FFC000', '#5B9BD5', '#70AD47', '#264478', '#9E480E', '#636363', '#997300'] # Excel color palette\n",
        "my_palette2 = sns.color_palette('tab10', 10)\n",
        "sns.palplot(sns.color_palette(my_palette2, 10))\n",
        "\n",
        "# Define palette\n",
        "sns.set_palette(my_palette2)"
      ],
      "metadata": {
        "colab": {
          "base_uri": "https://localhost:8080/",
          "height": 85
        },
        "id": "HDtntM0RGk5_",
        "outputId": "ce6c7530-faf9-4a53-a56b-26f536cbd8c6"
      },
      "execution_count": 62,
      "outputs": [
        {
          "output_type": "display_data",
          "data": {
            "image/png": "[encoded data removed]",
            "text/plain": [
              "<Figure size 720x72 with 1 Axes>"
            ]
          },
          "metadata": {}
        }
      ]
    },
    {
      "cell_type": "code",
      "source": [
        "# Datos\n",
        "df = pd.read_csv('cust_seg.csv')\n",
        "df.drop(['Unnamed: 0'], axis = 1, inplace = True)\n",
        "df.head()"
      ],
      "metadata": {
        "colab": {
          "base_uri": "https://localhost:8080/",
          "height": 206
        },
        "id": "0Y713EDEGiIR",
        "outputId": "1a69362f-2311-498f-b706-5fe000bf43fb"
      },
      "execution_count": 63,
      "outputs": [
        {
          "output_type": "execute_result",
          "data": {
            "text/html": [
              "\n",
              "  <div id=\"df-2af0e716-55f3-4bb1-a3e7-808f4db9a03a\">\n",
              "    <div class=\"colab-df-container\">\n",
              "      <div>\n",
              "<style scoped>\n",
              "    .dataframe tbody tr th:only-of-type {\n",
              "        vertical-align: middle;\n",
              "    }\n",
              "\n",
              "    .dataframe tbody tr th {\n",
              "        vertical-align: top;\n",
              "    }\n",
              "\n",
              "    .dataframe thead th {\n",
              "        text-align: right;\n",
              "    }\n",
              "</style>\n",
              "<table border=\"1\" class=\"dataframe\">\n",
              "  <thead>\n",
              "    <tr style=\"text-align: right;\">\n",
              "      <th></th>\n",
              "      <th>Customer Id</th>\n",
              "      <th>Age</th>\n",
              "      <th>Edu</th>\n",
              "      <th>Years Employed</th>\n",
              "      <th>Income</th>\n",
              "      <th>Card Debt</th>\n",
              "      <th>Other Debt</th>\n",
              "      <th>Defaulted</th>\n",
              "      <th>DebtIncomeRatio</th>\n",
              "    </tr>\n",
              "  </thead>\n",
              "  <tbody>\n",
              "    <tr>\n",
              "      <th>0</th>\n",
              "      <td>1</td>\n",
              "      <td>41</td>\n",
              "      <td>2</td>\n",
              "      <td>6</td>\n",
              "      <td>19</td>\n",
              "      <td>0.124</td>\n",
              "      <td>1.073</td>\n",
              "      <td>0.0</td>\n",
              "      <td>6.3</td>\n",
              "    </tr>\n",
              "    <tr>\n",
              "      <th>1</th>\n",
              "      <td>2</td>\n",
              "      <td>47</td>\n",
              "      <td>1</td>\n",
              "      <td>26</td>\n",
              "      <td>100</td>\n",
              "      <td>4.582</td>\n",
              "      <td>8.218</td>\n",
              "      <td>0.0</td>\n",
              "      <td>12.8</td>\n",
              "    </tr>\n",
              "    <tr>\n",
              "      <th>2</th>\n",
              "      <td>3</td>\n",
              "      <td>33</td>\n",
              "      <td>2</td>\n",
              "      <td>10</td>\n",
              "      <td>57</td>\n",
              "      <td>6.111</td>\n",
              "      <td>5.802</td>\n",
              "      <td>1.0</td>\n",
              "      <td>20.9</td>\n",
              "    </tr>\n",
              "    <tr>\n",
              "      <th>3</th>\n",
              "      <td>4</td>\n",
              "      <td>29</td>\n",
              "      <td>2</td>\n",
              "      <td>4</td>\n",
              "      <td>19</td>\n",
              "      <td>0.681</td>\n",
              "      <td>0.516</td>\n",
              "      <td>0.0</td>\n",
              "      <td>6.3</td>\n",
              "    </tr>\n",
              "    <tr>\n",
              "      <th>4</th>\n",
              "      <td>5</td>\n",
              "      <td>47</td>\n",
              "      <td>1</td>\n",
              "      <td>31</td>\n",
              "      <td>253</td>\n",
              "      <td>9.308</td>\n",
              "      <td>8.908</td>\n",
              "      <td>0.0</td>\n",
              "      <td>7.2</td>\n",
              "    </tr>\n",
              "  </tbody>\n",
              "</table>\n",
              "</div>\n",
              "      <button class=\"colab-df-convert\" onclick=\"convertToInteractive('df-2af0e716-55f3-4bb1-a3e7-808f4db9a03a')\"\n",
              "              title=\"Convert this dataframe to an interactive table.\"\n",
              "              style=\"display:none;\">\n",
              "        \n",
              "  <svg xmlns=\"http://www.w3.org/2000/svg\" height=\"24px\"viewBox=\"0 0 24 24\"\n",
              "       width=\"24px\">\n",
              "    <path d=\"M0 0h24v24H0V0z\" fill=\"none\"/>\n",
              "    <path d=\"M18.56 5.44l.94 2.06.94-2.06 2.06-.94-2.06-.94-.94-2.06-.94 2.06-2.06.94zm-11 1L8.5 8.5l.94-2.06 2.06-.94-2.06-.94L8.5 2.5l-.94 2.06-2.06.94zm10 10l.94 2.06.94-2.06 2.06-.94-2.06-.94-.94-2.06-.94 2.06-2.06.94z\"/><path d=\"M17.41 7.96l-1.37-1.37c-.4-.4-.92-.59-1.43-.59-.52 0-1.04.2-1.43.59L10.3 9.45l-7.72 7.72c-.78.78-.78 2.05 0 2.83L4 21.41c.39.39.9.59 1.41.59.51 0 1.02-.2 1.41-.59l7.78-7.78 2.81-2.81c.8-.78.8-2.07 0-2.86zM5.41 20L4 18.59l7.72-7.72 1.47 1.35L5.41 20z\"/>\n",
              "  </svg>\n",
              "      </button>\n",
              "      \n",
              "  <style>\n",
              "    .colab-df-container {\n",
              "      display:flex;\n",
              "      flex-wrap:wrap;\n",
              "      gap: 12px;\n",
              "    }\n",
              "\n",
              "    .colab-df-convert {\n",
              "      background-color: #E8F0FE;\n",
              "      border: none;\n",
              "      border-radius: 50%;\n",
              "      cursor: pointer;\n",
              "      display: none;\n",
              "      fill: #1967D2;\n",
              "      height: 32px;\n",
              "      padding: 0 0 0 0;\n",
              "      width: 32px;\n",
              "    }\n",
              "\n",
              "    .colab-df-convert:hover {\n",
              "      background-color: #E2EBFA;\n",
              "      box-shadow: 0px 1px 2px rgba(60, 64, 67, 0.3), 0px 1px 3px 1px rgba(60, 64, 67, 0.15);\n",
              "      fill: #174EA6;\n",
              "    }\n",
              "\n",
              "    [theme=dark] .colab-df-convert {\n",
              "      background-color: #3B4455;\n",
              "      fill: #D2E3FC;\n",
              "    }\n",
              "\n",
              "    [theme=dark] .colab-df-convert:hover {\n",
              "      background-color: #434B5C;\n",
              "      box-shadow: 0px 1px 3px 1px rgba(0, 0, 0, 0.15);\n",
              "      filter: drop-shadow(0px 1px 2px rgba(0, 0, 0, 0.3));\n",
              "      fill: #FFFFFF;\n",
              "    }\n",
              "  </style>\n",
              "\n",
              "      <script>\n",
              "        const buttonEl =\n",
              "          document.querySelector('#df-2af0e716-55f3-4bb1-a3e7-808f4db9a03a button.colab-df-convert');\n",
              "        buttonEl.style.display =\n",
              "          google.colab.kernel.accessAllowed ? 'block' : 'none';\n",
              "\n",
              "        async function convertToInteractive(key) {\n",
              "          const element = document.querySelector('#df-2af0e716-55f3-4bb1-a3e7-808f4db9a03a');\n",
              "          const dataTable =\n",
              "            await google.colab.kernel.invokeFunction('convertToInteractive',\n",
              "                                                     [key], {});\n",
              "          if (!dataTable) return;\n",
              "\n",
              "          const docLinkHtml = 'Like what you see? Visit the ' +\n",
              "            '<a target=\"_blank\" href=https://colab.research.google.com/notebooks/data_table.ipynb>data table notebook</a>'\n",
              "            + ' to learn more about interactive tables.';\n",
              "          element.innerHTML = '';\n",
              "          dataTable['output_type'] = 'display_data';\n",
              "          await google.colab.output.renderOutput(dataTable, element);\n",
              "          const docLink = document.createElement('div');\n",
              "          docLink.innerHTML = docLinkHtml;\n",
              "          element.appendChild(docLink);\n",
              "        }\n",
              "      </script>\n",
              "    </div>\n",
              "  </div>\n",
              "  "
            ],
            "text/plain": [
              "   Customer Id  Age  Edu  ...  Other Debt  Defaulted  DebtIncomeRatio\n",
              "0            1   41    2  ...       1.073        0.0              6.3\n",
              "1            2   47    1  ...       8.218        0.0             12.8\n",
              "2            3   33    2  ...       5.802        1.0             20.9\n",
              "3            4   29    2  ...       0.516        0.0              6.3\n",
              "4            5   47    1  ...       8.908        0.0              7.2\n",
              "\n",
              "[5 rows x 9 columns]"
            ]
          },
          "metadata": {},
          "execution_count": 63
        }
      ]
    },
    {
      "cell_type": "code",
      "source": [
        "# Columnas con valores perdidos\n",
        "cols_nans = df.columns[df.isna().any()]\n",
        "cols_nans"
      ],
      "metadata": {
        "colab": {
          "base_uri": "https://localhost:8080/"
        },
        "id": "k0W1Y3lQ_0yr",
        "outputId": "57127042-5ce2-4ceb-f3fa-aa627857fbc8"
      },
      "execution_count": 64,
      "outputs": [
        {
          "output_type": "execute_result",
          "data": {
            "text/plain": [
              "Index(['Defaulted'], dtype='object')"
            ]
          },
          "metadata": {},
          "execution_count": 64
        }
      ]
    },
    {
      "cell_type": "code",
      "source": [
        "# Cantidad de valores perdidos\n",
        "df[cols_nans].isna().sum()"
      ],
      "metadata": {
        "colab": {
          "base_uri": "https://localhost:8080/"
        },
        "id": "KaDRSzdiWRMB",
        "outputId": "7868cc35-7139-458d-ecb5-624a2d89753f"
      },
      "execution_count": 65,
      "outputs": [
        {
          "output_type": "execute_result",
          "data": {
            "text/plain": [
              "Defaulted    150\n",
              "dtype: int64"
            ]
          },
          "metadata": {},
          "execution_count": 65
        }
      ]
    },
    {
      "cell_type": "code",
      "source": [
        "# Ver estadistica descriptiva de variables de acuerdo a 'Defaulted'\n",
        "df.groupby(['Defaulted']).agg({'Income': ['mean', 'min', 'max'],\n",
        "                               'Card Debt': ['mean', 'min', 'max'],\n",
        "                               'Other Debt': ['mean', 'min', 'max'],\n",
        "                               'DebtIncomeRatio': ['mean', 'min', 'max']})"
      ],
      "metadata": {
        "colab": {
          "base_uri": "https://localhost:8080/",
          "height": 175
        },
        "id": "CtjMgWOdALmv",
        "outputId": "b053e277-d90f-4c7e-e21a-155f38eb3e98"
      },
      "execution_count": 66,
      "outputs": [
        {
          "output_type": "execute_result",
          "data": {
            "text/html": [
              "\n",
              "  <div id=\"df-b41178b7-f393-41c0-9898-2d33207f7ac0\">\n",
              "    <div class=\"colab-df-container\">\n",
              "      <div>\n",
              "<style scoped>\n",
              "    .dataframe tbody tr th:only-of-type {\n",
              "        vertical-align: middle;\n",
              "    }\n",
              "\n",
              "    .dataframe tbody tr th {\n",
              "        vertical-align: top;\n",
              "    }\n",
              "\n",
              "    .dataframe thead tr th {\n",
              "        text-align: left;\n",
              "    }\n",
              "\n",
              "    .dataframe thead tr:last-of-type th {\n",
              "        text-align: right;\n",
              "    }\n",
              "</style>\n",
              "<table border=\"1\" class=\"dataframe\">\n",
              "  <thead>\n",
              "    <tr>\n",
              "      <th></th>\n",
              "      <th colspan=\"3\" halign=\"left\">Income</th>\n",
              "      <th colspan=\"3\" halign=\"left\">Card Debt</th>\n",
              "      <th colspan=\"3\" halign=\"left\">Other Debt</th>\n",
              "      <th colspan=\"3\" halign=\"left\">DebtIncomeRatio</th>\n",
              "    </tr>\n",
              "    <tr>\n",
              "      <th></th>\n",
              "      <th>mean</th>\n",
              "      <th>min</th>\n",
              "      <th>max</th>\n",
              "      <th>mean</th>\n",
              "      <th>min</th>\n",
              "      <th>max</th>\n",
              "      <th>mean</th>\n",
              "      <th>min</th>\n",
              "      <th>max</th>\n",
              "      <th>mean</th>\n",
              "      <th>min</th>\n",
              "      <th>max</th>\n",
              "    </tr>\n",
              "    <tr>\n",
              "      <th>Defaulted</th>\n",
              "      <th></th>\n",
              "      <th></th>\n",
              "      <th></th>\n",
              "      <th></th>\n",
              "      <th></th>\n",
              "      <th></th>\n",
              "      <th></th>\n",
              "      <th></th>\n",
              "      <th></th>\n",
              "      <th></th>\n",
              "      <th></th>\n",
              "      <th></th>\n",
              "    </tr>\n",
              "  </thead>\n",
              "  <tbody>\n",
              "    <tr>\n",
              "      <th>0.0</th>\n",
              "      <td>47.154739</td>\n",
              "      <td>14</td>\n",
              "      <td>253</td>\n",
              "      <td>1.245513</td>\n",
              "      <td>0.012</td>\n",
              "      <td>9.877</td>\n",
              "      <td>2.773389</td>\n",
              "      <td>0.046</td>\n",
              "      <td>18.269</td>\n",
              "      <td>8.679304</td>\n",
              "      <td>0.4</td>\n",
              "      <td>32.5</td>\n",
              "    </tr>\n",
              "    <tr>\n",
              "      <th>1.0</th>\n",
              "      <td>41.213115</td>\n",
              "      <td>14</td>\n",
              "      <td>446</td>\n",
              "      <td>2.423858</td>\n",
              "      <td>0.073</td>\n",
              "      <td>20.561</td>\n",
              "      <td>3.862814</td>\n",
              "      <td>0.161</td>\n",
              "      <td>27.034</td>\n",
              "      <td>14.727869</td>\n",
              "      <td>0.9</td>\n",
              "      <td>41.3</td>\n",
              "    </tr>\n",
              "  </tbody>\n",
              "</table>\n",
              "</div>\n",
              "      <button class=\"colab-df-convert\" onclick=\"convertToInteractive('df-b41178b7-f393-41c0-9898-2d33207f7ac0')\"\n",
              "              title=\"Convert this dataframe to an interactive table.\"\n",
              "              style=\"display:none;\">\n",
              "        \n",
              "  <svg xmlns=\"http://www.w3.org/2000/svg\" height=\"24px\"viewBox=\"0 0 24 24\"\n",
              "       width=\"24px\">\n",
              "    <path d=\"M0 0h24v24H0V0z\" fill=\"none\"/>\n",
              "    <path d=\"M18.56 5.44l.94 2.06.94-2.06 2.06-.94-2.06-.94-.94-2.06-.94 2.06-2.06.94zm-11 1L8.5 8.5l.94-2.06 2.06-.94-2.06-.94L8.5 2.5l-.94 2.06-2.06.94zm10 10l.94 2.06.94-2.06 2.06-.94-2.06-.94-.94-2.06-.94 2.06-2.06.94z\"/><path d=\"M17.41 7.96l-1.37-1.37c-.4-.4-.92-.59-1.43-.59-.52 0-1.04.2-1.43.59L10.3 9.45l-7.72 7.72c-.78.78-.78 2.05 0 2.83L4 21.41c.39.39.9.59 1.41.59.51 0 1.02-.2 1.41-.59l7.78-7.78 2.81-2.81c.8-.78.8-2.07 0-2.86zM5.41 20L4 18.59l7.72-7.72 1.47 1.35L5.41 20z\"/>\n",
              "  </svg>\n",
              "      </button>\n",
              "      \n",
              "  <style>\n",
              "    .colab-df-container {\n",
              "      display:flex;\n",
              "      flex-wrap:wrap;\n",
              "      gap: 12px;\n",
              "    }\n",
              "\n",
              "    .colab-df-convert {\n",
              "      background-color: #E8F0FE;\n",
              "      border: none;\n",
              "      border-radius: 50%;\n",
              "      cursor: pointer;\n",
              "      display: none;\n",
              "      fill: #1967D2;\n",
              "      height: 32px;\n",
              "      padding: 0 0 0 0;\n",
              "      width: 32px;\n",
              "    }\n",
              "\n",
              "    .colab-df-convert:hover {\n",
              "      background-color: #E2EBFA;\n",
              "      box-shadow: 0px 1px 2px rgba(60, 64, 67, 0.3), 0px 1px 3px 1px rgba(60, 64, 67, 0.15);\n",
              "      fill: #174EA6;\n",
              "    }\n",
              "\n",
              "    [theme=dark] .colab-df-convert {\n",
              "      background-color: #3B4455;\n",
              "      fill: #D2E3FC;\n",
              "    }\n",
              "\n",
              "    [theme=dark] .colab-df-convert:hover {\n",
              "      background-color: #434B5C;\n",
              "      box-shadow: 0px 1px 3px 1px rgba(0, 0, 0, 0.15);\n",
              "      filter: drop-shadow(0px 1px 2px rgba(0, 0, 0, 0.3));\n",
              "      fill: #FFFFFF;\n",
              "    }\n",
              "  </style>\n",
              "\n",
              "      <script>\n",
              "        const buttonEl =\n",
              "          document.querySelector('#df-b41178b7-f393-41c0-9898-2d33207f7ac0 button.colab-df-convert');\n",
              "        buttonEl.style.display =\n",
              "          google.colab.kernel.accessAllowed ? 'block' : 'none';\n",
              "\n",
              "        async function convertToInteractive(key) {\n",
              "          const element = document.querySelector('#df-b41178b7-f393-41c0-9898-2d33207f7ac0');\n",
              "          const dataTable =\n",
              "            await google.colab.kernel.invokeFunction('convertToInteractive',\n",
              "                                                     [key], {});\n",
              "          if (!dataTable) return;\n",
              "\n",
              "          const docLinkHtml = 'Like what you see? Visit the ' +\n",
              "            '<a target=\"_blank\" href=https://colab.research.google.com/notebooks/data_table.ipynb>data table notebook</a>'\n",
              "            + ' to learn more about interactive tables.';\n",
              "          element.innerHTML = '';\n",
              "          dataTable['output_type'] = 'display_data';\n",
              "          await google.colab.output.renderOutput(dataTable, element);\n",
              "          const docLink = document.createElement('div');\n",
              "          docLink.innerHTML = docLinkHtml;\n",
              "          element.appendChild(docLink);\n",
              "        }\n",
              "      </script>\n",
              "    </div>\n",
              "  </div>\n",
              "  "
            ],
            "text/plain": [
              "              Income          Card Debt  ... Other Debt DebtIncomeRatio           \n",
              "                mean min  max      mean  ...        max            mean  min   max\n",
              "Defaulted                                ...                                      \n",
              "0.0        47.154739  14  253  1.245513  ...     18.269        8.679304  0.4  32.5\n",
              "1.0        41.213115  14  446  2.423858  ...     27.034       14.727869  0.9  41.3\n",
              "\n",
              "[2 rows x 12 columns]"
            ]
          },
          "metadata": {},
          "execution_count": 66
        }
      ]
    },
    {
      "cell_type": "code",
      "source": [
        "# Proporcion de clientes por 'Defaulted'\n",
        "round(df['Defaulted'].value_counts()/df.shape[0] * 100, 2)\n",
        "\n",
        "# La mayoria no ha caido en default"
      ],
      "metadata": {
        "colab": {
          "base_uri": "https://localhost:8080/"
        },
        "id": "wg94QRgChFFZ",
        "outputId": "0ed2f425-e48f-43a4-8c4a-f1cd067b6036"
      },
      "execution_count": 67,
      "outputs": [
        {
          "output_type": "execute_result",
          "data": {
            "text/plain": [
              "0.0    60.82\n",
              "1.0    21.53\n",
              "Name: Defaulted, dtype: float64"
            ]
          },
          "metadata": {},
          "execution_count": 67
        }
      ]
    },
    {
      "cell_type": "code",
      "source": [
        "# Eliminar observaciones que poseen datos perdidos en la variable 'Defaulted'\n",
        "df = df[df['Defaulted'].notna()]"
      ],
      "metadata": {
        "id": "GpfLYBsmAEGP"
      },
      "execution_count": 68,
      "outputs": []
    },
    {
      "cell_type": "code",
      "source": [
        "# Variables de interes\n",
        "X_var = df.drop(['Customer Id'], axis = 1).columns\n",
        "X = df.loc[:, X_var]"
      ],
      "metadata": {
        "id": "uaHSWdu6_FhU"
      },
      "execution_count": 69,
      "outputs": []
    },
    {
      "cell_type": "code",
      "source": [
        "# Escalar los datos\n",
        "scaler = StandardScaler()\n",
        "# Ajustar con base en el conjunto de datos\n",
        "X = scaler.fit_transform(X)"
      ],
      "metadata": {
        "id": "glIH_dXfCtm2"
      },
      "execution_count": 70,
      "outputs": []
    },
    {
      "cell_type": "markdown",
      "source": [
        "**Función para estimar el modelo y mostrar el coeficiente de silueta**"
      ],
      "metadata": {
        "id": "nt-pZEDCHwKp"
      }
    },
    {
      "cell_type": "code",
      "source": [
        "def cluster(model, X_scaled, method):\n",
        "  # Seed\n",
        "  np.random.seed(2731)\n",
        "  # Estimacion\n",
        "  model.fit(X_scaled)\n",
        "  # Numero de clusters\n",
        "  clusters = model.labels_\n",
        "  num_clusters = len(set(clusters[clusters >= 0]))\n",
        "  # Coeficiente de silueta\n",
        "  silh_score = silhouette_score(X_scaled, model.labels_)\n",
        "\n",
        "  # Results\n",
        "  print(f'\\nModel Report\\n{method}\\n')\n",
        "  print(f'Number of clusters: {num_clusters}\\n')\n",
        "  print(f'Silhouette Coefficient: {silh_score:.3f}')"
      ],
      "metadata": {
        "id": "GdMoqSYwHtty"
      },
      "execution_count": 71,
      "outputs": []
    },
    {
      "cell_type": "markdown",
      "source": [
        "**Coeficientes de silueta para diferentes numeros de clusters**"
      ],
      "metadata": {
        "id": "ce-UYZYeIrgz"
      }
    },
    {
      "cell_type": "code",
      "source": [
        "# KMeans\n",
        "\n",
        "np.random.seed(2731)\n",
        "silhouette_scores_kmeans = []\n",
        "for i in range(2, 11):\n",
        "  kmeans = KMeans(n_clusters = i, random_state = 2731)\n",
        "  kmeans.fit(X)\n",
        "  silhouette_scores_kmeans.append(silhouette_score(X, kmeans.labels_))\n",
        "\n",
        "# Grafico\n",
        "plt.plot(range(2, 11), silhouette_scores_kmeans, marker = '.')\n",
        "plt.axvline(x = 2, color = my_palette2[1], linestyle = '--')\n",
        "plt.title('Coeficiente de Silueta\\nKMeans')\n",
        "plt.ylabel('')\n",
        "plt.xlabel('Número de clusters')\n",
        "plt.xticks(range(2, 11))\n",
        "sns.despine(left = True, bottom = True)\n",
        "plt.gcf().set_size_inches(7, 4);"
      ],
      "metadata": {
        "colab": {
          "base_uri": "https://localhost:8080/",
          "height": 310
        },
        "id": "c0GFTCf-KJAX",
        "outputId": "72b0791e-481b-4950-e76d-6d0330d59d96"
      },
      "execution_count": 72,
      "outputs": [
        {
          "output_type": "display_data",
          "data": {
            "image/png": "[encoded data removed]",
            "text/plain": [
              "<Figure size 504x288 with 1 Axes>"
            ]
          },
          "metadata": {}
        }
      ]
    },
    {
      "cell_type": "code",
      "source": [
        "# Hierarchical clustering\n",
        "\n",
        "np.random.seed(2731)\n",
        "silhouette_scores_hc = []\n",
        "for i in range(2, 11):\n",
        "  hc = AgglomerativeClustering(n_clusters = i)\n",
        "  hc.fit(X)\n",
        "  silhouette_scores_hc.append(silhouette_score(X, hc.labels_))\n",
        "\n",
        "# Grafico\n",
        "plt.plot(range(2, 11), silhouette_scores_hc, marker = '.')\n",
        "plt.axvline(x = 2, color = my_palette2[1], linestyle = '--')\n",
        "plt.title('Coeficiente de Silueta\\nAgrupación jerárquica')\n",
        "plt.ylabel('')\n",
        "plt.xlabel('Número de clusters')\n",
        "plt.xticks(range(2, 11))\n",
        "sns.despine(left = True, bottom = True)\n",
        "plt.gcf().set_size_inches(7, 4);"
      ],
      "metadata": {
        "colab": {
          "base_uri": "https://localhost:8080/",
          "height": 310
        },
        "id": "JZhTlOPLKwiQ",
        "outputId": "5986c7fb-939e-4dff-d3e7-1d361140a3aa"
      },
      "execution_count": 73,
      "outputs": [
        {
          "output_type": "display_data",
          "data": {
            "image/png": "[encoded data removed]",
            "text/plain": [
              "<Figure size 504x288 with 1 Axes>"
            ]
          },
          "metadata": {}
        }
      ]
    },
    {
      "cell_type": "code",
      "source": [
        "# Tanto para el clustering por KMeans como por agrupación jerárquica se sugieren dos clusters.\n",
        "n_opt = 2"
      ],
      "metadata": {
        "id": "NBxPO88XNZ2u"
      },
      "execution_count": 74,
      "outputs": []
    },
    {
      "cell_type": "code",
      "source": [
        "# DBSCAN\n",
        "\n",
        "np.random.seed(2731)\n",
        "silhouette_scores_dbs = []\n",
        "for i in np.arange(0.5, 1.0, 0.1):\n",
        "  dbs = DBSCAN(eps = i, min_samples = 5)\n",
        "  dbs.fit(X)\n",
        "  silhouette_scores_dbs.append(silhouette_score(X, dbs.labels_))\n",
        "\n",
        "# Grafico\n",
        "plt.plot(np.arange(0.5, 1.0, 0.1), silhouette_scores_dbs, marker = '.')\n",
        "plt.axvline(x = 0.8, color = my_palette2[1], linestyle = '--')\n",
        "plt.title('Coeficiente de Silueta\\nDBSCAN')\n",
        "plt.ylabel('')\n",
        "plt.xlabel('Eps')\n",
        "plt.xticks(np.arange(0.5, 1.0, 0.1))\n",
        "sns.despine(left = True, bottom = True)\n",
        "plt.gcf().set_size_inches(7, 4);"
      ],
      "metadata": {
        "colab": {
          "base_uri": "https://localhost:8080/",
          "height": 310
        },
        "id": "0yD_qKLZR7bX",
        "outputId": "5cc8831f-f428-424b-fa3d-9ddfd1faf054"
      },
      "execution_count": 75,
      "outputs": [
        {
          "output_type": "display_data",
          "data": {
            "image/png": "[encoded data removed]",
            "text/plain": [
              "<Figure size 504x288 with 1 Axes>"
            ]
          },
          "metadata": {}
        }
      ]
    },
    {
      "cell_type": "markdown",
      "source": [
        "**KMeans**"
      ],
      "metadata": {
        "id": "E4uNJyGkOxap"
      }
    },
    {
      "cell_type": "code",
      "source": [
        "# Modelo y estimacion\n",
        "kmeans = KMeans(n_clusters = n_opt, random_state = 2731)\n",
        "cluster(kmeans, X, 'KMeans')"
      ],
      "metadata": {
        "colab": {
          "base_uri": "https://localhost:8080/"
        },
        "id": "uMOLXWc7Ou5M",
        "outputId": "32a9319e-3e57-478e-f880-8a172fb6c6c1"
      },
      "execution_count": 76,
      "outputs": [
        {
          "output_type": "stream",
          "name": "stdout",
          "text": [
            "\n",
            "Model Report\n",
            "KMeans\n",
            "\n",
            "Number of clusters: 2\n",
            "\n",
            "Silhouette Coefficient: 0.335\n"
          ]
        }
      ]
    },
    {
      "cell_type": "markdown",
      "source": [
        "**Agrupación jerárquica**"
      ],
      "metadata": {
        "id": "1poCHwyVOx-N"
      }
    },
    {
      "cell_type": "code",
      "source": [
        "# Modelo y estimacion\n",
        "hc = AgglomerativeClustering(n_clusters = n_opt)\n",
        "cluster(hc, X, 'Agrupación jerárquica')"
      ],
      "metadata": {
        "colab": {
          "base_uri": "https://localhost:8080/"
        },
        "id": "CKlDaxxZOySj",
        "outputId": "72ffc445-b583-4e71-a02f-1bd195812575"
      },
      "execution_count": 77,
      "outputs": [
        {
          "output_type": "stream",
          "name": "stdout",
          "text": [
            "\n",
            "Model Report\n",
            "Agrupación jerárquica\n",
            "\n",
            "Number of clusters: 2\n",
            "\n",
            "Silhouette Coefficient: 0.336\n"
          ]
        }
      ]
    },
    {
      "cell_type": "markdown",
      "source": [
        "**DBSCAN**"
      ],
      "metadata": {
        "id": "8oSwNbsxOydc"
      }
    },
    {
      "cell_type": "code",
      "source": [
        "# Modelo y estimacion\n",
        "dbs = DBSCAN(eps = 0.8, min_samples = 5)\n",
        "cluster(dbs, X, 'DBSCAN')"
      ],
      "metadata": {
        "colab": {
          "base_uri": "https://localhost:8080/"
        },
        "id": "Ij7pxtxEOyi2",
        "outputId": "6cebc525-12fa-445e-f35e-7fd2254e882d"
      },
      "execution_count": 78,
      "outputs": [
        {
          "output_type": "stream",
          "name": "stdout",
          "text": [
            "\n",
            "Model Report\n",
            "DBSCAN\n",
            "\n",
            "Number of clusters: 6\n",
            "\n",
            "Silhouette Coefficient: -0.034\n"
          ]
        }
      ]
    },
    {
      "cell_type": "code",
      "source": [
        "# Con base en el coeficiente de silueta, los resultados sugieren que se debe optar por la \n",
        "# agrupación jerárquica con dos clusters.\n",
        "# Es decir, los resultados sugieren que, los clientes pueden ser segmentados en dos tipos."
      ],
      "metadata": {
        "id": "TIL4sORqP47s"
      },
      "execution_count": 79,
      "outputs": []
    },
    {
      "cell_type": "code",
      "source": [
        ""
      ],
      "metadata": {
        "id": "dLGTpyxRTiMG"
      },
      "execution_count": 79,
      "outputs": []
    }
  ]
}