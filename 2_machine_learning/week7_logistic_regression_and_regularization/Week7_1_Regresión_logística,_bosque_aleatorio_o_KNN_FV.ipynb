{
  "nbformat": 4,
  "nbformat_minor": 0,
  "metadata": {
    "colab": {
      "name": "Week7_1_Regresión logística, bosque aleatorio o KNN_FV.ipynb",
      "provenance": [],
      "collapsed_sections": []
    },
    "kernelspec": {
      "name": "python3",
      "display_name": "Python 3"
    },
    "language_info": {
      "name": "python"
    }
  },
  "cells": [
    {
      "cell_type": "markdown",
      "source": [
        "#### **Ejercicio:** ¿Regresión logística, bosque aleatorio o KNN?\n",
        "\n",
        "**Elaborado por:** Fabian Villarreal Sosa\n",
        "\n",
        "Utilizando el wine cultivars dataset de la sección de clasificación multiclase, tu tarea es utilizar modelos de regresión logística (uno frente a uno y uno frente a todos) y ajustarlos para su rendimiento óptimo. También debes intentar comparar el efecto de cuando intentas utilizar la regularización l1 y l2. Esta es una gran oportunidad para ver qué sucede cuando intentas ajustar un modelo. Después de hacer eso, intenta usar los modelos KNN, Bagged tree y Random Forest.\n",
        "\n",
        "https://archive.ics.uci.edu/ml/machine-learning-databases/wine/\n",
        "\n",
        "**Preguntas para pensar y responder**\n",
        "\n",
        "Después de completar la tarea, responde las siguientes preguntas:\n",
        "\n",
        "* ¿Qué modelo funcionó mejor?\n",
        "* ¿Cuáles son las características más importantes de tus modelos? ¿Hay algún modelo que te haya gustado más y por qué?"
      ],
      "metadata": {
        "id": "RXnoTdEq6yrN"
      }
    },
    {
      "cell_type": "code",
      "source": [
        "# Librerias\n",
        "import os\n",
        "import pandas as pd\n",
        "import numpy as np\n",
        "\n",
        "import matplotlib.pyplot as plt\n",
        "import matplotlib.ticker as mtick\n",
        "import seaborn as sns\n",
        "\n",
        "from google.colab import drive\n",
        "\n",
        "from sklearn.model_selection import train_test_split\n",
        "\n",
        "from sklearn.preprocessing import StandardScaler\n",
        "from sklearn.model_selection import GridSearchCV\n",
        "from sklearn import metrics\n",
        "\n",
        "from sklearn.linear_model import LinearRegression\n",
        "from sklearn.linear_model import LogisticRegression\n",
        "from sklearn.neighbors import KNeighborsClassifier\n",
        "from sklearn.tree import DecisionTreeClassifier\n",
        "from sklearn.ensemble import BaggingClassifier\n",
        "from sklearn.ensemble import RandomForestClassifier"
      ],
      "metadata": {
        "id": "oZRjadgi69oc"
      },
      "execution_count": 236,
      "outputs": []
    },
    {
      "cell_type": "code",
      "source": [
        "# Acceder a directorio en Google Drive\n",
        "drive.mount('/content/drive')"
      ],
      "metadata": {
        "colab": {
          "base_uri": "https://localhost:8080/"
        },
        "id": "9m09TI0RtmGJ",
        "outputId": "a78eb347-547d-47ef-9f24-110c0955aa79"
      },
      "execution_count": 237,
      "outputs": [
        {
          "output_type": "stream",
          "name": "stdout",
          "text": [
            "Drive already mounted at /content/drive; to attempt to forcibly remount, call drive.mount(\"/content/drive\", force_remount=True).\n"
          ]
        }
      ]
    },
    {
      "cell_type": "code",
      "source": [
        "# Determinar directorio\n",
        "os.chdir('/content/drive/MyDrive/Coding Dojo/Datos')\n",
        "os.getcwd()"
      ],
      "metadata": {
        "colab": {
          "base_uri": "https://localhost:8080/",
          "height": 36
        },
        "id": "TOZCkAbstnW4",
        "outputId": "2ff9fcf8-e4ad-46f2-c7f8-29c5a643a130"
      },
      "execution_count": 238,
      "outputs": [
        {
          "output_type": "execute_result",
          "data": {
            "application/vnd.google.colaboratory.intrinsic+json": {
              "type": "string"
            },
            "text/plain": [
              "'/content/drive/MyDrive/Coding Dojo/Datos'"
            ]
          },
          "metadata": {},
          "execution_count": 238
        }
      ]
    },
    {
      "cell_type": "code",
      "source": [
        "# Datos\n",
        "col_names = ['Class label', 'Alcohol', 'Malic acid', 'Ash', 'Alcalinity of ash', 'Magnesium', 'Total phenols',\n",
        "'Flavanoids', 'Nonflavanoid phenols', 'Proanthocyanins','Color intensity', 'Hue', 'OD280/OD315 of diluted wines','Proline']\n",
        "\n",
        "df = pd.read_csv('wine.data', header = None, names = col_names)\n",
        "df.head()"
      ],
      "metadata": {
        "colab": {
          "base_uri": "https://localhost:8080/",
          "height": 206
        },
        "id": "rruO9yf270ZC",
        "outputId": "4d532cb5-170e-4465-c910-789b15e9b449"
      },
      "execution_count": 239,
      "outputs": [
        {
          "output_type": "execute_result",
          "data": {
            "text/html": [
              "\n",
              "  <div id=\"df-c57398af-c370-41a6-9448-fb81501a9d72\">\n",
              "    <div class=\"colab-df-container\">\n",
              "      <div>\n",
              "<style scoped>\n",
              "    .dataframe tbody tr th:only-of-type {\n",
              "        vertical-align: middle;\n",
              "    }\n",
              "\n",
              "    .dataframe tbody tr th {\n",
              "        vertical-align: top;\n",
              "    }\n",
              "\n",
              "    .dataframe thead th {\n",
              "        text-align: right;\n",
              "    }\n",
              "</style>\n",
              "<table border=\"1\" class=\"dataframe\">\n",
              "  <thead>\n",
              "    <tr style=\"text-align: right;\">\n",
              "      <th></th>\n",
              "      <th>Class label</th>\n",
              "      <th>Alcohol</th>\n",
              "      <th>Malic acid</th>\n",
              "      <th>Ash</th>\n",
              "      <th>Alcalinity of ash</th>\n",
              "      <th>Magnesium</th>\n",
              "      <th>Total phenols</th>\n",
              "      <th>Flavanoids</th>\n",
              "      <th>Nonflavanoid phenols</th>\n",
              "      <th>Proanthocyanins</th>\n",
              "      <th>Color intensity</th>\n",
              "      <th>Hue</th>\n",
              "      <th>OD280/OD315 of diluted wines</th>\n",
              "      <th>Proline</th>\n",
              "    </tr>\n",
              "  </thead>\n",
              "  <tbody>\n",
              "    <tr>\n",
              "      <th>0</th>\n",
              "      <td>1</td>\n",
              "      <td>14.23</td>\n",
              "      <td>1.71</td>\n",
              "      <td>2.43</td>\n",
              "      <td>15.6</td>\n",
              "      <td>127</td>\n",
              "      <td>2.80</td>\n",
              "      <td>3.06</td>\n",
              "      <td>0.28</td>\n",
              "      <td>2.29</td>\n",
              "      <td>5.64</td>\n",
              "      <td>1.04</td>\n",
              "      <td>3.92</td>\n",
              "      <td>1065</td>\n",
              "    </tr>\n",
              "    <tr>\n",
              "      <th>1</th>\n",
              "      <td>1</td>\n",
              "      <td>13.20</td>\n",
              "      <td>1.78</td>\n",
              "      <td>2.14</td>\n",
              "      <td>11.2</td>\n",
              "      <td>100</td>\n",
              "      <td>2.65</td>\n",
              "      <td>2.76</td>\n",
              "      <td>0.26</td>\n",
              "      <td>1.28</td>\n",
              "      <td>4.38</td>\n",
              "      <td>1.05</td>\n",
              "      <td>3.40</td>\n",
              "      <td>1050</td>\n",
              "    </tr>\n",
              "    <tr>\n",
              "      <th>2</th>\n",
              "      <td>1</td>\n",
              "      <td>13.16</td>\n",
              "      <td>2.36</td>\n",
              "      <td>2.67</td>\n",
              "      <td>18.6</td>\n",
              "      <td>101</td>\n",
              "      <td>2.80</td>\n",
              "      <td>3.24</td>\n",
              "      <td>0.30</td>\n",
              "      <td>2.81</td>\n",
              "      <td>5.68</td>\n",
              "      <td>1.03</td>\n",
              "      <td>3.17</td>\n",
              "      <td>1185</td>\n",
              "    </tr>\n",
              "    <tr>\n",
              "      <th>3</th>\n",
              "      <td>1</td>\n",
              "      <td>14.37</td>\n",
              "      <td>1.95</td>\n",
              "      <td>2.50</td>\n",
              "      <td>16.8</td>\n",
              "      <td>113</td>\n",
              "      <td>3.85</td>\n",
              "      <td>3.49</td>\n",
              "      <td>0.24</td>\n",
              "      <td>2.18</td>\n",
              "      <td>7.80</td>\n",
              "      <td>0.86</td>\n",
              "      <td>3.45</td>\n",
              "      <td>1480</td>\n",
              "    </tr>\n",
              "    <tr>\n",
              "      <th>4</th>\n",
              "      <td>1</td>\n",
              "      <td>13.24</td>\n",
              "      <td>2.59</td>\n",
              "      <td>2.87</td>\n",
              "      <td>21.0</td>\n",
              "      <td>118</td>\n",
              "      <td>2.80</td>\n",
              "      <td>2.69</td>\n",
              "      <td>0.39</td>\n",
              "      <td>1.82</td>\n",
              "      <td>4.32</td>\n",
              "      <td>1.04</td>\n",
              "      <td>2.93</td>\n",
              "      <td>735</td>\n",
              "    </tr>\n",
              "  </tbody>\n",
              "</table>\n",
              "</div>\n",
              "      <button class=\"colab-df-convert\" onclick=\"convertToInteractive('df-c57398af-c370-41a6-9448-fb81501a9d72')\"\n",
              "              title=\"Convert this dataframe to an interactive table.\"\n",
              "              style=\"display:none;\">\n",
              "        \n",
              "  <svg xmlns=\"http://www.w3.org/2000/svg\" height=\"24px\"viewBox=\"0 0 24 24\"\n",
              "       width=\"24px\">\n",
              "    <path d=\"M0 0h24v24H0V0z\" fill=\"none\"/>\n",
              "    <path d=\"M18.56 5.44l.94 2.06.94-2.06 2.06-.94-2.06-.94-.94-2.06-.94 2.06-2.06.94zm-11 1L8.5 8.5l.94-2.06 2.06-.94-2.06-.94L8.5 2.5l-.94 2.06-2.06.94zm10 10l.94 2.06.94-2.06 2.06-.94-2.06-.94-.94-2.06-.94 2.06-2.06.94z\"/><path d=\"M17.41 7.96l-1.37-1.37c-.4-.4-.92-.59-1.43-.59-.52 0-1.04.2-1.43.59L10.3 9.45l-7.72 7.72c-.78.78-.78 2.05 0 2.83L4 21.41c.39.39.9.59 1.41.59.51 0 1.02-.2 1.41-.59l7.78-7.78 2.81-2.81c.8-.78.8-2.07 0-2.86zM5.41 20L4 18.59l7.72-7.72 1.47 1.35L5.41 20z\"/>\n",
              "  </svg>\n",
              "      </button>\n",
              "      \n",
              "  <style>\n",
              "    .colab-df-container {\n",
              "      display:flex;\n",
              "      flex-wrap:wrap;\n",
              "      gap: 12px;\n",
              "    }\n",
              "\n",
              "    .colab-df-convert {\n",
              "      background-color: #E8F0FE;\n",
              "      border: none;\n",
              "      border-radius: 50%;\n",
              "      cursor: pointer;\n",
              "      display: none;\n",
              "      fill: #1967D2;\n",
              "      height: 32px;\n",
              "      padding: 0 0 0 0;\n",
              "      width: 32px;\n",
              "    }\n",
              "\n",
              "    .colab-df-convert:hover {\n",
              "      background-color: #E2EBFA;\n",
              "      box-shadow: 0px 1px 2px rgba(60, 64, 67, 0.3), 0px 1px 3px 1px rgba(60, 64, 67, 0.15);\n",
              "      fill: #174EA6;\n",
              "    }\n",
              "\n",
              "    [theme=dark] .colab-df-convert {\n",
              "      background-color: #3B4455;\n",
              "      fill: #D2E3FC;\n",
              "    }\n",
              "\n",
              "    [theme=dark] .colab-df-convert:hover {\n",
              "      background-color: #434B5C;\n",
              "      box-shadow: 0px 1px 3px 1px rgba(0, 0, 0, 0.15);\n",
              "      filter: drop-shadow(0px 1px 2px rgba(0, 0, 0, 0.3));\n",
              "      fill: #FFFFFF;\n",
              "    }\n",
              "  </style>\n",
              "\n",
              "      <script>\n",
              "        const buttonEl =\n",
              "          document.querySelector('#df-c57398af-c370-41a6-9448-fb81501a9d72 button.colab-df-convert');\n",
              "        buttonEl.style.display =\n",
              "          google.colab.kernel.accessAllowed ? 'block' : 'none';\n",
              "\n",
              "        async function convertToInteractive(key) {\n",
              "          const element = document.querySelector('#df-c57398af-c370-41a6-9448-fb81501a9d72');\n",
              "          const dataTable =\n",
              "            await google.colab.kernel.invokeFunction('convertToInteractive',\n",
              "                                                     [key], {});\n",
              "          if (!dataTable) return;\n",
              "\n",
              "          const docLinkHtml = 'Like what you see? Visit the ' +\n",
              "            '<a target=\"_blank\" href=https://colab.research.google.com/notebooks/data_table.ipynb>data table notebook</a>'\n",
              "            + ' to learn more about interactive tables.';\n",
              "          element.innerHTML = '';\n",
              "          dataTable['output_type'] = 'display_data';\n",
              "          await google.colab.output.renderOutput(dataTable, element);\n",
              "          const docLink = document.createElement('div');\n",
              "          docLink.innerHTML = docLinkHtml;\n",
              "          element.appendChild(docLink);\n",
              "        }\n",
              "      </script>\n",
              "    </div>\n",
              "  </div>\n",
              "  "
            ],
            "text/plain": [
              "   Class label  Alcohol  ...  OD280/OD315 of diluted wines  Proline\n",
              "0            1    14.23  ...                          3.92     1065\n",
              "1            1    13.20  ...                          3.40     1050\n",
              "2            1    13.16  ...                          3.17     1185\n",
              "3            1    14.37  ...                          3.45     1480\n",
              "4            1    13.24  ...                          2.93      735\n",
              "\n",
              "[5 rows x 14 columns]"
            ]
          },
          "metadata": {},
          "execution_count": 239
        }
      ]
    },
    {
      "cell_type": "code",
      "source": [
        "# Clases\n",
        "df['Class label'].value_counts()"
      ],
      "metadata": {
        "colab": {
          "base_uri": "https://localhost:8080/"
        },
        "id": "V3BkxBuT7004",
        "outputId": "51cbc723-5bc7-4232-f575-94110bd64731"
      },
      "execution_count": 240,
      "outputs": [
        {
          "output_type": "execute_result",
          "data": {
            "text/plain": [
              "2    71\n",
              "1    59\n",
              "3    48\n",
              "Name: Class label, dtype: int64"
            ]
          },
          "metadata": {},
          "execution_count": 240
        }
      ]
    },
    {
      "cell_type": "code",
      "source": [
        "round(df['Class label'].value_counts() / df.shape[0] * 100, 2)"
      ],
      "metadata": {
        "colab": {
          "base_uri": "https://localhost:8080/"
        },
        "id": "xH-p5fN88ixP",
        "outputId": "7be5a498-4dc0-4b97-9a6f-69724a5d1e02"
      },
      "execution_count": 241,
      "outputs": [
        {
          "output_type": "execute_result",
          "data": {
            "text/plain": [
              "2    39.89\n",
              "1    33.15\n",
              "3    26.97\n",
              "Name: Class label, dtype: float64"
            ]
          },
          "metadata": {},
          "execution_count": 241
        }
      ]
    },
    {
      "cell_type": "markdown",
      "source": [
        "**Función a utilizar para estimar los modelos**"
      ],
      "metadata": {
        "id": "b_n74H3M_Jf4"
      }
    },
    {
      "cell_type": "code",
      "source": [
        "# Definicion de funcion\n",
        "def model_class(model, X_train, X_test, y_train, y_test, method):\n",
        "  np.random.seed(2731) # seed\n",
        "\n",
        "  # Estimation\n",
        "  model.fit(X_train, y_train)\n",
        "  \n",
        "  # Prediction\n",
        "  df_train_yhat=model.predict(X_train)\n",
        "  df_test_yhat=model.predict(X_test)\n",
        "\n",
        "  # Metrics\n",
        "  DeterCoef_train=model.score(X_train, y_train)\n",
        "  DeterCoef_test=model.score(X_test, y_test)\n",
        "\n",
        "  RMSE_train=np.sqrt(metrics.mean_squared_error(y_train, df_train_yhat))\n",
        "  RMSE_test=np.sqrt(metrics.mean_squared_error(y_test, df_test_yhat))\n",
        "\n",
        "  # Results\n",
        "  print(f'\\nModel Report\\n{method}\\n')\n",
        "  \n",
        "  print(f'Determination Coefficient (Train): {DeterCoef_train:.4f}')\n",
        "  print(f'Determination Coefficient (Test): {DeterCoef_test:.4f}')\n",
        "\n",
        "  print(f'RMSE (Train): {RMSE_train:.4f}')\n",
        "  print(f'RMSE (Test): {RMSE_test:.4f}') "
      ],
      "metadata": {
        "id": "Yzt9axtI8oUv"
      },
      "execution_count": 242,
      "outputs": []
    },
    {
      "cell_type": "code",
      "source": [
        "# Matriz de caracteristicas y variable dependiente\n",
        "X = df.loc[:, df.columns[(df.columns != 'Class label')]]\n",
        "y = df.loc[:, 'Class label'].values\n",
        "\n",
        "print('X dimensions:', X.shape)\n",
        "print('y dimensions:', y.shape)"
      ],
      "metadata": {
        "colab": {
          "base_uri": "https://localhost:8080/"
        },
        "id": "3PtTpawoAE2r",
        "outputId": "2ffc81ca-bcc3-4b9a-f1e8-68c6bf1d58c5"
      },
      "execution_count": 243,
      "outputs": [
        {
          "output_type": "stream",
          "name": "stdout",
          "text": [
            "X dimensions: (178, 13)\n",
            "y dimensions: (178,)\n"
          ]
        }
      ]
    },
    {
      "cell_type": "code",
      "source": [
        "# Dividir en conjuntos de prueba y entrenamiento\n",
        "X_train, X_test, y_train, y_test = train_test_split(X, y, \n",
        "                                                    test_size = 0.3,\n",
        "                                                    random_state = 0,\n",
        "                                                    stratify = y) # Estratificar en funcion de y"
      ],
      "metadata": {
        "id": "T8eiXyyhAS3X"
      },
      "execution_count": 244,
      "outputs": []
    },
    {
      "cell_type": "code",
      "source": [
        "# Estandarizar para el uso en los modelos de regresion logistica y KNN\n",
        "X_std_train = X_train\n",
        "X_std_test = X_test"
      ],
      "metadata": {
        "id": "Bvxgcd_yKGwZ"
      },
      "execution_count": 245,
      "outputs": []
    },
    {
      "cell_type": "code",
      "source": [
        "# Estandarizar datos\n",
        "scaler = StandardScaler()\n",
        "# Ajustar con base en el conjunto de entrenamiento\n",
        "scaler.fit(X_std_train)\n",
        "# Aplicar la transformacion a los conjuntos de entrenamiento y prueba\n",
        "X_std_train = scaler.transform(X_std_train)\n",
        "X_std_test = scaler.transform(X_std_test)"
      ],
      "metadata": {
        "id": "tnYjomuHAWAW"
      },
      "execution_count": 246,
      "outputs": []
    },
    {
      "cell_type": "markdown",
      "source": [
        "### **Logistic Regression**"
      ],
      "metadata": {
        "id": "N5J_LGmh_XfR"
      }
    },
    {
      "cell_type": "markdown",
      "source": [
        "Se utiliza la funcion 'GridSearchCV' de scikit-learn para determinar la los valores u opciones para algunos parámetros."
      ],
      "metadata": {
        "id": "pSjiinPG_13E"
      }
    },
    {
      "cell_type": "code",
      "source": [
        "# List of values to test the parameter n_estimators\n",
        "C_range = [1] + list(range(10, 1010, 10))\n",
        "np.array(C_range)"
      ],
      "metadata": {
        "colab": {
          "base_uri": "https://localhost:8080/"
        },
        "id": "Dwr03Mb4C-uA",
        "outputId": "090a7f40-c427-48e8-e9a5-5594d7edb2ab"
      },
      "execution_count": 247,
      "outputs": [
        {
          "output_type": "execute_result",
          "data": {
            "text/plain": [
              "array([   1,   10,   20,   30,   40,   50,   60,   70,   80,   90,  100,\n",
              "        110,  120,  130,  140,  150,  160,  170,  180,  190,  200,  210,\n",
              "        220,  230,  240,  250,  260,  270,  280,  290,  300,  310,  320,\n",
              "        330,  340,  350,  360,  370,  380,  390,  400,  410,  420,  430,\n",
              "        440,  450,  460,  470,  480,  490,  500,  510,  520,  530,  540,\n",
              "        550,  560,  570,  580,  590,  600,  610,  620,  630,  640,  650,\n",
              "        660,  670,  680,  690,  700,  710,  720,  730,  740,  750,  760,\n",
              "        770,  780,  790,  800,  810,  820,  830,  840,  850,  860,  870,\n",
              "        880,  890,  900,  910,  920,  930,  940,  950,  960,  970,  980,\n",
              "        990, 1000])"
            ]
          },
          "metadata": {},
          "execution_count": 247
        }
      ]
    },
    {
      "cell_type": "code",
      "source": [
        "np.random.seed(2731)\n",
        "\n",
        "# Modelo\n",
        "log_regress = LogisticRegression(solver = 'liblinear', multi_class = 'ovr', max_iter = 1000)\n",
        "\n",
        "# Parametros a evaluar en la funcion 'GridSearchCV'\n",
        "parameters = {'C': C_range,\n",
        "              'penalty': ['l1', 'l2']} \n",
        "\n",
        "# Determinacion y ejecucion del modelo\n",
        "gridsearch_log_regress = GridSearchCV(log_regress, parameters, cv = 10);\n",
        "gridsearch_log_regress.fit(X_std_train, y_train);"
      ],
      "metadata": {
        "id": "XN3kPCyx_R8E"
      },
      "execution_count": 248,
      "outputs": []
    },
    {
      "cell_type": "code",
      "source": [
        "#Resultados\n",
        "print(gridsearch_log_regress.best_params_)\n",
        "\n",
        "C_opt=gridsearch_log_regress.best_params_['C']\n",
        "penalty_opt=gridsearch_log_regress.best_params_['penalty']"
      ],
      "metadata": {
        "colab": {
          "base_uri": "https://localhost:8080/"
        },
        "id": "4b4zXHKxDS_v",
        "outputId": "baf0c303-db7e-47a4-f3dc-81895912aaaf"
      },
      "execution_count": 249,
      "outputs": [
        {
          "output_type": "stream",
          "name": "stdout",
          "text": [
            "{'C': 1, 'penalty': 'l2'}\n"
          ]
        }
      ]
    },
    {
      "cell_type": "markdown",
      "source": [
        "Con base en estos resultados, se determinan los siguientes parametros: `C = 1` y `penalty = 'l2'`\n"
      ],
      "metadata": {
        "id": "7TyxmWE3GhNL"
      }
    },
    {
      "cell_type": "code",
      "source": [
        "# Lista de valores a probar para 'C'\n",
        "scores = []\n",
        "for c in C_range:\n",
        "  log_regress = LogisticRegression(C = c, penalty = 'l2', solver = 'liblinear', multi_class = 'ovr', max_iter = 1000)\n",
        "  log_regress.fit(X_std_train, y_train)\n",
        "  score = log_regress.score(X_std_test, y_test)\n",
        "  scores.append(score)"
      ],
      "metadata": {
        "id": "DCgoz0aswzqc"
      },
      "execution_count": 250,
      "outputs": []
    },
    {
      "cell_type": "code",
      "source": [
        "fig, axes = plt.subplots(nrows = 1, ncols = 1, figsize = (5, 5))\n",
        "axes.plot(C_range, scores)\n",
        "axes.set_xlabel('max_depth', fontsize = 12)\n",
        "axes.set_ylabel('Accuracy', fontsize = 12);"
      ],
      "metadata": {
        "colab": {
          "base_uri": "https://localhost:8080/",
          "height": 337
        },
        "id": "kx2DVp0vx-lD",
        "outputId": "54260b4e-1f34-46ec-981f-d84940fe3a4f"
      },
      "execution_count": 251,
      "outputs": [
        {
          "output_type": "display_data",
          "data": {
            "image/png": "[encoded data removed]",
            "text/plain": [
              "<Figure size 360x360 with 1 Axes>"
            ]
          },
          "metadata": {
            "needs_background": "light"
          }
        }
      ]
    },
    {
      "cell_type": "code",
      "source": [
        "max_value=max(scores)\n",
        "max_index=scores.index(max_value)\n",
        "\n",
        "print(scores)\n",
        "print(max_value)\n",
        "print(max_index)"
      ],
      "metadata": {
        "colab": {
          "base_uri": "https://localhost:8080/"
        },
        "id": "ciJLrosNFhC-",
        "outputId": "a7d93a2b-46f3-4803-85c0-b497f7c965dd"
      },
      "execution_count": 252,
      "outputs": [
        {
          "output_type": "stream",
          "name": "stdout",
          "text": [
            "[1.0, 1.0, 1.0, 1.0, 1.0, 1.0, 1.0, 1.0, 1.0, 1.0, 1.0, 1.0, 1.0, 1.0, 1.0, 1.0, 1.0, 1.0, 1.0, 1.0, 1.0, 1.0, 1.0, 1.0, 1.0, 1.0, 1.0, 1.0, 1.0, 1.0, 1.0, 1.0, 1.0, 1.0, 1.0, 1.0, 1.0, 1.0, 1.0, 1.0, 1.0, 1.0, 1.0, 1.0, 1.0, 1.0, 1.0, 1.0, 1.0, 1.0, 1.0, 1.0, 1.0, 1.0, 1.0, 1.0, 1.0, 1.0, 1.0, 1.0, 1.0, 1.0, 1.0, 1.0, 1.0, 1.0, 1.0, 1.0, 1.0, 1.0, 1.0, 1.0, 1.0, 1.0, 1.0, 1.0, 1.0, 1.0, 1.0, 1.0, 1.0, 1.0, 1.0, 1.0, 1.0, 1.0, 1.0, 1.0, 1.0, 1.0, 1.0, 1.0, 1.0, 1.0, 1.0, 1.0, 1.0, 1.0, 1.0, 1.0, 1.0]\n",
            "1.0\n",
            "0\n"
          ]
        }
      ]
    },
    {
      "cell_type": "code",
      "source": [
        "# Lista de valores a probar para 'penalty'\n",
        "scores = []\n",
        "for pen in ['l1', 'l2']:\n",
        "  log_regress = LogisticRegression(C = C_opt, penalty = pen, solver = 'liblinear', multi_class = 'ovr', max_iter = 1000)\n",
        "  log_regress.fit(X_std_train, y_train)\n",
        "  score = log_regress.score(X_std_test, y_test)\n",
        "  scores.append(score)"
      ],
      "metadata": {
        "id": "zkytLiCyGGUu"
      },
      "execution_count": 253,
      "outputs": []
    },
    {
      "cell_type": "code",
      "source": [
        "max_value=max(scores)\n",
        "max_index=scores.index(max_value)\n",
        "\n",
        "list(zip(['l1', 'l2'], scores))"
      ],
      "metadata": {
        "colab": {
          "base_uri": "https://localhost:8080/"
        },
        "outputId": "0429d7dd-83d7-4b29-adeb-1929967d7478",
        "id": "iwdX_7d7GGUw"
      },
      "execution_count": 254,
      "outputs": [
        {
          "output_type": "execute_result",
          "data": {
            "text/plain": [
              "[('l1', 1.0), ('l2', 1.0)]"
            ]
          },
          "metadata": {},
          "execution_count": 254
        }
      ]
    },
    {
      "cell_type": "markdown",
      "source": [
        "**Estimación**"
      ],
      "metadata": {
        "id": "DdZlXvW_G_ve"
      }
    },
    {
      "cell_type": "code",
      "source": [
        "# Estimacion\n",
        "log_regress = LogisticRegression(C = C_opt, \n",
        "                                 penalty = penalty_opt, \n",
        "                                 solver = 'liblinear', \n",
        "                                 multi_class = 'ovr', \n",
        "                                 max_iter = 1000)\n",
        "\n",
        "model_class(log_regress, X_std_train, X_std_test, y_train, y_test, 'Logistic Regression: OvR, L2')"
      ],
      "metadata": {
        "colab": {
          "base_uri": "https://localhost:8080/"
        },
        "id": "0s3StcPOGTG2",
        "outputId": "1b9d9f60-811f-4bad-f842-87fa59764109"
      },
      "execution_count": 255,
      "outputs": [
        {
          "output_type": "stream",
          "name": "stdout",
          "text": [
            "\n",
            "Model Report\n",
            "Logistic Regression: OvR, L2\n",
            "\n",
            "Determination Coefficient (Train): 0.9919\n",
            "Determination Coefficient (Test): 1.0000\n",
            "RMSE (Train): 0.0898\n",
            "RMSE (Test): 0.0000\n"
          ]
        }
      ]
    },
    {
      "cell_type": "markdown",
      "source": [
        "### **KNN**"
      ],
      "metadata": {
        "id": "nM8gdjykHpSu"
      }
    },
    {
      "cell_type": "code",
      "source": [
        "# Encontrar cantidad optima de k y el peso a utilizar \n",
        "\n",
        "np.random.seed(2731) # seed\n",
        "\n",
        "# Modelo\n",
        "knn_class = KNeighborsClassifier()\n",
        "\n",
        "# Parametros a evaluar en la funcion 'GridSearchCV'\n",
        "parameters = {'n_neighbors': range(2, 40, 1),\n",
        "              'weights': ['uniform', 'distance']} \n",
        "\n",
        "# Determinacion y ejecucion del modelo\n",
        "gridsearch_knn_class = GridSearchCV(knn_class, parameters, cv = 10)\n",
        "gridsearch_knn_class.fit(X_std_train, y_train)"
      ],
      "metadata": {
        "colab": {
          "base_uri": "https://localhost:8080/"
        },
        "id": "th_8hY6CHSVY",
        "outputId": "6a86884b-d477-4640-bc25-3dea466ca290"
      },
      "execution_count": 256,
      "outputs": [
        {
          "output_type": "execute_result",
          "data": {
            "text/plain": [
              "GridSearchCV(cv=10, estimator=KNeighborsClassifier(),\n",
              "             param_grid={'n_neighbors': range(2, 40),\n",
              "                         'weights': ['uniform', 'distance']})"
            ]
          },
          "metadata": {},
          "execution_count": 256
        }
      ]
    },
    {
      "cell_type": "code",
      "source": [
        "# Resultado\n",
        "print(gridsearch_knn_class.best_params_)\n",
        "\n",
        "k_opt = gridsearch_knn_class.best_params_['n_neighbors']\n",
        "w_opt = gridsearch_knn_class.best_params_['weights']"
      ],
      "metadata": {
        "colab": {
          "base_uri": "https://localhost:8080/"
        },
        "id": "GNnsh_54L0CZ",
        "outputId": "3c44680f-7da2-4e23-9fed-8f5d3d364b1b"
      },
      "execution_count": 257,
      "outputs": [
        {
          "output_type": "stream",
          "name": "stdout",
          "text": [
            "{'n_neighbors': 34, 'weights': 'distance'}\n"
          ]
        }
      ]
    },
    {
      "cell_type": "markdown",
      "source": [
        "**Estimación**"
      ],
      "metadata": {
        "id": "hFOp7njDMEdk"
      }
    },
    {
      "cell_type": "code",
      "source": [
        "# Estimacion\n",
        "knn_class = KNeighborsClassifier(n_neighbors = k_opt, \n",
        "                                 weights = w_opt)\n",
        "\n",
        "model_class(knn_class, X_std_train, X_std_test, y_train, y_test, 'KNeighbors Classifier')"
      ],
      "metadata": {
        "colab": {
          "base_uri": "https://localhost:8080/"
        },
        "id": "qgipuKivMC9C",
        "outputId": "a192cd5c-db1f-42af-b4c9-ba4741abc87d"
      },
      "execution_count": 258,
      "outputs": [
        {
          "output_type": "stream",
          "name": "stdout",
          "text": [
            "\n",
            "Model Report\n",
            "KNeighbors Classifier\n",
            "\n",
            "Determination Coefficient (Train): 1.0000\n",
            "Determination Coefficient (Test): 0.9815\n",
            "RMSE (Train): 0.0000\n",
            "RMSE (Test): 0.1361\n"
          ]
        }
      ]
    },
    {
      "cell_type": "markdown",
      "source": [
        "### **Bagged trees**"
      ],
      "metadata": {
        "id": "iKpUZFRAMeKt"
      }
    },
    {
      "cell_type": "code",
      "source": [
        "# Lista de valores para probar el parametro n_estimators\n",
        "estimator_range = [1] + list(range(10, 210, 10))\n",
        "np.array(estimator_range)"
      ],
      "metadata": {
        "colab": {
          "base_uri": "https://localhost:8080/"
        },
        "id": "rPQaPBTeMa1e",
        "outputId": "d846e44e-794a-48f1-de3e-39563f2446d7"
      },
      "execution_count": 259,
      "outputs": [
        {
          "output_type": "execute_result",
          "data": {
            "text/plain": [
              "array([  1,  10,  20,  30,  40,  50,  60,  70,  80,  90, 100, 110, 120,\n",
              "       130, 140, 150, 160, 170, 180, 190, 200])"
            ]
          },
          "metadata": {},
          "execution_count": 259
        }
      ]
    },
    {
      "cell_type": "code",
      "source": [
        "# Lista para almacenar los scores para cada valor de n_estimators\n",
        "scores = []\n",
        "for estimator in estimator_range:\n",
        "  bag_class = BaggingClassifier(n_estimators = estimator, bootstrap = True, random_state = 2731)\n",
        "  bag_class.fit(X_train, y_train)\n",
        "  score = bag_class.score(X_test, y_test)\n",
        "  scores.append(score)"
      ],
      "metadata": {
        "id": "DxK8uE9s_y_L"
      },
      "execution_count": 260,
      "outputs": []
    },
    {
      "cell_type": "code",
      "source": [
        "fig, axes = plt.subplots(nrows = 1, ncols = 1, figsize = (5, 5))\n",
        "axes.plot(estimator_range, scores)\n",
        "axes.set_xlabel('n_estimators', fontsize = 12)\n",
        "axes.set_ylabel('Accuracy', fontsize = 12);"
      ],
      "metadata": {
        "colab": {
          "base_uri": "https://localhost:8080/",
          "height": 337
        },
        "outputId": "e109e492-00fa-491b-a8cd-ce8fdbc1a90a",
        "id": "CVO6596M_y_M"
      },
      "execution_count": 261,
      "outputs": [
        {
          "output_type": "display_data",
          "data": {
            "image/png": "[encoded data removed]",
            "text/plain": [
              "<Figure size 360x360 with 1 Axes>"
            ]
          },
          "metadata": {
            "needs_background": "light"
          }
        }
      ]
    },
    {
      "cell_type": "code",
      "source": [
        "max_value=max(scores)\n",
        "max_index=scores.index(max_value)\n",
        "\n",
        "print(max_value)\n",
        "print(max_index)\n",
        "print(estimator_range[max_index])\n",
        "# n_estimator = 60"
      ],
      "metadata": {
        "colab": {
          "base_uri": "https://localhost:8080/"
        },
        "id": "RGj3BGjG9uFX",
        "outputId": "8a9e7d7b-6a28-446f-99df-a60acf212a9e"
      },
      "execution_count": 262,
      "outputs": [
        {
          "output_type": "stream",
          "name": "stdout",
          "text": [
            "1.0\n",
            "6\n",
            "60\n"
          ]
        }
      ]
    },
    {
      "cell_type": "code",
      "source": [
        "# Estimacion \n",
        "bag_class = BaggingClassifier(n_estimators = 60, \n",
        "                                bootstrap = True,\n",
        "                                random_state = 2731)\n",
        "\n",
        "model_class(bag_class, X_train, X_test, y_train, y_test, 'Bagged Trees Classifier')"
      ],
      "metadata": {
        "colab": {
          "base_uri": "https://localhost:8080/"
        },
        "id": "nGrZVi3vOAfQ",
        "outputId": "8e2afdc1-8110-497c-954f-ba0e7549a233"
      },
      "execution_count": 263,
      "outputs": [
        {
          "output_type": "stream",
          "name": "stdout",
          "text": [
            "\n",
            "Model Report\n",
            "Bagged Trees Classifier\n",
            "\n",
            "Determination Coefficient (Train): 1.0000\n",
            "Determination Coefficient (Test): 1.0000\n",
            "RMSE (Train): 0.0000\n",
            "RMSE (Test): 0.0000\n"
          ]
        }
      ]
    },
    {
      "cell_type": "markdown",
      "source": [
        "### **Random Forest**"
      ],
      "metadata": {
        "id": "zYfg8X8TOiTU"
      }
    },
    {
      "cell_type": "code",
      "source": [
        "# Lista de valores para probar el parametro n_estimators\n",
        "estimator_range = [1] + list(range(10, 210, 10))\n",
        "np.array(estimator_range)"
      ],
      "metadata": {
        "colab": {
          "base_uri": "https://localhost:8080/"
        },
        "outputId": "2a8a310e-9dd5-4116-80ab-6a57e56fe88a",
        "id": "WmCEylSiOl_p"
      },
      "execution_count": 264,
      "outputs": [
        {
          "output_type": "execute_result",
          "data": {
            "text/plain": [
              "array([  1,  10,  20,  30,  40,  50,  60,  70,  80,  90, 100, 110, 120,\n",
              "       130, 140, 150, 160, 170, 180, 190, 200])"
            ]
          },
          "metadata": {},
          "execution_count": 264
        }
      ]
    },
    {
      "cell_type": "code",
      "source": [
        "# Lista para almacenar los scores para cada valor de n_estimators\n",
        "scores = []\n",
        "for estimator in estimator_range:\n",
        "  rfor_class = RandomForestClassifier(n_estimators = estimator, bootstrap = True, random_state = 2731)\n",
        "  rfor_class.fit(X_train, y_train)\n",
        "  score = rfor_class.score(X_test, y_test)\n",
        "  scores.append(score)"
      ],
      "metadata": {
        "id": "OmvtH8uuOl_q"
      },
      "execution_count": 265,
      "outputs": []
    },
    {
      "cell_type": "code",
      "source": [
        "fig, axes = plt.subplots(nrows = 1, ncols = 1, figsize = (5, 5))\n",
        "axes.plot(estimator_range, scores)\n",
        "axes.set_xlabel('n_estimators', fontsize = 12)\n",
        "axes.set_ylabel('Accuracy', fontsize = 12);"
      ],
      "metadata": {
        "colab": {
          "base_uri": "https://localhost:8080/",
          "height": 337
        },
        "outputId": "0758eed4-240e-4f4d-f27d-61c7ed7b52bc",
        "id": "IRQ-3rVSOl_q"
      },
      "execution_count": 266,
      "outputs": [
        {
          "output_type": "display_data",
          "data": {
            "image/png": "[encoded data removed]",
            "text/plain": [
              "<Figure size 360x360 with 1 Axes>"
            ]
          },
          "metadata": {
            "needs_background": "light"
          }
        }
      ]
    },
    {
      "cell_type": "code",
      "source": [
        "max_value=max(scores)\n",
        "max_index=scores.index(max_value)\n",
        "\n",
        "print(max_value)\n",
        "print(max_index)\n",
        "print(estimator_range[max_index])\n",
        "# n_estimator = 90"
      ],
      "metadata": {
        "colab": {
          "base_uri": "https://localhost:8080/"
        },
        "outputId": "5405c0b5-a6ab-40d9-cb8d-9e10e0d5145e",
        "id": "0YZyuUccOl_r"
      },
      "execution_count": 267,
      "outputs": [
        {
          "output_type": "stream",
          "name": "stdout",
          "text": [
            "1.0\n",
            "9\n",
            "90\n"
          ]
        }
      ]
    },
    {
      "cell_type": "code",
      "source": [
        "# Estimacion \n",
        "rfor_class = RandomForestClassifier(n_estimators = 90,\n",
        "                                    bootstrap = True,\n",
        "                                    random_state = 2731)\n",
        "\n",
        "model_class(rfor_class, X_train, X_test, y_train, y_test, 'Random Forest Classifier')"
      ],
      "metadata": {
        "colab": {
          "base_uri": "https://localhost:8080/"
        },
        "outputId": "dc69a023-d858-4a6b-a6ff-deb1b5744edb",
        "id": "BMCMgrWCOl_r"
      },
      "execution_count": 268,
      "outputs": [
        {
          "output_type": "stream",
          "name": "stdout",
          "text": [
            "\n",
            "Model Report\n",
            "Random Forest Classifier\n",
            "\n",
            "Determination Coefficient (Train): 1.0000\n",
            "Determination Coefficient (Test): 1.0000\n",
            "RMSE (Train): 0.0000\n",
            "RMSE (Test): 0.0000\n"
          ]
        }
      ]
    },
    {
      "cell_type": "markdown",
      "source": [
        "#### **Resumen**"
      ],
      "metadata": {
        "id": "A3CVf1orQv8S"
      }
    },
    {
      "cell_type": "code",
      "source": [
        "model_class(log_regress, X_std_train, X_std_test, y_train, y_test, 'Logistic Regression: OvR, L2')"
      ],
      "metadata": {
        "colab": {
          "base_uri": "https://localhost:8080/"
        },
        "id": "igUB5NGIO8Tq",
        "outputId": "069fb771-92ee-445a-c293-fe0d4969eca6"
      },
      "execution_count": 269,
      "outputs": [
        {
          "output_type": "stream",
          "name": "stdout",
          "text": [
            "\n",
            "Model Report\n",
            "Logistic Regression: OvR, L2\n",
            "\n",
            "Determination Coefficient (Train): 0.9919\n",
            "Determination Coefficient (Test): 1.0000\n",
            "RMSE (Train): 0.0898\n",
            "RMSE (Test): 0.0000\n"
          ]
        }
      ]
    },
    {
      "cell_type": "code",
      "source": [
        "model_class(knn_class, X_std_train, X_std_test, y_train, y_test, 'KNeighbors Classifier')"
      ],
      "metadata": {
        "colab": {
          "base_uri": "https://localhost:8080/"
        },
        "id": "vsEbjhTHQ5Gj",
        "outputId": "dfa3a6e2-5a06-47d2-9acd-5b9a1d24701c"
      },
      "execution_count": 270,
      "outputs": [
        {
          "output_type": "stream",
          "name": "stdout",
          "text": [
            "\n",
            "Model Report\n",
            "KNeighbors Classifier\n",
            "\n",
            "Determination Coefficient (Train): 1.0000\n",
            "Determination Coefficient (Test): 0.9815\n",
            "RMSE (Train): 0.0000\n",
            "RMSE (Test): 0.1361\n"
          ]
        }
      ]
    },
    {
      "cell_type": "code",
      "source": [
        "model_class(bag_class, X_train, X_test, y_train, y_test, 'Bagged Trees Classifier')"
      ],
      "metadata": {
        "colab": {
          "base_uri": "https://localhost:8080/"
        },
        "id": "AOqxlO3yQ7Fh",
        "outputId": "98c85a45-e6da-40bf-b4ac-5920a78a9a6b"
      },
      "execution_count": 271,
      "outputs": [
        {
          "output_type": "stream",
          "name": "stdout",
          "text": [
            "\n",
            "Model Report\n",
            "Bagged Trees Classifier\n",
            "\n",
            "Determination Coefficient (Train): 1.0000\n",
            "Determination Coefficient (Test): 1.0000\n",
            "RMSE (Train): 0.0000\n",
            "RMSE (Test): 0.0000\n"
          ]
        }
      ]
    },
    {
      "cell_type": "code",
      "source": [
        "model_class(rfor_class, X_train, X_test, y_train, y_test, 'Random Forest Classifier')"
      ],
      "metadata": {
        "colab": {
          "base_uri": "https://localhost:8080/"
        },
        "id": "ypg1jkgAQ8g9",
        "outputId": "fa620c40-a705-4161-d3c9-25daec0d318d"
      },
      "execution_count": 272,
      "outputs": [
        {
          "output_type": "stream",
          "name": "stdout",
          "text": [
            "\n",
            "Model Report\n",
            "Random Forest Classifier\n",
            "\n",
            "Determination Coefficient (Train): 1.0000\n",
            "Determination Coefficient (Test): 1.0000\n",
            "RMSE (Train): 0.0000\n",
            "RMSE (Test): 0.0000\n"
          ]
        }
      ]
    },
    {
      "cell_type": "markdown",
      "source": [
        "En función de estos resultados, se opta por el modelo de Random Forest. Si bien los resultados son similares a los proporcionados por el modelo de Bagged Trees, se toma en consideración que en los Bagged trees puede haber una característica muy fuerte en tu conjunto de datos que sea muy predictiva. De esta forma, al usar Random Forest, se está tratando de descorrelacionar los árboles y así reducir la varianza del modelo"
      ],
      "metadata": {
        "id": "QBzs6NDDQ_EH"
      }
    },
    {
      "cell_type": "markdown",
      "source": [
        "¿Qué modelo funcionó mejor?"
      ],
      "metadata": {
        "id": "ojPgeOCOR-v8"
      }
    },
    {
      "cell_type": "code",
      "source": [
        "# Se probaron distintas especificaciones dentro de cada uno de los modelos abordados: \n",
        "# Logistic Regression, KNN, Bagged Trees y Random Forest. \n",
        "# En función de estos resultados, se opta por el modelo de Random Forest. Si bien los resultados son \n",
        "# similares a los proporcionados por el modelo de Bagged Trees, se toma en consideración que en los \n",
        "# Bagged trees puede haber una característica muy fuerte en tu conjunto de datos que sea muy predictiva. \n",
        "# De esta forma, al usar Random Forest, se está tratando de descorrelacionar los árboles y así reducir la varianza del modelo"
      ],
      "metadata": {
        "id": "vmxP3McAQ-ZQ"
      },
      "execution_count": 273,
      "outputs": []
    },
    {
      "cell_type": "markdown",
      "source": [
        "¿Cuáles son las características más importantes de tus modelos? ¿Hay algún modelo que te haya gustado más y por qué?"
      ],
      "metadata": {
        "id": "oaMKWb3oR_7k"
      }
    },
    {
      "cell_type": "code",
      "source": [
        "# ¿Hay algún modelo que te haya gustado más y por qué? Ver arriba\n",
        "\n",
        "# ¿Hay algún modelo que te haya gustado más y por qué?\n",
        "\n",
        "# Importancia de las caracteristicas\n",
        "list(zip(X.columns, rfor_class.feature_importances_))"
      ],
      "metadata": {
        "colab": {
          "base_uri": "https://localhost:8080/"
        },
        "id": "ysOUCITkSBOw",
        "outputId": "58c16c77-212a-4732-e3ce-3137f0fd5990"
      },
      "execution_count": 274,
      "outputs": [
        {
          "output_type": "execute_result",
          "data": {
            "text/plain": [
              "[('Alcohol', 0.12393991377441768),\n",
              " ('Malic acid', 0.02362421445601054),\n",
              " ('Ash', 0.013637076532402616),\n",
              " ('Alcalinity of ash', 0.021064400548206998),\n",
              " ('Magnesium', 0.03024554928262492),\n",
              " ('Total phenols', 0.0536007374118288),\n",
              " ('Flavanoids', 0.1374349838912618),\n",
              " ('Nonflavanoid phenols', 0.017960769901034193),\n",
              " ('Proanthocyanins', 0.017285828042297675),\n",
              " ('Color intensity', 0.15553911822577018),\n",
              " ('Hue', 0.07556042222448281),\n",
              " ('OD280/OD315 of diluted wines', 0.14267459940800628),\n",
              " ('Proline', 0.18743238630165548)]"
            ]
          },
          "metadata": {},
          "execution_count": 274
        }
      ]
    },
    {
      "cell_type": "code",
      "source": [
        "feat_importances = pd.Series(rfor_class.feature_importances_, index = X.columns)\n",
        "\n",
        "# Grafico\n",
        "feat_importances.nlargest(10).plot(kind = 'barh');"
      ],
      "metadata": {
        "colab": {
          "base_uri": "https://localhost:8080/",
          "height": 265
        },
        "id": "tDs1-5KW4UfJ",
        "outputId": "2b6967d8-b4a7-488e-ea53-3316b9ca970a"
      },
      "execution_count": 275,
      "outputs": [
        {
          "output_type": "display_data",
          "data": {
            "image/png": "[encoded data removed]",
            "text/plain": [
              "<Figure size 432x288 with 1 Axes>"
            ]
          },
          "metadata": {
            "needs_background": "light"
          }
        }
      ]
    },
    {
      "cell_type": "code",
      "source": [
        ""
      ],
      "metadata": {
        "id": "WRhFDdcrTAsb"
      },
      "execution_count": 275,
      "outputs": []
    }
  ]
}