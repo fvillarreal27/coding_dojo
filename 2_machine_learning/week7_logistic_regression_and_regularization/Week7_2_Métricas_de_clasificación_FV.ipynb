{
  "nbformat": 4,
  "nbformat_minor": 0,
  "metadata": {
    "colab": {
      "name": "Week7_2_Métricas de clasificación_FV.ipynb",
      "provenance": [],
      "collapsed_sections": []
    },
    "kernelspec": {
      "name": "python3",
      "display_name": "Python 3"
    },
    "language_info": {
      "name": "python"
    }
  },
  "cells": [
    {
      "cell_type": "markdown",
      "source": [
        "#### **Ejercicio:** ¿Regresión logística, bosque aleatorio o KNN?\n",
        "\n",
        "**Elaborado por:** Fabian Villarreal Sosa\n",
        "\n",
        "Usaremos este conjunto de datos. Los datos, que fueron modificados a partir de esta fuente, contienen información sobre campañas de marketing directo de una institución bancaria portuguesa. Las campañas de marketing se basaron en llamadas telefónicas. **El objetivo es predecir si el cliente se suscribirá** (**sí: 1 o no: 0**) a un depósito a plazo (la columna de destino se llama 'y_yes' en este csv).\n",
        "\n",
        "https://archive.ics.uci.edu/ml/datasets/Bank+Marketing\n",
        "\n",
        "Tu tarea es construir un modelo de regresión logística para predecir si un cliente se suscribirá o no. Ajusta los hiperparámetros para obtener el mejor modelo posible. Luego, calcula las siguientes métricas de clasificación:\n",
        "\n",
        "**Métricas para calcular:**\n",
        "\n",
        "* Precisión\n",
        "* Sensibilidad\n",
        "* Especificidad\n",
        "* AUC, ROC\n",
        "\n",
        "**Preguntas para pensar y responder**\n",
        "\n",
        "Después de completar la tarea, responde las siguientes preguntas:\n",
        "\n",
        "* ¿Qué métrica será la mejor para evaluar tu modelo de clasificación para este conjunto de datos y por qué? Sugerencia: piensa en lo que significa cada métrica en este escenario específico. ¿Qué métrica va a ayudar más al banco?\n",
        "* Compara la precisión de tu modelo con el modelo de referencia. ¿Ves algún problema aquí?\n",
        "* ¿De qué otras formas podrías mejorar este modelo?"
      ],
      "metadata": {
        "id": "YpVTZq6Ic4Xl"
      }
    },
    {
      "cell_type": "code",
      "source": [
        "# Librerias\n",
        "import os\n",
        "import pandas as pd\n",
        "import numpy as np\n",
        "\n",
        "import matplotlib.pyplot as plt\n",
        "import matplotlib.ticker as mtick\n",
        "import seaborn as sns\n",
        "\n",
        "from google.colab import drive\n",
        "\n",
        "from sklearn.model_selection import train_test_split\n",
        "\n",
        "from sklearn.preprocessing import StandardScaler\n",
        "from sklearn.model_selection import GridSearchCV\n",
        "from sklearn import metrics\n",
        "\n",
        "from sklearn.linear_model import LinearRegression\n",
        "from sklearn.linear_model import LogisticRegression\n",
        "from sklearn.neighbors import KNeighborsClassifier\n",
        "from sklearn.tree import DecisionTreeClassifier\n",
        "from sklearn.ensemble import BaggingClassifier\n",
        "from sklearn.ensemble import RandomForestClassifier"
      ],
      "metadata": {
        "id": "W3bPp5PLdmf_"
      },
      "execution_count": 173,
      "outputs": []
    },
    {
      "cell_type": "code",
      "source": [
        "# Acceder a directorio en Google Drive\n",
        "drive.mount('/content/drive')"
      ],
      "metadata": {
        "colab": {
          "base_uri": "https://localhost:8080/"
        },
        "id": "9m09TI0RtmGJ",
        "outputId": "de76d68a-206b-473a-a4b1-b3d8dc6eea70"
      },
      "execution_count": 174,
      "outputs": [
        {
          "output_type": "stream",
          "name": "stdout",
          "text": [
            "Drive already mounted at /content/drive; to attempt to forcibly remount, call drive.mount(\"/content/drive\", force_remount=True).\n"
          ]
        }
      ]
    },
    {
      "cell_type": "code",
      "source": [
        "# Determinar directorio\n",
        "os.chdir('/content/drive/MyDrive/Coding Dojo/Datos')\n",
        "os.getcwd()"
      ],
      "metadata": {
        "colab": {
          "base_uri": "https://localhost:8080/",
          "height": 36
        },
        "id": "TOZCkAbstnW4",
        "outputId": "266c9eee-b99c-4d65-ac8c-987a749bd400"
      },
      "execution_count": 175,
      "outputs": [
        {
          "output_type": "execute_result",
          "data": {
            "application/vnd.google.colaboratory.intrinsic+json": {
              "type": "string"
            },
            "text/plain": [
              "'/content/drive/MyDrive/Coding Dojo/Datos'"
            ]
          },
          "metadata": {},
          "execution_count": 175
        }
      ]
    },
    {
      "cell_type": "code",
      "source": [
        "# Datos\n",
        "df = pd.read_csv('bank_modified.csv')\n",
        "df.head()"
      ],
      "metadata": {
        "colab": {
          "base_uri": "https://localhost:8080/",
          "height": 288
        },
        "id": "6WaCXFrrdvrF",
        "outputId": "3d298a8d-3196-40dd-facf-f1ba79116670"
      },
      "execution_count": 176,
      "outputs": [
        {
          "output_type": "execute_result",
          "data": {
            "text/html": [
              "\n",
              "  <div id=\"df-3b5e1cbc-5cfb-469e-a6cf-d9645006cc63\">\n",
              "    <div class=\"colab-df-container\">\n",
              "      <div>\n",
              "<style scoped>\n",
              "    .dataframe tbody tr th:only-of-type {\n",
              "        vertical-align: middle;\n",
              "    }\n",
              "\n",
              "    .dataframe tbody tr th {\n",
              "        vertical-align: top;\n",
              "    }\n",
              "\n",
              "    .dataframe thead th {\n",
              "        text-align: right;\n",
              "    }\n",
              "</style>\n",
              "<table border=\"1\" class=\"dataframe\">\n",
              "  <thead>\n",
              "    <tr style=\"text-align: right;\">\n",
              "      <th></th>\n",
              "      <th>age</th>\n",
              "      <th>balance</th>\n",
              "      <th>duration</th>\n",
              "      <th>campaign</th>\n",
              "      <th>pdays</th>\n",
              "      <th>previous</th>\n",
              "      <th>job_blue-collar</th>\n",
              "      <th>job_entrepreneur</th>\n",
              "      <th>job_housemaid</th>\n",
              "      <th>job_management</th>\n",
              "      <th>job_retired</th>\n",
              "      <th>job_self-employed</th>\n",
              "      <th>job_services</th>\n",
              "      <th>job_student</th>\n",
              "      <th>job_technician</th>\n",
              "      <th>job_unemployed</th>\n",
              "      <th>job_unknown</th>\n",
              "      <th>marital_married</th>\n",
              "      <th>marital_single</th>\n",
              "      <th>education_secondary</th>\n",
              "      <th>education_tertiary</th>\n",
              "      <th>education_unknown</th>\n",
              "      <th>default_yes</th>\n",
              "      <th>housing_yes</th>\n",
              "      <th>loan_yes</th>\n",
              "      <th>y_yes</th>\n",
              "    </tr>\n",
              "  </thead>\n",
              "  <tbody>\n",
              "    <tr>\n",
              "      <th>0</th>\n",
              "      <td>30</td>\n",
              "      <td>1787</td>\n",
              "      <td>79</td>\n",
              "      <td>1</td>\n",
              "      <td>-1</td>\n",
              "      <td>0</td>\n",
              "      <td>0</td>\n",
              "      <td>0</td>\n",
              "      <td>0</td>\n",
              "      <td>0</td>\n",
              "      <td>0</td>\n",
              "      <td>0</td>\n",
              "      <td>0</td>\n",
              "      <td>0</td>\n",
              "      <td>0</td>\n",
              "      <td>1</td>\n",
              "      <td>0</td>\n",
              "      <td>1</td>\n",
              "      <td>0</td>\n",
              "      <td>0</td>\n",
              "      <td>0</td>\n",
              "      <td>0</td>\n",
              "      <td>0</td>\n",
              "      <td>0</td>\n",
              "      <td>0</td>\n",
              "      <td>0</td>\n",
              "    </tr>\n",
              "    <tr>\n",
              "      <th>1</th>\n",
              "      <td>33</td>\n",
              "      <td>4789</td>\n",
              "      <td>220</td>\n",
              "      <td>1</td>\n",
              "      <td>339</td>\n",
              "      <td>4</td>\n",
              "      <td>0</td>\n",
              "      <td>0</td>\n",
              "      <td>0</td>\n",
              "      <td>0</td>\n",
              "      <td>0</td>\n",
              "      <td>0</td>\n",
              "      <td>1</td>\n",
              "      <td>0</td>\n",
              "      <td>0</td>\n",
              "      <td>0</td>\n",
              "      <td>0</td>\n",
              "      <td>1</td>\n",
              "      <td>0</td>\n",
              "      <td>1</td>\n",
              "      <td>0</td>\n",
              "      <td>0</td>\n",
              "      <td>0</td>\n",
              "      <td>1</td>\n",
              "      <td>1</td>\n",
              "      <td>0</td>\n",
              "    </tr>\n",
              "    <tr>\n",
              "      <th>2</th>\n",
              "      <td>35</td>\n",
              "      <td>1350</td>\n",
              "      <td>185</td>\n",
              "      <td>1</td>\n",
              "      <td>330</td>\n",
              "      <td>1</td>\n",
              "      <td>0</td>\n",
              "      <td>0</td>\n",
              "      <td>0</td>\n",
              "      <td>1</td>\n",
              "      <td>0</td>\n",
              "      <td>0</td>\n",
              "      <td>0</td>\n",
              "      <td>0</td>\n",
              "      <td>0</td>\n",
              "      <td>0</td>\n",
              "      <td>0</td>\n",
              "      <td>0</td>\n",
              "      <td>1</td>\n",
              "      <td>0</td>\n",
              "      <td>1</td>\n",
              "      <td>0</td>\n",
              "      <td>0</td>\n",
              "      <td>1</td>\n",
              "      <td>0</td>\n",
              "      <td>0</td>\n",
              "    </tr>\n",
              "    <tr>\n",
              "      <th>3</th>\n",
              "      <td>30</td>\n",
              "      <td>1476</td>\n",
              "      <td>199</td>\n",
              "      <td>4</td>\n",
              "      <td>-1</td>\n",
              "      <td>0</td>\n",
              "      <td>0</td>\n",
              "      <td>0</td>\n",
              "      <td>0</td>\n",
              "      <td>1</td>\n",
              "      <td>0</td>\n",
              "      <td>0</td>\n",
              "      <td>0</td>\n",
              "      <td>0</td>\n",
              "      <td>0</td>\n",
              "      <td>0</td>\n",
              "      <td>0</td>\n",
              "      <td>1</td>\n",
              "      <td>0</td>\n",
              "      <td>0</td>\n",
              "      <td>1</td>\n",
              "      <td>0</td>\n",
              "      <td>0</td>\n",
              "      <td>1</td>\n",
              "      <td>1</td>\n",
              "      <td>0</td>\n",
              "    </tr>\n",
              "    <tr>\n",
              "      <th>4</th>\n",
              "      <td>59</td>\n",
              "      <td>0</td>\n",
              "      <td>226</td>\n",
              "      <td>1</td>\n",
              "      <td>-1</td>\n",
              "      <td>0</td>\n",
              "      <td>1</td>\n",
              "      <td>0</td>\n",
              "      <td>0</td>\n",
              "      <td>0</td>\n",
              "      <td>0</td>\n",
              "      <td>0</td>\n",
              "      <td>0</td>\n",
              "      <td>0</td>\n",
              "      <td>0</td>\n",
              "      <td>0</td>\n",
              "      <td>0</td>\n",
              "      <td>1</td>\n",
              "      <td>0</td>\n",
              "      <td>1</td>\n",
              "      <td>0</td>\n",
              "      <td>0</td>\n",
              "      <td>0</td>\n",
              "      <td>1</td>\n",
              "      <td>0</td>\n",
              "      <td>0</td>\n",
              "    </tr>\n",
              "  </tbody>\n",
              "</table>\n",
              "</div>\n",
              "      <button class=\"colab-df-convert\" onclick=\"convertToInteractive('df-3b5e1cbc-5cfb-469e-a6cf-d9645006cc63')\"\n",
              "              title=\"Convert this dataframe to an interactive table.\"\n",
              "              style=\"display:none;\">\n",
              "        \n",
              "  <svg xmlns=\"http://www.w3.org/2000/svg\" height=\"24px\"viewBox=\"0 0 24 24\"\n",
              "       width=\"24px\">\n",
              "    <path d=\"M0 0h24v24H0V0z\" fill=\"none\"/>\n",
              "    <path d=\"M18.56 5.44l.94 2.06.94-2.06 2.06-.94-2.06-.94-.94-2.06-.94 2.06-2.06.94zm-11 1L8.5 8.5l.94-2.06 2.06-.94-2.06-.94L8.5 2.5l-.94 2.06-2.06.94zm10 10l.94 2.06.94-2.06 2.06-.94-2.06-.94-.94-2.06-.94 2.06-2.06.94z\"/><path d=\"M17.41 7.96l-1.37-1.37c-.4-.4-.92-.59-1.43-.59-.52 0-1.04.2-1.43.59L10.3 9.45l-7.72 7.72c-.78.78-.78 2.05 0 2.83L4 21.41c.39.39.9.59 1.41.59.51 0 1.02-.2 1.41-.59l7.78-7.78 2.81-2.81c.8-.78.8-2.07 0-2.86zM5.41 20L4 18.59l7.72-7.72 1.47 1.35L5.41 20z\"/>\n",
              "  </svg>\n",
              "      </button>\n",
              "      \n",
              "  <style>\n",
              "    .colab-df-container {\n",
              "      display:flex;\n",
              "      flex-wrap:wrap;\n",
              "      gap: 12px;\n",
              "    }\n",
              "\n",
              "    .colab-df-convert {\n",
              "      background-color: #E8F0FE;\n",
              "      border: none;\n",
              "      border-radius: 50%;\n",
              "      cursor: pointer;\n",
              "      display: none;\n",
              "      fill: #1967D2;\n",
              "      height: 32px;\n",
              "      padding: 0 0 0 0;\n",
              "      width: 32px;\n",
              "    }\n",
              "\n",
              "    .colab-df-convert:hover {\n",
              "      background-color: #E2EBFA;\n",
              "      box-shadow: 0px 1px 2px rgba(60, 64, 67, 0.3), 0px 1px 3px 1px rgba(60, 64, 67, 0.15);\n",
              "      fill: #174EA6;\n",
              "    }\n",
              "\n",
              "    [theme=dark] .colab-df-convert {\n",
              "      background-color: #3B4455;\n",
              "      fill: #D2E3FC;\n",
              "    }\n",
              "\n",
              "    [theme=dark] .colab-df-convert:hover {\n",
              "      background-color: #434B5C;\n",
              "      box-shadow: 0px 1px 3px 1px rgba(0, 0, 0, 0.15);\n",
              "      filter: drop-shadow(0px 1px 2px rgba(0, 0, 0, 0.3));\n",
              "      fill: #FFFFFF;\n",
              "    }\n",
              "  </style>\n",
              "\n",
              "      <script>\n",
              "        const buttonEl =\n",
              "          document.querySelector('#df-3b5e1cbc-5cfb-469e-a6cf-d9645006cc63 button.colab-df-convert');\n",
              "        buttonEl.style.display =\n",
              "          google.colab.kernel.accessAllowed ? 'block' : 'none';\n",
              "\n",
              "        async function convertToInteractive(key) {\n",
              "          const element = document.querySelector('#df-3b5e1cbc-5cfb-469e-a6cf-d9645006cc63');\n",
              "          const dataTable =\n",
              "            await google.colab.kernel.invokeFunction('convertToInteractive',\n",
              "                                                     [key], {});\n",
              "          if (!dataTable) return;\n",
              "\n",
              "          const docLinkHtml = 'Like what you see? Visit the ' +\n",
              "            '<a target=\"_blank\" href=https://colab.research.google.com/notebooks/data_table.ipynb>data table notebook</a>'\n",
              "            + ' to learn more about interactive tables.';\n",
              "          element.innerHTML = '';\n",
              "          dataTable['output_type'] = 'display_data';\n",
              "          await google.colab.output.renderOutput(dataTable, element);\n",
              "          const docLink = document.createElement('div');\n",
              "          docLink.innerHTML = docLinkHtml;\n",
              "          element.appendChild(docLink);\n",
              "        }\n",
              "      </script>\n",
              "    </div>\n",
              "  </div>\n",
              "  "
            ],
            "text/plain": [
              "   age  balance  duration  campaign  ...  default_yes  housing_yes  loan_yes  y_yes\n",
              "0   30     1787        79         1  ...            0            0         0      0\n",
              "1   33     4789       220         1  ...            0            1         1      0\n",
              "2   35     1350       185         1  ...            0            1         0      0\n",
              "3   30     1476       199         4  ...            0            1         1      0\n",
              "4   59        0       226         1  ...            0            1         0      0\n",
              "\n",
              "[5 rows x 26 columns]"
            ]
          },
          "metadata": {},
          "execution_count": 176
        }
      ]
    },
    {
      "cell_type": "code",
      "source": [
        "df.shape"
      ],
      "metadata": {
        "colab": {
          "base_uri": "https://localhost:8080/"
        },
        "id": "g_X-C0UkoK6A",
        "outputId": "62a175a5-1489-4fb6-cc04-5fba078ecb5e"
      },
      "execution_count": 177,
      "outputs": [
        {
          "output_type": "execute_result",
          "data": {
            "text/plain": [
              "(4521, 26)"
            ]
          },
          "metadata": {},
          "execution_count": 177
        }
      ]
    },
    {
      "cell_type": "code",
      "source": [
        "df.info()"
      ],
      "metadata": {
        "colab": {
          "base_uri": "https://localhost:8080/"
        },
        "id": "4FDCAADgliVw",
        "outputId": "3eb856b3-20e2-4827-c4cc-075f6608253b"
      },
      "execution_count": 178,
      "outputs": [
        {
          "output_type": "stream",
          "name": "stdout",
          "text": [
            "<class 'pandas.core.frame.DataFrame'>\n",
            "RangeIndex: 4521 entries, 0 to 4520\n",
            "Data columns (total 26 columns):\n",
            " #   Column               Non-Null Count  Dtype\n",
            "---  ------               --------------  -----\n",
            " 0   age                  4521 non-null   int64\n",
            " 1   balance              4521 non-null   int64\n",
            " 2   duration             4521 non-null   int64\n",
            " 3   campaign             4521 non-null   int64\n",
            " 4   pdays                4521 non-null   int64\n",
            " 5   previous             4521 non-null   int64\n",
            " 6   job_blue-collar      4521 non-null   int64\n",
            " 7   job_entrepreneur     4521 non-null   int64\n",
            " 8   job_housemaid        4521 non-null   int64\n",
            " 9   job_management       4521 non-null   int64\n",
            " 10  job_retired          4521 non-null   int64\n",
            " 11  job_self-employed    4521 non-null   int64\n",
            " 12  job_services         4521 non-null   int64\n",
            " 13  job_student          4521 non-null   int64\n",
            " 14  job_technician       4521 non-null   int64\n",
            " 15  job_unemployed       4521 non-null   int64\n",
            " 16  job_unknown          4521 non-null   int64\n",
            " 17  marital_married      4521 non-null   int64\n",
            " 18  marital_single       4521 non-null   int64\n",
            " 19  education_secondary  4521 non-null   int64\n",
            " 20  education_tertiary   4521 non-null   int64\n",
            " 21  education_unknown    4521 non-null   int64\n",
            " 22  default_yes          4521 non-null   int64\n",
            " 23  housing_yes          4521 non-null   int64\n",
            " 24  loan_yes             4521 non-null   int64\n",
            " 25  y_yes                4521 non-null   int64\n",
            "dtypes: int64(26)\n",
            "memory usage: 918.5 KB\n"
          ]
        }
      ]
    },
    {
      "cell_type": "code",
      "source": [
        "# Valores perdidos\n",
        "columnas_nans = df.columns[df.isna().any()]\n",
        "columnas_nans\n",
        "\n",
        "# No hay valores perdidos"
      ],
      "metadata": {
        "colab": {
          "base_uri": "https://localhost:8080/"
        },
        "id": "kqZfIf4Hd63e",
        "outputId": "f1386773-886a-4be4-d032-09f6f3cc194a"
      },
      "execution_count": 179,
      "outputs": [
        {
          "output_type": "execute_result",
          "data": {
            "text/plain": [
              "Index([], dtype='object')"
            ]
          },
          "metadata": {},
          "execution_count": 179
        }
      ]
    },
    {
      "cell_type": "code",
      "source": [
        "df.describe()"
      ],
      "metadata": {
        "colab": {
          "base_uri": "https://localhost:8080/",
          "height": 382
        },
        "id": "6h-KnUxpl1aX",
        "outputId": "35c0728a-5a28-4ef1-e46d-4339d4f9701c"
      },
      "execution_count": 180,
      "outputs": [
        {
          "output_type": "execute_result",
          "data": {
            "text/html": [
              "\n",
              "  <div id=\"df-ef2922ce-42c1-4854-a585-d3453581f4b8\">\n",
              "    <div class=\"colab-df-container\">\n",
              "      <div>\n",
              "<style scoped>\n",
              "    .dataframe tbody tr th:only-of-type {\n",
              "        vertical-align: middle;\n",
              "    }\n",
              "\n",
              "    .dataframe tbody tr th {\n",
              "        vertical-align: top;\n",
              "    }\n",
              "\n",
              "    .dataframe thead th {\n",
              "        text-align: right;\n",
              "    }\n",
              "</style>\n",
              "<table border=\"1\" class=\"dataframe\">\n",
              "  <thead>\n",
              "    <tr style=\"text-align: right;\">\n",
              "      <th></th>\n",
              "      <th>age</th>\n",
              "      <th>balance</th>\n",
              "      <th>duration</th>\n",
              "      <th>campaign</th>\n",
              "      <th>pdays</th>\n",
              "      <th>previous</th>\n",
              "      <th>job_blue-collar</th>\n",
              "      <th>job_entrepreneur</th>\n",
              "      <th>job_housemaid</th>\n",
              "      <th>job_management</th>\n",
              "      <th>job_retired</th>\n",
              "      <th>job_self-employed</th>\n",
              "      <th>job_services</th>\n",
              "      <th>job_student</th>\n",
              "      <th>job_technician</th>\n",
              "      <th>job_unemployed</th>\n",
              "      <th>job_unknown</th>\n",
              "      <th>marital_married</th>\n",
              "      <th>marital_single</th>\n",
              "      <th>education_secondary</th>\n",
              "      <th>education_tertiary</th>\n",
              "      <th>education_unknown</th>\n",
              "      <th>default_yes</th>\n",
              "      <th>housing_yes</th>\n",
              "      <th>loan_yes</th>\n",
              "      <th>y_yes</th>\n",
              "    </tr>\n",
              "  </thead>\n",
              "  <tbody>\n",
              "    <tr>\n",
              "      <th>count</th>\n",
              "      <td>4521.000000</td>\n",
              "      <td>4521.000000</td>\n",
              "      <td>4521.000000</td>\n",
              "      <td>4521.000000</td>\n",
              "      <td>4521.000000</td>\n",
              "      <td>4521.000000</td>\n",
              "      <td>4521.000000</td>\n",
              "      <td>4521.000000</td>\n",
              "      <td>4521.000000</td>\n",
              "      <td>4521.000000</td>\n",
              "      <td>4521.000000</td>\n",
              "      <td>4521.000000</td>\n",
              "      <td>4521.000000</td>\n",
              "      <td>4521.000000</td>\n",
              "      <td>4521.000000</td>\n",
              "      <td>4521.000000</td>\n",
              "      <td>4521.000000</td>\n",
              "      <td>4521.000000</td>\n",
              "      <td>4521.000000</td>\n",
              "      <td>4521.000000</td>\n",
              "      <td>4521.000000</td>\n",
              "      <td>4521.000000</td>\n",
              "      <td>4521.000000</td>\n",
              "      <td>4521.000000</td>\n",
              "      <td>4521.000000</td>\n",
              "      <td>4521.000000</td>\n",
              "    </tr>\n",
              "    <tr>\n",
              "      <th>mean</th>\n",
              "      <td>41.170095</td>\n",
              "      <td>1422.657819</td>\n",
              "      <td>263.961292</td>\n",
              "      <td>2.793630</td>\n",
              "      <td>39.766645</td>\n",
              "      <td>0.542579</td>\n",
              "      <td>0.209246</td>\n",
              "      <td>0.037160</td>\n",
              "      <td>0.024773</td>\n",
              "      <td>0.214333</td>\n",
              "      <td>0.050874</td>\n",
              "      <td>0.040478</td>\n",
              "      <td>0.092236</td>\n",
              "      <td>0.018580</td>\n",
              "      <td>0.169874</td>\n",
              "      <td>0.028312</td>\n",
              "      <td>0.008405</td>\n",
              "      <td>0.618668</td>\n",
              "      <td>0.264543</td>\n",
              "      <td>0.510064</td>\n",
              "      <td>0.298607</td>\n",
              "      <td>0.041363</td>\n",
              "      <td>0.016810</td>\n",
              "      <td>0.566025</td>\n",
              "      <td>0.152842</td>\n",
              "      <td>0.115240</td>\n",
              "    </tr>\n",
              "    <tr>\n",
              "      <th>std</th>\n",
              "      <td>10.576211</td>\n",
              "      <td>3009.638142</td>\n",
              "      <td>259.856633</td>\n",
              "      <td>3.109807</td>\n",
              "      <td>100.121124</td>\n",
              "      <td>1.693562</td>\n",
              "      <td>0.406815</td>\n",
              "      <td>0.189174</td>\n",
              "      <td>0.155451</td>\n",
              "      <td>0.410404</td>\n",
              "      <td>0.219764</td>\n",
              "      <td>0.197099</td>\n",
              "      <td>0.289391</td>\n",
              "      <td>0.135051</td>\n",
              "      <td>0.375564</td>\n",
              "      <td>0.165882</td>\n",
              "      <td>0.091304</td>\n",
              "      <td>0.485767</td>\n",
              "      <td>0.441138</td>\n",
              "      <td>0.499954</td>\n",
              "      <td>0.457697</td>\n",
              "      <td>0.199149</td>\n",
              "      <td>0.128575</td>\n",
              "      <td>0.495676</td>\n",
              "      <td>0.359875</td>\n",
              "      <td>0.319347</td>\n",
              "    </tr>\n",
              "    <tr>\n",
              "      <th>min</th>\n",
              "      <td>19.000000</td>\n",
              "      <td>-3313.000000</td>\n",
              "      <td>4.000000</td>\n",
              "      <td>1.000000</td>\n",
              "      <td>-1.000000</td>\n",
              "      <td>0.000000</td>\n",
              "      <td>0.000000</td>\n",
              "      <td>0.000000</td>\n",
              "      <td>0.000000</td>\n",
              "      <td>0.000000</td>\n",
              "      <td>0.000000</td>\n",
              "      <td>0.000000</td>\n",
              "      <td>0.000000</td>\n",
              "      <td>0.000000</td>\n",
              "      <td>0.000000</td>\n",
              "      <td>0.000000</td>\n",
              "      <td>0.000000</td>\n",
              "      <td>0.000000</td>\n",
              "      <td>0.000000</td>\n",
              "      <td>0.000000</td>\n",
              "      <td>0.000000</td>\n",
              "      <td>0.000000</td>\n",
              "      <td>0.000000</td>\n",
              "      <td>0.000000</td>\n",
              "      <td>0.000000</td>\n",
              "      <td>0.000000</td>\n",
              "    </tr>\n",
              "    <tr>\n",
              "      <th>25%</th>\n",
              "      <td>33.000000</td>\n",
              "      <td>69.000000</td>\n",
              "      <td>104.000000</td>\n",
              "      <td>1.000000</td>\n",
              "      <td>-1.000000</td>\n",
              "      <td>0.000000</td>\n",
              "      <td>0.000000</td>\n",
              "      <td>0.000000</td>\n",
              "      <td>0.000000</td>\n",
              "      <td>0.000000</td>\n",
              "      <td>0.000000</td>\n",
              "      <td>0.000000</td>\n",
              "      <td>0.000000</td>\n",
              "      <td>0.000000</td>\n",
              "      <td>0.000000</td>\n",
              "      <td>0.000000</td>\n",
              "      <td>0.000000</td>\n",
              "      <td>0.000000</td>\n",
              "      <td>0.000000</td>\n",
              "      <td>0.000000</td>\n",
              "      <td>0.000000</td>\n",
              "      <td>0.000000</td>\n",
              "      <td>0.000000</td>\n",
              "      <td>0.000000</td>\n",
              "      <td>0.000000</td>\n",
              "      <td>0.000000</td>\n",
              "    </tr>\n",
              "    <tr>\n",
              "      <th>50%</th>\n",
              "      <td>39.000000</td>\n",
              "      <td>444.000000</td>\n",
              "      <td>185.000000</td>\n",
              "      <td>2.000000</td>\n",
              "      <td>-1.000000</td>\n",
              "      <td>0.000000</td>\n",
              "      <td>0.000000</td>\n",
              "      <td>0.000000</td>\n",
              "      <td>0.000000</td>\n",
              "      <td>0.000000</td>\n",
              "      <td>0.000000</td>\n",
              "      <td>0.000000</td>\n",
              "      <td>0.000000</td>\n",
              "      <td>0.000000</td>\n",
              "      <td>0.000000</td>\n",
              "      <td>0.000000</td>\n",
              "      <td>0.000000</td>\n",
              "      <td>1.000000</td>\n",
              "      <td>0.000000</td>\n",
              "      <td>1.000000</td>\n",
              "      <td>0.000000</td>\n",
              "      <td>0.000000</td>\n",
              "      <td>0.000000</td>\n",
              "      <td>1.000000</td>\n",
              "      <td>0.000000</td>\n",
              "      <td>0.000000</td>\n",
              "    </tr>\n",
              "    <tr>\n",
              "      <th>75%</th>\n",
              "      <td>49.000000</td>\n",
              "      <td>1480.000000</td>\n",
              "      <td>329.000000</td>\n",
              "      <td>3.000000</td>\n",
              "      <td>-1.000000</td>\n",
              "      <td>0.000000</td>\n",
              "      <td>0.000000</td>\n",
              "      <td>0.000000</td>\n",
              "      <td>0.000000</td>\n",
              "      <td>0.000000</td>\n",
              "      <td>0.000000</td>\n",
              "      <td>0.000000</td>\n",
              "      <td>0.000000</td>\n",
              "      <td>0.000000</td>\n",
              "      <td>0.000000</td>\n",
              "      <td>0.000000</td>\n",
              "      <td>0.000000</td>\n",
              "      <td>1.000000</td>\n",
              "      <td>1.000000</td>\n",
              "      <td>1.000000</td>\n",
              "      <td>1.000000</td>\n",
              "      <td>0.000000</td>\n",
              "      <td>0.000000</td>\n",
              "      <td>1.000000</td>\n",
              "      <td>0.000000</td>\n",
              "      <td>0.000000</td>\n",
              "    </tr>\n",
              "    <tr>\n",
              "      <th>max</th>\n",
              "      <td>87.000000</td>\n",
              "      <td>71188.000000</td>\n",
              "      <td>3025.000000</td>\n",
              "      <td>50.000000</td>\n",
              "      <td>871.000000</td>\n",
              "      <td>25.000000</td>\n",
              "      <td>1.000000</td>\n",
              "      <td>1.000000</td>\n",
              "      <td>1.000000</td>\n",
              "      <td>1.000000</td>\n",
              "      <td>1.000000</td>\n",
              "      <td>1.000000</td>\n",
              "      <td>1.000000</td>\n",
              "      <td>1.000000</td>\n",
              "      <td>1.000000</td>\n",
              "      <td>1.000000</td>\n",
              "      <td>1.000000</td>\n",
              "      <td>1.000000</td>\n",
              "      <td>1.000000</td>\n",
              "      <td>1.000000</td>\n",
              "      <td>1.000000</td>\n",
              "      <td>1.000000</td>\n",
              "      <td>1.000000</td>\n",
              "      <td>1.000000</td>\n",
              "      <td>1.000000</td>\n",
              "      <td>1.000000</td>\n",
              "    </tr>\n",
              "  </tbody>\n",
              "</table>\n",
              "</div>\n",
              "      <button class=\"colab-df-convert\" onclick=\"convertToInteractive('df-ef2922ce-42c1-4854-a585-d3453581f4b8')\"\n",
              "              title=\"Convert this dataframe to an interactive table.\"\n",
              "              style=\"display:none;\">\n",
              "        \n",
              "  <svg xmlns=\"http://www.w3.org/2000/svg\" height=\"24px\"viewBox=\"0 0 24 24\"\n",
              "       width=\"24px\">\n",
              "    <path d=\"M0 0h24v24H0V0z\" fill=\"none\"/>\n",
              "    <path d=\"M18.56 5.44l.94 2.06.94-2.06 2.06-.94-2.06-.94-.94-2.06-.94 2.06-2.06.94zm-11 1L8.5 8.5l.94-2.06 2.06-.94-2.06-.94L8.5 2.5l-.94 2.06-2.06.94zm10 10l.94 2.06.94-2.06 2.06-.94-2.06-.94-.94-2.06-.94 2.06-2.06.94z\"/><path d=\"M17.41 7.96l-1.37-1.37c-.4-.4-.92-.59-1.43-.59-.52 0-1.04.2-1.43.59L10.3 9.45l-7.72 7.72c-.78.78-.78 2.05 0 2.83L4 21.41c.39.39.9.59 1.41.59.51 0 1.02-.2 1.41-.59l7.78-7.78 2.81-2.81c.8-.78.8-2.07 0-2.86zM5.41 20L4 18.59l7.72-7.72 1.47 1.35L5.41 20z\"/>\n",
              "  </svg>\n",
              "      </button>\n",
              "      \n",
              "  <style>\n",
              "    .colab-df-container {\n",
              "      display:flex;\n",
              "      flex-wrap:wrap;\n",
              "      gap: 12px;\n",
              "    }\n",
              "\n",
              "    .colab-df-convert {\n",
              "      background-color: #E8F0FE;\n",
              "      border: none;\n",
              "      border-radius: 50%;\n",
              "      cursor: pointer;\n",
              "      display: none;\n",
              "      fill: #1967D2;\n",
              "      height: 32px;\n",
              "      padding: 0 0 0 0;\n",
              "      width: 32px;\n",
              "    }\n",
              "\n",
              "    .colab-df-convert:hover {\n",
              "      background-color: #E2EBFA;\n",
              "      box-shadow: 0px 1px 2px rgba(60, 64, 67, 0.3), 0px 1px 3px 1px rgba(60, 64, 67, 0.15);\n",
              "      fill: #174EA6;\n",
              "    }\n",
              "\n",
              "    [theme=dark] .colab-df-convert {\n",
              "      background-color: #3B4455;\n",
              "      fill: #D2E3FC;\n",
              "    }\n",
              "\n",
              "    [theme=dark] .colab-df-convert:hover {\n",
              "      background-color: #434B5C;\n",
              "      box-shadow: 0px 1px 3px 1px rgba(0, 0, 0, 0.15);\n",
              "      filter: drop-shadow(0px 1px 2px rgba(0, 0, 0, 0.3));\n",
              "      fill: #FFFFFF;\n",
              "    }\n",
              "  </style>\n",
              "\n",
              "      <script>\n",
              "        const buttonEl =\n",
              "          document.querySelector('#df-ef2922ce-42c1-4854-a585-d3453581f4b8 button.colab-df-convert');\n",
              "        buttonEl.style.display =\n",
              "          google.colab.kernel.accessAllowed ? 'block' : 'none';\n",
              "\n",
              "        async function convertToInteractive(key) {\n",
              "          const element = document.querySelector('#df-ef2922ce-42c1-4854-a585-d3453581f4b8');\n",
              "          const dataTable =\n",
              "            await google.colab.kernel.invokeFunction('convertToInteractive',\n",
              "                                                     [key], {});\n",
              "          if (!dataTable) return;\n",
              "\n",
              "          const docLinkHtml = 'Like what you see? Visit the ' +\n",
              "            '<a target=\"_blank\" href=https://colab.research.google.com/notebooks/data_table.ipynb>data table notebook</a>'\n",
              "            + ' to learn more about interactive tables.';\n",
              "          element.innerHTML = '';\n",
              "          dataTable['output_type'] = 'display_data';\n",
              "          await google.colab.output.renderOutput(dataTable, element);\n",
              "          const docLink = document.createElement('div');\n",
              "          docLink.innerHTML = docLinkHtml;\n",
              "          element.appendChild(docLink);\n",
              "        }\n",
              "      </script>\n",
              "    </div>\n",
              "  </div>\n",
              "  "
            ],
            "text/plain": [
              "               age       balance  ...     loan_yes        y_yes\n",
              "count  4521.000000   4521.000000  ...  4521.000000  4521.000000\n",
              "mean     41.170095   1422.657819  ...     0.152842     0.115240\n",
              "std      10.576211   3009.638142  ...     0.359875     0.319347\n",
              "min      19.000000  -3313.000000  ...     0.000000     0.000000\n",
              "25%      33.000000     69.000000  ...     0.000000     0.000000\n",
              "50%      39.000000    444.000000  ...     0.000000     0.000000\n",
              "75%      49.000000   1480.000000  ...     0.000000     0.000000\n",
              "max      87.000000  71188.000000  ...     1.000000     1.000000\n",
              "\n",
              "[8 rows x 26 columns]"
            ]
          },
          "metadata": {},
          "execution_count": 180
        }
      ]
    },
    {
      "cell_type": "code",
      "source": [
        "df['pdays'].value_counts()"
      ],
      "metadata": {
        "colab": {
          "base_uri": "https://localhost:8080/"
        },
        "id": "3_7jXE3ymACp",
        "outputId": "67de9340-38c2-4f0a-dad8-a98118bc1b0a"
      },
      "execution_count": 181,
      "outputs": [
        {
          "output_type": "execute_result",
          "data": {
            "text/plain": [
              "-1      3705\n",
              " 182      23\n",
              " 183      20\n",
              " 363      12\n",
              " 92       12\n",
              "        ... \n",
              " 118       1\n",
              " 386       1\n",
              " 63        1\n",
              " 81        1\n",
              " 234       1\n",
              "Name: pdays, Length: 292, dtype: int64"
            ]
          },
          "metadata": {},
          "execution_count": 181
        }
      ]
    },
    {
      "cell_type": "code",
      "source": [
        "# Se puede observar que existen 3,705 personas a las cuales no se les han llamado\n",
        "# De esta forma, esta variable se utiliza para crear una dummy respecto a si se ha llamado a la persona o no\n",
        "df['pdays2']=0\n",
        "df.loc[df['pdays'] > 0, 'pdays2'] = 1\n",
        "\n",
        "df['pdays2'].value_counts()"
      ],
      "metadata": {
        "colab": {
          "base_uri": "https://localhost:8080/"
        },
        "id": "cOIL6P4LueDe",
        "outputId": "36a9c18b-8330-435f-f37b-b4a470269215"
      },
      "execution_count": 182,
      "outputs": [
        {
          "output_type": "execute_result",
          "data": {
            "text/plain": [
              "0    3705\n",
              "1     816\n",
              "Name: pdays2, dtype: int64"
            ]
          },
          "metadata": {},
          "execution_count": 182
        }
      ]
    },
    {
      "cell_type": "code",
      "source": [
        "# Matriz de caracteristicas y variable dependiente\n",
        "X_var = df.drop(['y_yes', 'pdays'], axis=1).columns\n",
        "X = df.loc[:, X_var]\n",
        "\n",
        "y = df.loc[:, 'y_yes'].values\n",
        "\n",
        "print('X dimensions: ', X.shape)\n",
        "print('y dimensions: ', y.shape)"
      ],
      "metadata": {
        "colab": {
          "base_uri": "https://localhost:8080/"
        },
        "id": "6hcWoQAKm9SO",
        "outputId": "c4dd8ef2-1386-4710-a066-206fee29dec4"
      },
      "execution_count": 183,
      "outputs": [
        {
          "output_type": "stream",
          "name": "stdout",
          "text": [
            "X dimensions:  (4521, 25)\n",
            "y dimensions:  (4521,)\n"
          ]
        }
      ]
    },
    {
      "cell_type": "code",
      "source": [
        "# Dividir datos en conjuntos de entrenamiento y de prueba\n",
        "X_train, X_test, y_train, y_test = train_test_split(X, y, \n",
        "                                                    test_size = 0.3,\n",
        "                                                    random_state = 2731,\n",
        "                                                    stratify = y)"
      ],
      "metadata": {
        "id": "VYSe7m5zojpN"
      },
      "execution_count": 184,
      "outputs": []
    },
    {
      "cell_type": "code",
      "source": [
        "# Escalar los datos\n",
        "scaler = StandardScaler()\n",
        "# Ajustar con base en el conjunto de entrenamiento\n",
        "scaler.fit(X_train)\n",
        "# Aplicar la transformacion a los conjuntos de entrenamiento y de prueba\n",
        "X_train = scaler.transform(X_train)\n",
        "X_test = scaler.transform(X_test)"
      ],
      "metadata": {
        "id": "9pefF-Y2ojxj"
      },
      "execution_count": 185,
      "outputs": []
    },
    {
      "cell_type": "markdown",
      "source": [
        "Definir función para estimar modelos"
      ],
      "metadata": {
        "id": "_hGPakk9p1i3"
      }
    },
    {
      "cell_type": "code",
      "source": [
        "# Definicion de funcion\n",
        "def model_class(model, X_train, X_test, y_train, y_test, method):\n",
        "  np.random.seed(2731) # seed\n",
        "\n",
        "  # Estimation\n",
        "  model.fit(X_train, y_train)\n",
        "  \n",
        "  # Prediction\n",
        "  yhat_train = model.predict(X_train)\n",
        "  yhat_test = model.predict(X_test)\n",
        "\n",
        "  # Metrics\n",
        "  DeterCoef_train = model.score(X_train, y_train)\n",
        "  DeterCoef_test = model.score(X_test, y_test)\n",
        "\n",
        "  roc_auc_score_train = metrics.roc_auc_score(y_train, model.predict_proba(X_train)[:, 1])\n",
        "  roc_auc_score_test = metrics.roc_auc_score(y_test, model.predict_proba(X_test)[:, 1]) \n",
        "\n",
        "  RMSE_train = np.sqrt(metrics.mean_squared_error(y_train, yhat_train))\n",
        "  RMSE_test = np.sqrt(metrics.mean_squared_error(y_test, yhat_test))\n",
        "\n",
        "  # Confusion matrix\n",
        "  c_matrix_train = metrics.confusion_matrix(y_train, yhat_train)\n",
        "  c_matrix_test = metrics.confusion_matrix(y_test, yhat_test) \n",
        "\n",
        "  TP_train =  c_matrix_train[1][1]\n",
        "  TN_train =  c_matrix_train[0][0]\n",
        "  FP_train =  c_matrix_train[0][1]\n",
        "  FN_train =  c_matrix_train[1][0]  \n",
        "\n",
        "  TP_test =  c_matrix_test[1][1]\n",
        "  TN_test =  c_matrix_test[0][0]\n",
        "  FP_test =  c_matrix_test[0][1]\n",
        "  FN_test =  c_matrix_test[1][0]   \n",
        "\n",
        "  sensitivity_train = (TP_train / float(TP_train + FN_train))\n",
        "  sensitivity_test = (TP_test / float(TP_test + FN_test))  \n",
        "\n",
        "  specificity_train =  (TN_train / float(TN_train + FP_train))\n",
        "  specificity_test =  (TN_test / float(TN_test + FP_test))  \n",
        "\n",
        "  # Results\n",
        "  print(f'\\nModel Report\\n{method}\\n')\n",
        "  \n",
        "  print(f'Determination Coefficient/Precision (Train): {DeterCoef_train:.4f}')\n",
        "  print(f'Determination Coefficient/Precision (Test): {DeterCoef_test:.4f}')\n",
        "\n",
        "  print('\\n')\n",
        "\n",
        "  print(f'RMSE (Train): {RMSE_train:.4f}')\n",
        "  print(f'RMSE (Test): {RMSE_test:.4f}')\n",
        "\n",
        "  print('\\n')\n",
        "\n",
        "  print(f'Sensitivity (Train): {sensitivity_train:.4f}')\n",
        "  print(f'Sensitivity (Test): {sensitivity_test:.4f}')  \n",
        "  print(f'Specificity (Train): {specificity_train:.4f}')\n",
        "  print(f'Specificity (Test): {specificity_test:.4f}')    \n",
        "\n",
        "  print('\\n')\n",
        "\n",
        "  print(f'AUC ROC (Train): {roc_auc_score_train:.4f}')\n",
        "  print(f'AUC ROC (Test): {roc_auc_score_test:.4f}')"
      ],
      "metadata": {
        "id": "T3QHQ6GGoj0a"
      },
      "execution_count": 186,
      "outputs": []
    },
    {
      "cell_type": "markdown",
      "source": [
        "Se utiliza la funcion 'GridSearchCV' de scikit-learn para determinar la los valores u opciones para algunos parámetros."
      ],
      "metadata": {
        "id": "pSjiinPG_13E"
      }
    },
    {
      "cell_type": "code",
      "source": [
        "np.random.seed(2731)\n",
        "\n",
        "# List of values to test the parameter n_estimators\n",
        "C_range = [1] + list(range(10, 1010, 10))\n",
        "np.array(C_range)\n",
        "\n",
        "# Modelo\n",
        "log_regress = LogisticRegression(solver = 'liblinear', random_state = 2731)\n",
        "\n",
        "# Parametros a evaluar en la funcion 'GridSearchCV'\n",
        "parameters = {'C': C_range,\n",
        "              'penalty': ['l1', 'l2']} \n",
        "\n",
        "# Determinacion y ejecucion del modelo\n",
        "gridsearch_log_regress = GridSearchCV(log_regress, parameters, cv = 10);\n",
        "gridsearch_log_regress.fit(X_train, y_train);"
      ],
      "metadata": {
        "id": "XN3kPCyx_R8E"
      },
      "execution_count": 187,
      "outputs": []
    },
    {
      "cell_type": "code",
      "source": [
        "#Resultados\n",
        "print(gridsearch_log_regress.best_params_)\n",
        "\n",
        "C_opt=gridsearch_log_regress.best_params_['C']\n",
        "penalty_opt=gridsearch_log_regress.best_params_['penalty']"
      ],
      "metadata": {
        "colab": {
          "base_uri": "https://localhost:8080/"
        },
        "id": "4b4zXHKxDS_v",
        "outputId": "4324f09c-cfb5-4153-9645-fe6c34f929d8"
      },
      "execution_count": 188,
      "outputs": [
        {
          "output_type": "stream",
          "name": "stdout",
          "text": [
            "{'C': 1, 'penalty': 'l1'}\n"
          ]
        }
      ]
    },
    {
      "cell_type": "code",
      "source": [
        "# Lista de valores a probar para 'C'\n",
        "scores = []\n",
        "for c in C_range:\n",
        "  log_regress = LogisticRegression(C = c, penalty = 'l1', solver = 'liblinear', random_state = 2731)\n",
        "  log_regress.fit(X_train, y_train)\n",
        "  score = log_regress.score(X_test, y_test)\n",
        "  scores.append(score)"
      ],
      "metadata": {
        "id": "DCgoz0aswzqc"
      },
      "execution_count": 189,
      "outputs": []
    },
    {
      "cell_type": "code",
      "source": [
        "fig, axes = plt.subplots(nrows = 1, ncols = 1, figsize = (5, 5))\n",
        "axes.plot(C_range, scores)\n",
        "axes.set_xlabel('max_depth', fontsize = 12)\n",
        "axes.set_ylabel('Accuracy', fontsize = 12);"
      ],
      "metadata": {
        "colab": {
          "base_uri": "https://localhost:8080/",
          "height": 337
        },
        "id": "kx2DVp0vx-lD",
        "outputId": "00617eb4-e908-400f-d722-3648f46c5efb"
      },
      "execution_count": 190,
      "outputs": [
        {
          "output_type": "display_data",
          "data": {
            "image/png": "[encoded data removed]",
            "text/plain": [
              "<Figure size 360x360 with 1 Axes>"
            ]
          },
          "metadata": {
            "needs_background": "light"
          }
        }
      ]
    },
    {
      "cell_type": "code",
      "source": [
        "max_value=max(scores)\n",
        "max_index=scores.index(max_value)\n",
        "\n",
        "print(scores)\n",
        "print(max_value)\n",
        "print(max_index)"
      ],
      "metadata": {
        "colab": {
          "base_uri": "https://localhost:8080/"
        },
        "id": "ciJLrosNFhC-",
        "outputId": "b4d6c896-95b7-4834-d642-df35c6683986"
      },
      "execution_count": 191,
      "outputs": [
        {
          "output_type": "stream",
          "name": "stdout",
          "text": [
            "[0.8953574060427414, 0.8968312453942521, 0.8960943257184967, 0.8960943257184967, 0.8960943257184967, 0.8960943257184967, 0.8960943257184967, 0.8960943257184967, 0.8960943257184967, 0.8960943257184967, 0.8960943257184967, 0.8960943257184967, 0.8960943257184967, 0.8960943257184967, 0.8960943257184967, 0.8960943257184967, 0.8960943257184967, 0.8960943257184967, 0.8960943257184967, 0.8960943257184967, 0.8960943257184967, 0.8960943257184967, 0.8960943257184967, 0.8960943257184967, 0.8960943257184967, 0.8960943257184967, 0.8960943257184967, 0.8960943257184967, 0.8960943257184967, 0.8960943257184967, 0.8960943257184967, 0.8960943257184967, 0.8960943257184967, 0.8960943257184967, 0.8960943257184967, 0.8960943257184967, 0.8960943257184967, 0.8960943257184967, 0.8960943257184967, 0.8960943257184967, 0.8960943257184967, 0.8960943257184967, 0.8960943257184967, 0.8960943257184967, 0.8960943257184967, 0.8960943257184967, 0.8960943257184967, 0.8960943257184967, 0.8960943257184967, 0.8960943257184967, 0.8960943257184967, 0.8960943257184967, 0.8960943257184967, 0.8960943257184967, 0.8960943257184967, 0.8960943257184967, 0.8960943257184967, 0.8960943257184967, 0.8960943257184967, 0.8960943257184967, 0.8960943257184967, 0.8960943257184967, 0.8960943257184967, 0.8960943257184967, 0.8960943257184967, 0.8960943257184967, 0.8960943257184967, 0.8960943257184967, 0.8960943257184967, 0.8960943257184967, 0.8960943257184967, 0.8960943257184967, 0.8960943257184967, 0.8960943257184967, 0.8960943257184967, 0.8960943257184967, 0.8960943257184967, 0.8960943257184967, 0.8960943257184967, 0.8960943257184967, 0.8960943257184967, 0.8960943257184967, 0.8960943257184967, 0.8960943257184967, 0.8960943257184967, 0.8960943257184967, 0.8960943257184967, 0.8960943257184967, 0.8960943257184967, 0.8960943257184967, 0.8960943257184967, 0.8960943257184967, 0.8960943257184967, 0.8960943257184967, 0.8960943257184967, 0.8960943257184967, 0.8960943257184967, 0.8960943257184967, 0.8960943257184967, 0.8960943257184967, 0.8960943257184967]\n",
            "0.8968312453942521\n",
            "1\n"
          ]
        }
      ]
    },
    {
      "cell_type": "code",
      "source": [
        "# Lista de valores a probar para 'penalty'\n",
        "scores = []\n",
        "for pen in ['l1', 'l2']:\n",
        "  log_regress = LogisticRegression(C = C_opt, penalty = pen, solver = 'liblinear', multi_class = 'ovr', max_iter = 1000, random_state = 2731)\n",
        "  log_regress.fit(X_train, y_train)\n",
        "  score = log_regress.score(X_test, y_test)\n",
        "  scores.append(score)"
      ],
      "metadata": {
        "id": "zkytLiCyGGUu"
      },
      "execution_count": 192,
      "outputs": []
    },
    {
      "cell_type": "code",
      "source": [
        "max_value=max(scores)\n",
        "max_index=scores.index(max_value)\n",
        "\n",
        "list(zip(['l1', 'l2'], scores))\n",
        "# Los resultados no sugieren diferencia entre L1 y L2"
      ],
      "metadata": {
        "colab": {
          "base_uri": "https://localhost:8080/"
        },
        "outputId": "27cbc8bc-d22c-4825-cd82-a10991692cc6",
        "id": "iwdX_7d7GGUw"
      },
      "execution_count": 193,
      "outputs": [
        {
          "output_type": "execute_result",
          "data": {
            "text/plain": [
              "[('l1', 0.8953574060427414), ('l2', 0.8960943257184967)]"
            ]
          },
          "metadata": {},
          "execution_count": 193
        }
      ]
    },
    {
      "cell_type": "markdown",
      "source": [
        "**Estimación**"
      ],
      "metadata": {
        "id": "DdZlXvW_G_ve"
      }
    },
    {
      "cell_type": "code",
      "source": [
        "# Estimacion\n",
        "log_regress = LogisticRegression(C = C_opt, \n",
        "                                 penalty = penalty_opt, \n",
        "                                 solver = 'liblinear',\n",
        "                                 random_state = 2731)\n",
        "\n",
        "model_class(log_regress, X_train, X_test, y_train, y_test, 'Logistic Regression')"
      ],
      "metadata": {
        "colab": {
          "base_uri": "https://localhost:8080/"
        },
        "id": "0s3StcPOGTG2",
        "outputId": "67d2194b-731c-438d-9c7b-08f5ac0f7085"
      },
      "execution_count": 194,
      "outputs": [
        {
          "output_type": "stream",
          "name": "stdout",
          "text": [
            "\n",
            "Model Report\n",
            "Logistic Regression\n",
            "\n",
            "Determination Coefficient/Precision (Train): 0.8894\n",
            "Determination Coefficient/Precision (Test): 0.8954\n",
            "\n",
            "\n",
            "RMSE (Train): 0.3326\n",
            "RMSE (Test): 0.3235\n",
            "\n",
            "\n",
            "Sensitivity (Train): 0.1890\n",
            "Sensitivity (Test): 0.2051\n",
            "Specificity (Train): 0.9807\n",
            "Specificity (Test): 0.9850\n",
            "\n",
            "\n",
            "AUC ROC (Train): 0.8584\n",
            "AUC ROC (Test): 0.8791\n"
          ]
        }
      ]
    },
    {
      "cell_type": "code",
      "source": [
        "# Visualizar la curva ROC Train\n",
        "metrics.plot_roc_curve(log_regress, X_train, y_train);\n",
        "plt.plot([0, 1], [0, 1], ls = '--', label = 'Baseline (AUC = 0.5)')\n",
        "plt.title('Curva ROC (Train)', fontsize = 12)\n",
        "plt.legend();"
      ],
      "metadata": {
        "colab": {
          "base_uri": "https://localhost:8080/",
          "height": 352
        },
        "id": "73jQwTFroj_L",
        "outputId": "71ab4f46-373b-430f-95d3-7a0890a584ae"
      },
      "execution_count": 195,
      "outputs": [
        {
          "output_type": "stream",
          "name": "stderr",
          "text": [
            "/usr/local/lib/python3.7/dist-packages/sklearn/utils/deprecation.py:87: FutureWarning: Function plot_roc_curve is deprecated; Function :func:`plot_roc_curve` is deprecated in 1.0 and will be removed in 1.2. Use one of the class methods: :meth:`sklearn.metric.RocCurveDisplay.from_predictions` or :meth:`sklearn.metric.RocCurveDisplay.from_estimator`.\n",
            "  warnings.warn(msg, category=FutureWarning)\n"
          ]
        },
        {
          "output_type": "display_data",
          "data": {
            "image/png": "[encoded data removed]",
            "text/plain": [
              "<Figure size 432x288 with 1 Axes>"
            ]
          },
          "metadata": {
            "needs_background": "light"
          }
        }
      ]
    },
    {
      "cell_type": "code",
      "source": [
        "# Visualizar la curva ROC Test\n",
        "metrics.plot_roc_curve(log_regress, X_test, y_test);\n",
        "plt.plot([0, 1], [0, 1], ls = '--', label = 'Baseline (AUC = 0.5)')\n",
        "plt.title('Curva ROC (Test)', fontsize = 12)\n",
        "plt.legend();"
      ],
      "metadata": {
        "colab": {
          "base_uri": "https://localhost:8080/",
          "height": 352
        },
        "id": "7FQm_c6GokBj",
        "outputId": "9252cefd-df58-458a-fd11-93c39d4a5e42"
      },
      "execution_count": 196,
      "outputs": [
        {
          "output_type": "stream",
          "name": "stderr",
          "text": [
            "/usr/local/lib/python3.7/dist-packages/sklearn/utils/deprecation.py:87: FutureWarning: Function plot_roc_curve is deprecated; Function :func:`plot_roc_curve` is deprecated in 1.0 and will be removed in 1.2. Use one of the class methods: :meth:`sklearn.metric.RocCurveDisplay.from_predictions` or :meth:`sklearn.metric.RocCurveDisplay.from_estimator`.\n",
            "  warnings.warn(msg, category=FutureWarning)\n"
          ]
        },
        {
          "output_type": "display_data",
          "data": {
            "image/png": "[encoded data removed]",
            "text/plain": [
              "<Figure size 432x288 with 1 Axes>"
            ]
          },
          "metadata": {
            "needs_background": "light"
          }
        }
      ]
    },
    {
      "cell_type": "markdown",
      "source": [
        "Modelo de referencia"
      ],
      "metadata": {
        "id": "8h2pYAuAzXDQ"
      }
    },
    {
      "cell_type": "code",
      "source": [
        "# Estimacion con modelo por default\n",
        "log_regress_ref = LogisticRegression(random_state = 2731)\n",
        "\n",
        "model_class(log_regress_ref, X_train, X_test, y_train, y_test, 'Logistic Regression')"
      ],
      "metadata": {
        "colab": {
          "base_uri": "https://localhost:8080/"
        },
        "id": "tgfnpaM7zUzm",
        "outputId": "1c66e9cc-1c0b-4a1a-805c-23af2ffba4f6"
      },
      "execution_count": 197,
      "outputs": [
        {
          "output_type": "stream",
          "name": "stdout",
          "text": [
            "\n",
            "Model Report\n",
            "Logistic Regression\n",
            "\n",
            "Determination Coefficient/Precision (Train): 0.8891\n",
            "Determination Coefficient/Precision (Test): 0.8961\n",
            "\n",
            "\n",
            "RMSE (Train): 0.3331\n",
            "RMSE (Test): 0.3223\n",
            "\n",
            "\n",
            "Sensitivity (Train): 0.1890\n",
            "Sensitivity (Test): 0.2051\n",
            "Specificity (Train): 0.9804\n",
            "Specificity (Test): 0.9858\n",
            "\n",
            "\n",
            "AUC ROC (Train): 0.8581\n",
            "AUC ROC (Test): 0.8787\n"
          ]
        }
      ]
    },
    {
      "cell_type": "markdown",
      "source": [
        "¿Qué métrica será la mejor para evaluar tu modelo de clasificación para este conjunto de datos y por qué? Sugerencia: piensa en lo que significa cada métrica en este escenario específico. ¿Qué métrica va a ayudar más al banco?"
      ],
      "metadata": {
        "id": "Ss1Qk-4ewIxd"
      }
    },
    {
      "cell_type": "code",
      "source": [
        "# En este caso, se esta interesado en que los clientes acuerden una suscripción de un depósito a plazo.\n",
        "# De esta forma, se puede tomar en consideración que lo que se busca es poder detectar correctamente a \n",
        "# aquellas personas que aceptan la suscripción en relación a todas aquellas que se suscriben. Es decir, \n",
        "# se puede hacer énfasis en la sensibilidad. Por otro lado, también se busca precisión en el modelo, es decir,\n",
        "# que haya una buena proporción de predicciones positivas que fueron correctas. Finalmente, también se puede\n",
        "# tomar en consideración el área debajo de la curva ROC (AUC ROC) ya que brinda una idea respecto a que\n",
        "# tan bien el modelo permite establecer una diferenciación entre los casos positivos y negativos."
      ],
      "metadata": {
        "id": "wTu1NSeAwD4z"
      },
      "execution_count": 198,
      "outputs": []
    },
    {
      "cell_type": "markdown",
      "source": [
        "Compara la precisión de tu modelo con el modelo de referencia. ¿Ves algún problema aquí?"
      ],
      "metadata": {
        "id": "cm7arNexwKm8"
      }
    },
    {
      "cell_type": "code",
      "source": [
        "model_class(log_regress, X_train, X_test, y_train, y_test, 'Logistic Regression')"
      ],
      "metadata": {
        "colab": {
          "base_uri": "https://localhost:8080/"
        },
        "id": "bahh4cNnwD7O",
        "outputId": "4bf4a7f0-73a2-49d5-bfe1-5673dcf1b8aa"
      },
      "execution_count": 199,
      "outputs": [
        {
          "output_type": "stream",
          "name": "stdout",
          "text": [
            "\n",
            "Model Report\n",
            "Logistic Regression\n",
            "\n",
            "Determination Coefficient/Precision (Train): 0.8894\n",
            "Determination Coefficient/Precision (Test): 0.8954\n",
            "\n",
            "\n",
            "RMSE (Train): 0.3326\n",
            "RMSE (Test): 0.3235\n",
            "\n",
            "\n",
            "Sensitivity (Train): 0.1890\n",
            "Sensitivity (Test): 0.2051\n",
            "Specificity (Train): 0.9807\n",
            "Specificity (Test): 0.9850\n",
            "\n",
            "\n",
            "AUC ROC (Train): 0.8584\n",
            "AUC ROC (Test): 0.8791\n"
          ]
        }
      ]
    },
    {
      "cell_type": "code",
      "source": [
        "model_class(log_regress_ref, X_train, X_test, y_train, y_test, 'Logistic Regression')"
      ],
      "metadata": {
        "colab": {
          "base_uri": "https://localhost:8080/"
        },
        "id": "pAOGKc0YwU-X",
        "outputId": "e73f37dd-3a56-4d13-e6fc-d3737500a80e"
      },
      "execution_count": 200,
      "outputs": [
        {
          "output_type": "stream",
          "name": "stdout",
          "text": [
            "\n",
            "Model Report\n",
            "Logistic Regression\n",
            "\n",
            "Determination Coefficient/Precision (Train): 0.8891\n",
            "Determination Coefficient/Precision (Test): 0.8961\n",
            "\n",
            "\n",
            "RMSE (Train): 0.3331\n",
            "RMSE (Test): 0.3223\n",
            "\n",
            "\n",
            "Sensitivity (Train): 0.1890\n",
            "Sensitivity (Test): 0.2051\n",
            "Specificity (Train): 0.9804\n",
            "Specificity (Test): 0.9858\n",
            "\n",
            "\n",
            "AUC ROC (Train): 0.8581\n",
            "AUC ROC (Test): 0.8787\n"
          ]
        }
      ]
    },
    {
      "cell_type": "code",
      "source": [
        "# Al observar las distintas métricas, no se puede observar una diferencia sustancial entre el modelo \n",
        "# que busca una optimización de los resultados con base en el ajuste de algunos parámetros y el modelo \n",
        "# de referencia que toma los valores y opciones por default de los parámetros."
      ],
      "metadata": {
        "id": "XwwPBmXxwaGK"
      },
      "execution_count": 201,
      "outputs": []
    },
    {
      "cell_type": "markdown",
      "source": [
        "¿De qué otras formas podrías mejorar este modelo?"
      ],
      "metadata": {
        "id": "FRGd5KXnwMcH"
      }
    },
    {
      "cell_type": "code",
      "source": [
        "# Además de poder ajustar los demás parámetros dentro del modelo, se puede optar por \n",
        "# establecer un rebalance de los casos positivos (1) frente a los negativos (0):\n",
        "\n",
        "round(df['y_yes'].value_counts() / df.shape[0] * 100, 2)\n",
        "# En este caso se puede observar que, aproximadamente, del total de clientes \n",
        "# analizados, 11.5% han decidido suscribirse a un depósito a plazo\n",
        "\n",
        "# En este caso, posiblemente puede haber un sesgo en esta variable al haber \n",
        "# una mayor proporción de respuestas negativas.\n",
        "\n",
        "# En este caso, se puede establecer un rebalance de esta variable, tomando en consideración una proporcion de\n",
        "# 80% para respuestas negativas (0) y 20% para respuestas positivas (1) "
      ],
      "metadata": {
        "colab": {
          "base_uri": "https://localhost:8080/"
        },
        "id": "OSXJu7vhwD9v",
        "outputId": "70b4d049-23db-4682-ba7a-c595b4ece45c"
      },
      "execution_count": 202,
      "outputs": [
        {
          "output_type": "execute_result",
          "data": {
            "text/plain": [
              "0    88.48\n",
              "1    11.52\n",
              "Name: y_yes, dtype: float64"
            ]
          },
          "metadata": {},
          "execution_count": 202
        }
      ]
    },
    {
      "cell_type": "code",
      "source": [
        "# Considerar una nueva base, con una muestra aleatoria de los datos negativos para establecer una relación de:\n",
        "# 80% para respuestas negativas (0) y 20% para respuestas positivas (1)\n",
        "\n",
        "f_y0 = df['y_yes']==0\n",
        "f_y1 = df['y_yes']==1\n",
        "\n",
        "df_y0 = df[f_y0]\n",
        "df_y1 = df[f_y1]"
      ],
      "metadata": {
        "id": "NCAVEJN1wEAH"
      },
      "execution_count": 203,
      "outputs": []
    },
    {
      "cell_type": "code",
      "source": [
        "df['y_yes'].value_counts()\n",
        "\n",
        "cantidad_y0 = int(round(df['y_yes'].value_counts()[1] / 0.2, 0)) - 521"
      ],
      "metadata": {
        "id": "NdiKukQUyYpn"
      },
      "execution_count": 204,
      "outputs": []
    },
    {
      "cell_type": "code",
      "source": [
        "df_y0 = df_y0.sample(n = cantidad_y0)"
      ],
      "metadata": {
        "id": "nSjw7PKMwECZ"
      },
      "execution_count": 205,
      "outputs": []
    },
    {
      "cell_type": "code",
      "source": [
        "df1 = df_y0.append(df_y1, ignore_index = False)"
      ],
      "metadata": {
        "id": "j_fqwTpIwEEx"
      },
      "execution_count": 206,
      "outputs": []
    },
    {
      "cell_type": "code",
      "source": [
        "round(df1['y_yes'].value_counts() / df1.shape[0] * 100, 2)\n",
        "# De esta forma, se puede estimar con este conjunto de datos, al poseer un rebalance de los casos \n",
        "# negativos en relación a los positivos"
      ],
      "metadata": {
        "colab": {
          "base_uri": "https://localhost:8080/"
        },
        "id": "_26K-MfmzZAH",
        "outputId": "a80b112f-a69a-49c6-dccf-a5a99ee3d46a"
      },
      "execution_count": 207,
      "outputs": [
        {
          "output_type": "execute_result",
          "data": {
            "text/plain": [
              "0    80.0\n",
              "1    20.0\n",
              "Name: y_yes, dtype: float64"
            ]
          },
          "metadata": {},
          "execution_count": 207
        }
      ]
    }
  ]
}