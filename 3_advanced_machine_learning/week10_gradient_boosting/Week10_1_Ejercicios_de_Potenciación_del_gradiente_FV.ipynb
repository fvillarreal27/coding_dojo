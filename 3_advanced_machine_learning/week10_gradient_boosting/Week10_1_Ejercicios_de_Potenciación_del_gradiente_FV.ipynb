{
  "nbformat": 4,
  "nbformat_minor": 0,
  "metadata": {
    "colab": {
      "name": "Week10_1_Ejercicios de Potenciación del gradiente_FV.ipynb",
      "provenance": [],
      "collapsed_sections": []
    },
    "kernelspec": {
      "name": "python3",
      "display_name": "Python 3"
    },
    "language_info": {
      "name": "python"
    }
  },
  "cells": [
    {
      "cell_type": "markdown",
      "source": [
        "#### **Ejercicio:** Ejercicios de Potenciación del gradiente\n",
        "\n",
        "**Elaborado por:** Fabian Villarreal Sosa\n",
        "\n",
        "Kaggle es un sitio de concursos sobre ciencia de datos.  La Potenciación del gradiente ha ganado muchas competencias Kaggle usando datos tabulados. Tu tarea es completar un concurso Kaggle.\n",
        "\n",
        "Primero, necesitas crear una cuenta en Kaggle si aún no lo haces.\n",
        "\n",
        "Usa la técnica de Potenciación del gradiente para competir en un [concurso Kaggle](https://www.kaggle.com/competitions) de tu preferencia. Puedes competir en un concurso activo o en uno terminado. Aunque un concurso esté completo, puedes hacer una entrega tardía para ver cómo se desempeña tu modelo en comparación al de otros. Esto requerirá que descargues los datos, los limpies, y construyas un modelo usando los datos de entrenamiento que te da Kaggle. Luego, crearás predicciones para probar los datos que Kaggle te proporciona y entregarás tus predicciones para entrar en la competencia.\n",
        "\n",
        "Entrega tus resultados y presenta un pantallazo de tu posición en el marcador de la competencia Kaggle que elegiste para entregar esta tarea."
      ],
      "metadata": {
        "id": "ghsOKMnuzqy4"
      }
    },
    {
      "cell_type": "markdown",
      "source": [
        "**Spaceship Titanic**\n",
        "\n",
        "Predict which passengers are transported to an alternate dimension\n",
        "\n",
        "**Datos:** https://www.kaggle.com/c/spaceship-titanic/overview"
      ],
      "metadata": {
        "id": "yutEr0Cq1vC1"
      }
    },
    {
      "cell_type": "code",
      "source": [
        "# Librerias\n",
        "import os\n",
        "import pandas as pd\n",
        "import numpy as np\n",
        "\n",
        "import matplotlib.pyplot as plt\n",
        "import matplotlib.ticker as mtick\n",
        "import seaborn as sns\n",
        "\n",
        "from sklearn.preprocessing import StandardScaler\n",
        "from sklearn.model_selection import train_test_split\n",
        "\n",
        "from xgboost import XGBClassifier\n",
        "\n",
        "from google.colab import drive"
      ],
      "metadata": {
        "id": "4H7G4OtZ1y-J"
      },
      "execution_count": 313,
      "outputs": []
    },
    {
      "cell_type": "code",
      "source": [
        "# Acceder a directorio en Google Drive\n",
        "drive.mount('/content/drive')"
      ],
      "metadata": {
        "colab": {
          "base_uri": "https://localhost:8080/"
        },
        "id": "3PW4U2bH2DiS",
        "outputId": "8627f076-d0f0-4c33-a1c2-3e43a45302a4"
      },
      "execution_count": 288,
      "outputs": [
        {
          "output_type": "stream",
          "name": "stdout",
          "text": [
            "Drive already mounted at /content/drive; to attempt to forcibly remount, call drive.mount(\"/content/drive\", force_remount=True).\n"
          ]
        }
      ]
    },
    {
      "cell_type": "code",
      "source": [
        "# Determinar directorio\n",
        "os.chdir('/content/drive/MyDrive/Coding Dojo/3_Advanced Machine Learning/Week10_Gradient Boosting/Deberes')\n",
        "os.getcwd()"
      ],
      "metadata": {
        "colab": {
          "base_uri": "https://localhost:8080/",
          "height": 36
        },
        "id": "jgQ9K4h72Ewt",
        "outputId": "6afd8736-bc70-4557-e3d7-f65f3eb383b7"
      },
      "execution_count": 289,
      "outputs": [
        {
          "output_type": "execute_result",
          "data": {
            "text/plain": [
              "'/content/drive/MyDrive/Coding Dojo/3_Advanced Machine Learning/Week10_Gradient Boosting/Deberes'"
            ],
            "application/vnd.google.colaboratory.intrinsic+json": {
              "type": "string"
            }
          },
          "metadata": {},
          "execution_count": 289
        }
      ]
    },
    {
      "cell_type": "markdown",
      "source": [
        "**Train dataset**"
      ],
      "metadata": {
        "id": "ZSk-QqY3ZWTG"
      }
    },
    {
      "cell_type": "code",
      "source": [
        "# Datos\n",
        "df_train = pd.read_csv('train.csv')\n",
        "df_test = pd.read_csv('test.csv')\n",
        "df_train.head()"
      ],
      "metadata": {
        "colab": {
          "base_uri": "https://localhost:8080/",
          "height": 206
        },
        "id": "_Ifj_SACztxp",
        "outputId": "9541863e-c2a9-480a-bd34-f5cb3c9edfda"
      },
      "execution_count": 290,
      "outputs": [
        {
          "output_type": "execute_result",
          "data": {
            "text/plain": [
              "  PassengerId HomePlanet CryoSleep  Cabin  Destination   Age    VIP  \\\n",
              "0     0001_01     Europa     False  B/0/P  TRAPPIST-1e  39.0  False   \n",
              "1     0002_01      Earth     False  F/0/S  TRAPPIST-1e  24.0  False   \n",
              "2     0003_01     Europa     False  A/0/S  TRAPPIST-1e  58.0   True   \n",
              "3     0003_02     Europa     False  A/0/S  TRAPPIST-1e  33.0  False   \n",
              "4     0004_01      Earth     False  F/1/S  TRAPPIST-1e  16.0  False   \n",
              "\n",
              "   RoomService  FoodCourt  ShoppingMall     Spa  VRDeck               Name  \\\n",
              "0          0.0        0.0           0.0     0.0     0.0    Maham Ofracculy   \n",
              "1        109.0        9.0          25.0   549.0    44.0       Juanna Vines   \n",
              "2         43.0     3576.0           0.0  6715.0    49.0      Altark Susent   \n",
              "3          0.0     1283.0         371.0  3329.0   193.0       Solam Susent   \n",
              "4        303.0       70.0         151.0   565.0     2.0  Willy Santantines   \n",
              "\n",
              "   Transported  \n",
              "0        False  \n",
              "1         True  \n",
              "2        False  \n",
              "3        False  \n",
              "4         True  "
            ],
            "text/html": [
              "\n",
              "  <div id=\"df-98422891-cef1-4553-aac8-572b85504d6e\">\n",
              "    <div class=\"colab-df-container\">\n",
              "      <div>\n",
              "<style scoped>\n",
              "    .dataframe tbody tr th:only-of-type {\n",
              "        vertical-align: middle;\n",
              "    }\n",
              "\n",
              "    .dataframe tbody tr th {\n",
              "        vertical-align: top;\n",
              "    }\n",
              "\n",
              "    .dataframe thead th {\n",
              "        text-align: right;\n",
              "    }\n",
              "</style>\n",
              "<table border=\"1\" class=\"dataframe\">\n",
              "  <thead>\n",
              "    <tr style=\"text-align: right;\">\n",
              "      <th></th>\n",
              "      <th>PassengerId</th>\n",
              "      <th>HomePlanet</th>\n",
              "      <th>CryoSleep</th>\n",
              "      <th>Cabin</th>\n",
              "      <th>Destination</th>\n",
              "      <th>Age</th>\n",
              "      <th>VIP</th>\n",
              "      <th>RoomService</th>\n",
              "      <th>FoodCourt</th>\n",
              "      <th>ShoppingMall</th>\n",
              "      <th>Spa</th>\n",
              "      <th>VRDeck</th>\n",
              "      <th>Name</th>\n",
              "      <th>Transported</th>\n",
              "    </tr>\n",
              "  </thead>\n",
              "  <tbody>\n",
              "    <tr>\n",
              "      <th>0</th>\n",
              "      <td>0001_01</td>\n",
              "      <td>Europa</td>\n",
              "      <td>False</td>\n",
              "      <td>B/0/P</td>\n",
              "      <td>TRAPPIST-1e</td>\n",
              "      <td>39.0</td>\n",
              "      <td>False</td>\n",
              "      <td>0.0</td>\n",
              "      <td>0.0</td>\n",
              "      <td>0.0</td>\n",
              "      <td>0.0</td>\n",
              "      <td>0.0</td>\n",
              "      <td>Maham Ofracculy</td>\n",
              "      <td>False</td>\n",
              "    </tr>\n",
              "    <tr>\n",
              "      <th>1</th>\n",
              "      <td>0002_01</td>\n",
              "      <td>Earth</td>\n",
              "      <td>False</td>\n",
              "      <td>F/0/S</td>\n",
              "      <td>TRAPPIST-1e</td>\n",
              "      <td>24.0</td>\n",
              "      <td>False</td>\n",
              "      <td>109.0</td>\n",
              "      <td>9.0</td>\n",
              "      <td>25.0</td>\n",
              "      <td>549.0</td>\n",
              "      <td>44.0</td>\n",
              "      <td>Juanna Vines</td>\n",
              "      <td>True</td>\n",
              "    </tr>\n",
              "    <tr>\n",
              "      <th>2</th>\n",
              "      <td>0003_01</td>\n",
              "      <td>Europa</td>\n",
              "      <td>False</td>\n",
              "      <td>A/0/S</td>\n",
              "      <td>TRAPPIST-1e</td>\n",
              "      <td>58.0</td>\n",
              "      <td>True</td>\n",
              "      <td>43.0</td>\n",
              "      <td>3576.0</td>\n",
              "      <td>0.0</td>\n",
              "      <td>6715.0</td>\n",
              "      <td>49.0</td>\n",
              "      <td>Altark Susent</td>\n",
              "      <td>False</td>\n",
              "    </tr>\n",
              "    <tr>\n",
              "      <th>3</th>\n",
              "      <td>0003_02</td>\n",
              "      <td>Europa</td>\n",
              "      <td>False</td>\n",
              "      <td>A/0/S</td>\n",
              "      <td>TRAPPIST-1e</td>\n",
              "      <td>33.0</td>\n",
              "      <td>False</td>\n",
              "      <td>0.0</td>\n",
              "      <td>1283.0</td>\n",
              "      <td>371.0</td>\n",
              "      <td>3329.0</td>\n",
              "      <td>193.0</td>\n",
              "      <td>Solam Susent</td>\n",
              "      <td>False</td>\n",
              "    </tr>\n",
              "    <tr>\n",
              "      <th>4</th>\n",
              "      <td>0004_01</td>\n",
              "      <td>Earth</td>\n",
              "      <td>False</td>\n",
              "      <td>F/1/S</td>\n",
              "      <td>TRAPPIST-1e</td>\n",
              "      <td>16.0</td>\n",
              "      <td>False</td>\n",
              "      <td>303.0</td>\n",
              "      <td>70.0</td>\n",
              "      <td>151.0</td>\n",
              "      <td>565.0</td>\n",
              "      <td>2.0</td>\n",
              "      <td>Willy Santantines</td>\n",
              "      <td>True</td>\n",
              "    </tr>\n",
              "  </tbody>\n",
              "</table>\n",
              "</div>\n",
              "      <button class=\"colab-df-convert\" onclick=\"convertToInteractive('df-98422891-cef1-4553-aac8-572b85504d6e')\"\n",
              "              title=\"Convert this dataframe to an interactive table.\"\n",
              "              style=\"display:none;\">\n",
              "        \n",
              "  <svg xmlns=\"http://www.w3.org/2000/svg\" height=\"24px\"viewBox=\"0 0 24 24\"\n",
              "       width=\"24px\">\n",
              "    <path d=\"M0 0h24v24H0V0z\" fill=\"none\"/>\n",
              "    <path d=\"M18.56 5.44l.94 2.06.94-2.06 2.06-.94-2.06-.94-.94-2.06-.94 2.06-2.06.94zm-11 1L8.5 8.5l.94-2.06 2.06-.94-2.06-.94L8.5 2.5l-.94 2.06-2.06.94zm10 10l.94 2.06.94-2.06 2.06-.94-2.06-.94-.94-2.06-.94 2.06-2.06.94z\"/><path d=\"M17.41 7.96l-1.37-1.37c-.4-.4-.92-.59-1.43-.59-.52 0-1.04.2-1.43.59L10.3 9.45l-7.72 7.72c-.78.78-.78 2.05 0 2.83L4 21.41c.39.39.9.59 1.41.59.51 0 1.02-.2 1.41-.59l7.78-7.78 2.81-2.81c.8-.78.8-2.07 0-2.86zM5.41 20L4 18.59l7.72-7.72 1.47 1.35L5.41 20z\"/>\n",
              "  </svg>\n",
              "      </button>\n",
              "      \n",
              "  <style>\n",
              "    .colab-df-container {\n",
              "      display:flex;\n",
              "      flex-wrap:wrap;\n",
              "      gap: 12px;\n",
              "    }\n",
              "\n",
              "    .colab-df-convert {\n",
              "      background-color: #E8F0FE;\n",
              "      border: none;\n",
              "      border-radius: 50%;\n",
              "      cursor: pointer;\n",
              "      display: none;\n",
              "      fill: #1967D2;\n",
              "      height: 32px;\n",
              "      padding: 0 0 0 0;\n",
              "      width: 32px;\n",
              "    }\n",
              "\n",
              "    .colab-df-convert:hover {\n",
              "      background-color: #E2EBFA;\n",
              "      box-shadow: 0px 1px 2px rgba(60, 64, 67, 0.3), 0px 1px 3px 1px rgba(60, 64, 67, 0.15);\n",
              "      fill: #174EA6;\n",
              "    }\n",
              "\n",
              "    [theme=dark] .colab-df-convert {\n",
              "      background-color: #3B4455;\n",
              "      fill: #D2E3FC;\n",
              "    }\n",
              "\n",
              "    [theme=dark] .colab-df-convert:hover {\n",
              "      background-color: #434B5C;\n",
              "      box-shadow: 0px 1px 3px 1px rgba(0, 0, 0, 0.15);\n",
              "      filter: drop-shadow(0px 1px 2px rgba(0, 0, 0, 0.3));\n",
              "      fill: #FFFFFF;\n",
              "    }\n",
              "  </style>\n",
              "\n",
              "      <script>\n",
              "        const buttonEl =\n",
              "          document.querySelector('#df-98422891-cef1-4553-aac8-572b85504d6e button.colab-df-convert');\n",
              "        buttonEl.style.display =\n",
              "          google.colab.kernel.accessAllowed ? 'block' : 'none';\n",
              "\n",
              "        async function convertToInteractive(key) {\n",
              "          const element = document.querySelector('#df-98422891-cef1-4553-aac8-572b85504d6e');\n",
              "          const dataTable =\n",
              "            await google.colab.kernel.invokeFunction('convertToInteractive',\n",
              "                                                     [key], {});\n",
              "          if (!dataTable) return;\n",
              "\n",
              "          const docLinkHtml = 'Like what you see? Visit the ' +\n",
              "            '<a target=\"_blank\" href=https://colab.research.google.com/notebooks/data_table.ipynb>data table notebook</a>'\n",
              "            + ' to learn more about interactive tables.';\n",
              "          element.innerHTML = '';\n",
              "          dataTable['output_type'] = 'display_data';\n",
              "          await google.colab.output.renderOutput(dataTable, element);\n",
              "          const docLink = document.createElement('div');\n",
              "          docLink.innerHTML = docLinkHtml;\n",
              "          element.appendChild(docLink);\n",
              "        }\n",
              "      </script>\n",
              "    </div>\n",
              "  </div>\n",
              "  "
            ]
          },
          "metadata": {},
          "execution_count": 290
        }
      ]
    },
    {
      "cell_type": "code",
      "source": [
        "# Informacion de los datos\n",
        "df_train.info()"
      ],
      "metadata": {
        "colab": {
          "base_uri": "https://localhost:8080/"
        },
        "id": "5teltgnD1uFZ",
        "outputId": "d51a5dfb-0fcd-4cbc-dd28-2092d1df6405"
      },
      "execution_count": 291,
      "outputs": [
        {
          "output_type": "stream",
          "name": "stdout",
          "text": [
            "<class 'pandas.core.frame.DataFrame'>\n",
            "RangeIndex: 8693 entries, 0 to 8692\n",
            "Data columns (total 14 columns):\n",
            " #   Column        Non-Null Count  Dtype  \n",
            "---  ------        --------------  -----  \n",
            " 0   PassengerId   8693 non-null   object \n",
            " 1   HomePlanet    8492 non-null   object \n",
            " 2   CryoSleep     8476 non-null   object \n",
            " 3   Cabin         8494 non-null   object \n",
            " 4   Destination   8511 non-null   object \n",
            " 5   Age           8514 non-null   float64\n",
            " 6   VIP           8490 non-null   object \n",
            " 7   RoomService   8512 non-null   float64\n",
            " 8   FoodCourt     8510 non-null   float64\n",
            " 9   ShoppingMall  8485 non-null   float64\n",
            " 10  Spa           8510 non-null   float64\n",
            " 11  VRDeck        8505 non-null   float64\n",
            " 12  Name          8493 non-null   object \n",
            " 13  Transported   8693 non-null   bool   \n",
            "dtypes: bool(1), float64(6), object(7)\n",
            "memory usage: 891.5+ KB\n"
          ]
        }
      ]
    },
    {
      "cell_type": "code",
      "source": [
        "# Estadistica descriptiva\n",
        "df_train.describe()"
      ],
      "metadata": {
        "colab": {
          "base_uri": "https://localhost:8080/",
          "height": 300
        },
        "id": "psfDY56G8ZqR",
        "outputId": "d26b2c4e-58fa-4932-f325-6d8b439fba00"
      },
      "execution_count": 292,
      "outputs": [
        {
          "output_type": "execute_result",
          "data": {
            "text/plain": [
              "               Age   RoomService     FoodCourt  ShoppingMall           Spa  \\\n",
              "count  8514.000000   8512.000000   8510.000000   8485.000000   8510.000000   \n",
              "mean     28.827930    224.687617    458.077203    173.729169    311.138778   \n",
              "std      14.489021    666.717663   1611.489240    604.696458   1136.705535   \n",
              "min       0.000000      0.000000      0.000000      0.000000      0.000000   \n",
              "25%      19.000000      0.000000      0.000000      0.000000      0.000000   \n",
              "50%      27.000000      0.000000      0.000000      0.000000      0.000000   \n",
              "75%      38.000000     47.000000     76.000000     27.000000     59.000000   \n",
              "max      79.000000  14327.000000  29813.000000  23492.000000  22408.000000   \n",
              "\n",
              "             VRDeck  \n",
              "count   8505.000000  \n",
              "mean     304.854791  \n",
              "std     1145.717189  \n",
              "min        0.000000  \n",
              "25%        0.000000  \n",
              "50%        0.000000  \n",
              "75%       46.000000  \n",
              "max    24133.000000  "
            ],
            "text/html": [
              "\n",
              "  <div id=\"df-033e3a2a-4220-4ae8-af68-4144c3fcd272\">\n",
              "    <div class=\"colab-df-container\">\n",
              "      <div>\n",
              "<style scoped>\n",
              "    .dataframe tbody tr th:only-of-type {\n",
              "        vertical-align: middle;\n",
              "    }\n",
              "\n",
              "    .dataframe tbody tr th {\n",
              "        vertical-align: top;\n",
              "    }\n",
              "\n",
              "    .dataframe thead th {\n",
              "        text-align: right;\n",
              "    }\n",
              "</style>\n",
              "<table border=\"1\" class=\"dataframe\">\n",
              "  <thead>\n",
              "    <tr style=\"text-align: right;\">\n",
              "      <th></th>\n",
              "      <th>Age</th>\n",
              "      <th>RoomService</th>\n",
              "      <th>FoodCourt</th>\n",
              "      <th>ShoppingMall</th>\n",
              "      <th>Spa</th>\n",
              "      <th>VRDeck</th>\n",
              "    </tr>\n",
              "  </thead>\n",
              "  <tbody>\n",
              "    <tr>\n",
              "      <th>count</th>\n",
              "      <td>8514.000000</td>\n",
              "      <td>8512.000000</td>\n",
              "      <td>8510.000000</td>\n",
              "      <td>8485.000000</td>\n",
              "      <td>8510.000000</td>\n",
              "      <td>8505.000000</td>\n",
              "    </tr>\n",
              "    <tr>\n",
              "      <th>mean</th>\n",
              "      <td>28.827930</td>\n",
              "      <td>224.687617</td>\n",
              "      <td>458.077203</td>\n",
              "      <td>173.729169</td>\n",
              "      <td>311.138778</td>\n",
              "      <td>304.854791</td>\n",
              "    </tr>\n",
              "    <tr>\n",
              "      <th>std</th>\n",
              "      <td>14.489021</td>\n",
              "      <td>666.717663</td>\n",
              "      <td>1611.489240</td>\n",
              "      <td>604.696458</td>\n",
              "      <td>1136.705535</td>\n",
              "      <td>1145.717189</td>\n",
              "    </tr>\n",
              "    <tr>\n",
              "      <th>min</th>\n",
              "      <td>0.000000</td>\n",
              "      <td>0.000000</td>\n",
              "      <td>0.000000</td>\n",
              "      <td>0.000000</td>\n",
              "      <td>0.000000</td>\n",
              "      <td>0.000000</td>\n",
              "    </tr>\n",
              "    <tr>\n",
              "      <th>25%</th>\n",
              "      <td>19.000000</td>\n",
              "      <td>0.000000</td>\n",
              "      <td>0.000000</td>\n",
              "      <td>0.000000</td>\n",
              "      <td>0.000000</td>\n",
              "      <td>0.000000</td>\n",
              "    </tr>\n",
              "    <tr>\n",
              "      <th>50%</th>\n",
              "      <td>27.000000</td>\n",
              "      <td>0.000000</td>\n",
              "      <td>0.000000</td>\n",
              "      <td>0.000000</td>\n",
              "      <td>0.000000</td>\n",
              "      <td>0.000000</td>\n",
              "    </tr>\n",
              "    <tr>\n",
              "      <th>75%</th>\n",
              "      <td>38.000000</td>\n",
              "      <td>47.000000</td>\n",
              "      <td>76.000000</td>\n",
              "      <td>27.000000</td>\n",
              "      <td>59.000000</td>\n",
              "      <td>46.000000</td>\n",
              "    </tr>\n",
              "    <tr>\n",
              "      <th>max</th>\n",
              "      <td>79.000000</td>\n",
              "      <td>14327.000000</td>\n",
              "      <td>29813.000000</td>\n",
              "      <td>23492.000000</td>\n",
              "      <td>22408.000000</td>\n",
              "      <td>24133.000000</td>\n",
              "    </tr>\n",
              "  </tbody>\n",
              "</table>\n",
              "</div>\n",
              "      <button class=\"colab-df-convert\" onclick=\"convertToInteractive('df-033e3a2a-4220-4ae8-af68-4144c3fcd272')\"\n",
              "              title=\"Convert this dataframe to an interactive table.\"\n",
              "              style=\"display:none;\">\n",
              "        \n",
              "  <svg xmlns=\"http://www.w3.org/2000/svg\" height=\"24px\"viewBox=\"0 0 24 24\"\n",
              "       width=\"24px\">\n",
              "    <path d=\"M0 0h24v24H0V0z\" fill=\"none\"/>\n",
              "    <path d=\"M18.56 5.44l.94 2.06.94-2.06 2.06-.94-2.06-.94-.94-2.06-.94 2.06-2.06.94zm-11 1L8.5 8.5l.94-2.06 2.06-.94-2.06-.94L8.5 2.5l-.94 2.06-2.06.94zm10 10l.94 2.06.94-2.06 2.06-.94-2.06-.94-.94-2.06-.94 2.06-2.06.94z\"/><path d=\"M17.41 7.96l-1.37-1.37c-.4-.4-.92-.59-1.43-.59-.52 0-1.04.2-1.43.59L10.3 9.45l-7.72 7.72c-.78.78-.78 2.05 0 2.83L4 21.41c.39.39.9.59 1.41.59.51 0 1.02-.2 1.41-.59l7.78-7.78 2.81-2.81c.8-.78.8-2.07 0-2.86zM5.41 20L4 18.59l7.72-7.72 1.47 1.35L5.41 20z\"/>\n",
              "  </svg>\n",
              "      </button>\n",
              "      \n",
              "  <style>\n",
              "    .colab-df-container {\n",
              "      display:flex;\n",
              "      flex-wrap:wrap;\n",
              "      gap: 12px;\n",
              "    }\n",
              "\n",
              "    .colab-df-convert {\n",
              "      background-color: #E8F0FE;\n",
              "      border: none;\n",
              "      border-radius: 50%;\n",
              "      cursor: pointer;\n",
              "      display: none;\n",
              "      fill: #1967D2;\n",
              "      height: 32px;\n",
              "      padding: 0 0 0 0;\n",
              "      width: 32px;\n",
              "    }\n",
              "\n",
              "    .colab-df-convert:hover {\n",
              "      background-color: #E2EBFA;\n",
              "      box-shadow: 0px 1px 2px rgba(60, 64, 67, 0.3), 0px 1px 3px 1px rgba(60, 64, 67, 0.15);\n",
              "      fill: #174EA6;\n",
              "    }\n",
              "\n",
              "    [theme=dark] .colab-df-convert {\n",
              "      background-color: #3B4455;\n",
              "      fill: #D2E3FC;\n",
              "    }\n",
              "\n",
              "    [theme=dark] .colab-df-convert:hover {\n",
              "      background-color: #434B5C;\n",
              "      box-shadow: 0px 1px 3px 1px rgba(0, 0, 0, 0.15);\n",
              "      filter: drop-shadow(0px 1px 2px rgba(0, 0, 0, 0.3));\n",
              "      fill: #FFFFFF;\n",
              "    }\n",
              "  </style>\n",
              "\n",
              "      <script>\n",
              "        const buttonEl =\n",
              "          document.querySelector('#df-033e3a2a-4220-4ae8-af68-4144c3fcd272 button.colab-df-convert');\n",
              "        buttonEl.style.display =\n",
              "          google.colab.kernel.accessAllowed ? 'block' : 'none';\n",
              "\n",
              "        async function convertToInteractive(key) {\n",
              "          const element = document.querySelector('#df-033e3a2a-4220-4ae8-af68-4144c3fcd272');\n",
              "          const dataTable =\n",
              "            await google.colab.kernel.invokeFunction('convertToInteractive',\n",
              "                                                     [key], {});\n",
              "          if (!dataTable) return;\n",
              "\n",
              "          const docLinkHtml = 'Like what you see? Visit the ' +\n",
              "            '<a target=\"_blank\" href=https://colab.research.google.com/notebooks/data_table.ipynb>data table notebook</a>'\n",
              "            + ' to learn more about interactive tables.';\n",
              "          element.innerHTML = '';\n",
              "          dataTable['output_type'] = 'display_data';\n",
              "          await google.colab.output.renderOutput(dataTable, element);\n",
              "          const docLink = document.createElement('div');\n",
              "          docLink.innerHTML = docLinkHtml;\n",
              "          element.appendChild(docLink);\n",
              "        }\n",
              "      </script>\n",
              "    </div>\n",
              "  </div>\n",
              "  "
            ]
          },
          "metadata": {},
          "execution_count": 292
        }
      ]
    },
    {
      "cell_type": "code",
      "source": [
        "# Estadistica descriptiva por categoria VIP\n",
        "print('VIP == False')\n",
        "print(df_train[df_train['VIP'] == False].describe().loc[['mean', '50%']])\n",
        "print('VIP == True')\n",
        "print(df_train[df_train['VIP'] == True].describe().loc[['mean', '50%']])"
      ],
      "metadata": {
        "colab": {
          "base_uri": "https://localhost:8080/"
        },
        "id": "ldUKTE8w8izJ",
        "outputId": "e985dc64-2868-4df9-8766-c48d831cb78e"
      },
      "execution_count": 293,
      "outputs": [
        {
          "output_type": "stream",
          "name": "stdout",
          "text": [
            "VIP == False\n",
            "            Age  RoomService   FoodCourt  ShoppingMall         Spa      VRDeck\n",
            "mean  28.639611   217.218527  426.336536    173.876298  301.711045  282.718056\n",
            "50%   27.000000     0.000000    0.000000      0.000000    0.000000    0.000000\n",
            "VIP == True\n",
            "            Age  RoomService    FoodCourt  ShoppingMall        Spa      VRDeck\n",
            "mean  37.449495   473.615385  1811.393782    247.726804  760.71066  1234.85641\n",
            "50%   34.000000     0.000000   287.000000      0.000000   39.00000    30.00000\n"
          ]
        }
      ]
    },
    {
      "cell_type": "code",
      "source": [
        "# Distribucion de variables\n",
        "fig, axes = plt.subplots(nrows = 1, ncols = 6, figsize = (25, 5), sharex = False, sharey = False)\n",
        "\n",
        "sns.histplot(df_train['Age'], ax=axes[0])\n",
        "axes[0].set_title('Edad')\n",
        "\n",
        "sns.histplot(df_train['RoomService'], ax=axes[1])\n",
        "axes[1].set_title('Gasto: Servicio habitación USD')\n",
        "\n",
        "sns.histplot(df_train['FoodCourt'], ax=axes[2])\n",
        "axes[2].set_title('Gasto: Comida USD')\n",
        "\n",
        "sns.histplot(df_train['ShoppingMall'], ax=axes[3])\n",
        "axes[3].set_title('Gasto: Centro comercial USD');\n",
        "\n",
        "sns.histplot(df_train['Spa'], ax=axes[4])\n",
        "axes[4].set_title('Gasto: SPA USD');\n",
        "\n",
        "sns.histplot(df_train['VRDeck'], ax=axes[5])\n",
        "axes[5].set_title('Gasto: VRDeck USD');"
      ],
      "metadata": {
        "colab": {
          "base_uri": "https://localhost:8080/",
          "height": 350
        },
        "id": "aV9UPCzp7VC5",
        "outputId": "745421f1-be9c-483e-b61b-4ec23130f314"
      },
      "execution_count": 294,
      "outputs": [
        {
          "output_type": "display_data",
          "data": {
            "text/plain": [
              "<Figure size 1800x360 with 6 Axes>"
            ],
            "image/png": "[encoded data removed]"
          },
          "metadata": {
            "needs_background": "light"
          }
        }
      ]
    },
    {
      "cell_type": "code",
      "source": [
        "# Valores perdidos\n",
        "col_nans = df_train.columns[df_train.isna().any()]\n",
        "col_nans"
      ],
      "metadata": {
        "colab": {
          "base_uri": "https://localhost:8080/"
        },
        "id": "r81KKy-w3WCF",
        "outputId": "0aca205a-15b2-45f1-ed72-15f36a9fe5a8"
      },
      "execution_count": 295,
      "outputs": [
        {
          "output_type": "execute_result",
          "data": {
            "text/plain": [
              "Index(['HomePlanet', 'CryoSleep', 'Cabin', 'Destination', 'Age', 'VIP',\n",
              "       'RoomService', 'FoodCourt', 'ShoppingMall', 'Spa', 'VRDeck', 'Name'],\n",
              "      dtype='object')"
            ]
          },
          "metadata": {},
          "execution_count": 295
        }
      ]
    },
    {
      "cell_type": "code",
      "source": [
        "df_train[col_nans].isna().sum()"
      ],
      "metadata": {
        "colab": {
          "base_uri": "https://localhost:8080/"
        },
        "id": "OXgR8-A14JSq",
        "outputId": "0958b8b6-7797-4319-ce86-72308a9cf166"
      },
      "execution_count": 296,
      "outputs": [
        {
          "output_type": "execute_result",
          "data": {
            "text/plain": [
              "HomePlanet      201\n",
              "CryoSleep       217\n",
              "Cabin           199\n",
              "Destination     182\n",
              "Age             179\n",
              "VIP             203\n",
              "RoomService     181\n",
              "FoodCourt       183\n",
              "ShoppingMall    208\n",
              "Spa             183\n",
              "VRDeck          188\n",
              "Name            200\n",
              "dtype: int64"
            ]
          },
          "metadata": {},
          "execution_count": 296
        }
      ]
    },
    {
      "cell_type": "code",
      "source": [
        "print(round(df_train[col_nans].isna().sum() / len(df_train) * 100, 2))"
      ],
      "metadata": {
        "colab": {
          "base_uri": "https://localhost:8080/"
        },
        "id": "845i9Dbb6vmX",
        "outputId": "e6bee115-3fbe-4bd9-f65b-d535b81792fa"
      },
      "execution_count": 297,
      "outputs": [
        {
          "output_type": "stream",
          "name": "stdout",
          "text": [
            "HomePlanet      2.31\n",
            "CryoSleep       2.50\n",
            "Cabin           2.29\n",
            "Destination     2.09\n",
            "Age             2.06\n",
            "VIP             2.34\n",
            "RoomService     2.08\n",
            "FoodCourt       2.11\n",
            "ShoppingMall    2.39\n",
            "Spa             2.11\n",
            "VRDeck          2.16\n",
            "Name            2.30\n",
            "dtype: float64\n"
          ]
        }
      ]
    },
    {
      "cell_type": "markdown",
      "source": [
        "Imputación de datos"
      ],
      "metadata": {
        "id": "RUVQ91vD6tI6"
      }
    },
    {
      "cell_type": "code",
      "source": [
        "# Obtener variable del grupo de viaje de cada pasajero\n",
        "df_train['Group'] = df_train['PassengerId'].str[:4]\n",
        "df_test['Group'] = df_test['PassengerId'].str[:4]"
      ],
      "metadata": {
        "id": "iKLXWMCq5COJ"
      },
      "execution_count": 298,
      "outputs": []
    },
    {
      "cell_type": "code",
      "source": [
        "col_nans"
      ],
      "metadata": {
        "colab": {
          "base_uri": "https://localhost:8080/"
        },
        "id": "hpxWS4ulT0H6",
        "outputId": "5c0a3cb6-108a-4928-c5fa-8636f1e3837a"
      },
      "execution_count": 299,
      "outputs": [
        {
          "output_type": "execute_result",
          "data": {
            "text/plain": [
              "Index(['HomePlanet', 'CryoSleep', 'Cabin', 'Destination', 'Age', 'VIP',\n",
              "       'RoomService', 'FoodCourt', 'ShoppingMall', 'Spa', 'VRDeck', 'Name'],\n",
              "      dtype='object')"
            ]
          },
          "metadata": {},
          "execution_count": 299
        }
      ]
    },
    {
      "cell_type": "code",
      "source": [
        "# Columnas para las cuales se imputaran valores\n",
        "cols1 = ['HomePlanet', 'CryoSleep', 'Cabin', 'Destination', 'VIP']\n",
        "cols2 = ['Age', 'RoomService', 'FoodCourt', 'ShoppingMall', 'Spa', 'VRDeck']"
      ],
      "metadata": {
        "id": "CGaPzTFaTvSL"
      },
      "execution_count": 300,
      "outputs": []
    },
    {
      "cell_type": "code",
      "source": [
        "# Para las variables categoricas, se asume una imputacion de acuerdo a la moda de cada columna\n",
        "for col in cols1:\n",
        "  df_train[col].fillna(df_train[col].mode()[0], inplace = True)\n",
        "  df_test[col].fillna(df_test[col].mode()[0], inplace = True)"
      ],
      "metadata": {
        "id": "OBj1DiKAUQJj"
      },
      "execution_count": 301,
      "outputs": []
    },
    {
      "cell_type": "code",
      "source": [
        "# Para las variables continuas se asume una imputacion de acuerdo a la categoria VIP\n",
        "for col in cols2:\n",
        "  df_train[col] = df_train.groupby(['VIP'])[col].transform(lambda x: x.fillna(x.mean()))\n",
        "  df_test[col] = df_test.groupby(['VIP'])[col].transform(lambda x: x.fillna(x.mean()))  "
      ],
      "metadata": {
        "id": "q0nYXx2sVCFV"
      },
      "execution_count": 302,
      "outputs": []
    },
    {
      "cell_type": "code",
      "source": [
        "# Obtener el deck\n",
        "df_train['Deck'] = df_train['Cabin'].str[:1]\n",
        "df_test['Deck'] = df_test['Cabin'].str[:1]"
      ],
      "metadata": {
        "id": "1-hdUmABeMue"
      },
      "execution_count": 303,
      "outputs": []
    },
    {
      "cell_type": "code",
      "source": [
        "df_train.head()"
      ],
      "metadata": {
        "colab": {
          "base_uri": "https://localhost:8080/",
          "height": 206
        },
        "id": "6v8PljX-VgAG",
        "outputId": "a3bfbbea-da2d-40ef-9e64-453dc81206ff"
      },
      "execution_count": 304,
      "outputs": [
        {
          "output_type": "execute_result",
          "data": {
            "text/plain": [
              "  PassengerId HomePlanet  CryoSleep  Cabin  Destination   Age    VIP  \\\n",
              "0     0001_01     Europa      False  B/0/P  TRAPPIST-1e  39.0  False   \n",
              "1     0002_01      Earth      False  F/0/S  TRAPPIST-1e  24.0  False   \n",
              "2     0003_01     Europa      False  A/0/S  TRAPPIST-1e  58.0   True   \n",
              "3     0003_02     Europa      False  A/0/S  TRAPPIST-1e  33.0  False   \n",
              "4     0004_01      Earth      False  F/1/S  TRAPPIST-1e  16.0  False   \n",
              "\n",
              "   RoomService  FoodCourt  ShoppingMall     Spa  VRDeck               Name  \\\n",
              "0          0.0        0.0           0.0     0.0     0.0    Maham Ofracculy   \n",
              "1        109.0        9.0          25.0   549.0    44.0       Juanna Vines   \n",
              "2         43.0     3576.0           0.0  6715.0    49.0      Altark Susent   \n",
              "3          0.0     1283.0         371.0  3329.0   193.0       Solam Susent   \n",
              "4        303.0       70.0         151.0   565.0     2.0  Willy Santantines   \n",
              "\n",
              "   Transported Group Deck  \n",
              "0        False  0001    B  \n",
              "1         True  0002    F  \n",
              "2        False  0003    A  \n",
              "3        False  0003    A  \n",
              "4         True  0004    F  "
            ],
            "text/html": [
              "\n",
              "  <div id=\"df-7c265806-2fdb-4170-b0c5-a9e15b801860\">\n",
              "    <div class=\"colab-df-container\">\n",
              "      <div>\n",
              "<style scoped>\n",
              "    .dataframe tbody tr th:only-of-type {\n",
              "        vertical-align: middle;\n",
              "    }\n",
              "\n",
              "    .dataframe tbody tr th {\n",
              "        vertical-align: top;\n",
              "    }\n",
              "\n",
              "    .dataframe thead th {\n",
              "        text-align: right;\n",
              "    }\n",
              "</style>\n",
              "<table border=\"1\" class=\"dataframe\">\n",
              "  <thead>\n",
              "    <tr style=\"text-align: right;\">\n",
              "      <th></th>\n",
              "      <th>PassengerId</th>\n",
              "      <th>HomePlanet</th>\n",
              "      <th>CryoSleep</th>\n",
              "      <th>Cabin</th>\n",
              "      <th>Destination</th>\n",
              "      <th>Age</th>\n",
              "      <th>VIP</th>\n",
              "      <th>RoomService</th>\n",
              "      <th>FoodCourt</th>\n",
              "      <th>ShoppingMall</th>\n",
              "      <th>Spa</th>\n",
              "      <th>VRDeck</th>\n",
              "      <th>Name</th>\n",
              "      <th>Transported</th>\n",
              "      <th>Group</th>\n",
              "      <th>Deck</th>\n",
              "    </tr>\n",
              "  </thead>\n",
              "  <tbody>\n",
              "    <tr>\n",
              "      <th>0</th>\n",
              "      <td>0001_01</td>\n",
              "      <td>Europa</td>\n",
              "      <td>False</td>\n",
              "      <td>B/0/P</td>\n",
              "      <td>TRAPPIST-1e</td>\n",
              "      <td>39.0</td>\n",
              "      <td>False</td>\n",
              "      <td>0.0</td>\n",
              "      <td>0.0</td>\n",
              "      <td>0.0</td>\n",
              "      <td>0.0</td>\n",
              "      <td>0.0</td>\n",
              "      <td>Maham Ofracculy</td>\n",
              "      <td>False</td>\n",
              "      <td>0001</td>\n",
              "      <td>B</td>\n",
              "    </tr>\n",
              "    <tr>\n",
              "      <th>1</th>\n",
              "      <td>0002_01</td>\n",
              "      <td>Earth</td>\n",
              "      <td>False</td>\n",
              "      <td>F/0/S</td>\n",
              "      <td>TRAPPIST-1e</td>\n",
              "      <td>24.0</td>\n",
              "      <td>False</td>\n",
              "      <td>109.0</td>\n",
              "      <td>9.0</td>\n",
              "      <td>25.0</td>\n",
              "      <td>549.0</td>\n",
              "      <td>44.0</td>\n",
              "      <td>Juanna Vines</td>\n",
              "      <td>True</td>\n",
              "      <td>0002</td>\n",
              "      <td>F</td>\n",
              "    </tr>\n",
              "    <tr>\n",
              "      <th>2</th>\n",
              "      <td>0003_01</td>\n",
              "      <td>Europa</td>\n",
              "      <td>False</td>\n",
              "      <td>A/0/S</td>\n",
              "      <td>TRAPPIST-1e</td>\n",
              "      <td>58.0</td>\n",
              "      <td>True</td>\n",
              "      <td>43.0</td>\n",
              "      <td>3576.0</td>\n",
              "      <td>0.0</td>\n",
              "      <td>6715.0</td>\n",
              "      <td>49.0</td>\n",
              "      <td>Altark Susent</td>\n",
              "      <td>False</td>\n",
              "      <td>0003</td>\n",
              "      <td>A</td>\n",
              "    </tr>\n",
              "    <tr>\n",
              "      <th>3</th>\n",
              "      <td>0003_02</td>\n",
              "      <td>Europa</td>\n",
              "      <td>False</td>\n",
              "      <td>A/0/S</td>\n",
              "      <td>TRAPPIST-1e</td>\n",
              "      <td>33.0</td>\n",
              "      <td>False</td>\n",
              "      <td>0.0</td>\n",
              "      <td>1283.0</td>\n",
              "      <td>371.0</td>\n",
              "      <td>3329.0</td>\n",
              "      <td>193.0</td>\n",
              "      <td>Solam Susent</td>\n",
              "      <td>False</td>\n",
              "      <td>0003</td>\n",
              "      <td>A</td>\n",
              "    </tr>\n",
              "    <tr>\n",
              "      <th>4</th>\n",
              "      <td>0004_01</td>\n",
              "      <td>Earth</td>\n",
              "      <td>False</td>\n",
              "      <td>F/1/S</td>\n",
              "      <td>TRAPPIST-1e</td>\n",
              "      <td>16.0</td>\n",
              "      <td>False</td>\n",
              "      <td>303.0</td>\n",
              "      <td>70.0</td>\n",
              "      <td>151.0</td>\n",
              "      <td>565.0</td>\n",
              "      <td>2.0</td>\n",
              "      <td>Willy Santantines</td>\n",
              "      <td>True</td>\n",
              "      <td>0004</td>\n",
              "      <td>F</td>\n",
              "    </tr>\n",
              "  </tbody>\n",
              "</table>\n",
              "</div>\n",
              "      <button class=\"colab-df-convert\" onclick=\"convertToInteractive('df-7c265806-2fdb-4170-b0c5-a9e15b801860')\"\n",
              "              title=\"Convert this dataframe to an interactive table.\"\n",
              "              style=\"display:none;\">\n",
              "        \n",
              "  <svg xmlns=\"http://www.w3.org/2000/svg\" height=\"24px\"viewBox=\"0 0 24 24\"\n",
              "       width=\"24px\">\n",
              "    <path d=\"M0 0h24v24H0V0z\" fill=\"none\"/>\n",
              "    <path d=\"M18.56 5.44l.94 2.06.94-2.06 2.06-.94-2.06-.94-.94-2.06-.94 2.06-2.06.94zm-11 1L8.5 8.5l.94-2.06 2.06-.94-2.06-.94L8.5 2.5l-.94 2.06-2.06.94zm10 10l.94 2.06.94-2.06 2.06-.94-2.06-.94-.94-2.06-.94 2.06-2.06.94z\"/><path d=\"M17.41 7.96l-1.37-1.37c-.4-.4-.92-.59-1.43-.59-.52 0-1.04.2-1.43.59L10.3 9.45l-7.72 7.72c-.78.78-.78 2.05 0 2.83L4 21.41c.39.39.9.59 1.41.59.51 0 1.02-.2 1.41-.59l7.78-7.78 2.81-2.81c.8-.78.8-2.07 0-2.86zM5.41 20L4 18.59l7.72-7.72 1.47 1.35L5.41 20z\"/>\n",
              "  </svg>\n",
              "      </button>\n",
              "      \n",
              "  <style>\n",
              "    .colab-df-container {\n",
              "      display:flex;\n",
              "      flex-wrap:wrap;\n",
              "      gap: 12px;\n",
              "    }\n",
              "\n",
              "    .colab-df-convert {\n",
              "      background-color: #E8F0FE;\n",
              "      border: none;\n",
              "      border-radius: 50%;\n",
              "      cursor: pointer;\n",
              "      display: none;\n",
              "      fill: #1967D2;\n",
              "      height: 32px;\n",
              "      padding: 0 0 0 0;\n",
              "      width: 32px;\n",
              "    }\n",
              "\n",
              "    .colab-df-convert:hover {\n",
              "      background-color: #E2EBFA;\n",
              "      box-shadow: 0px 1px 2px rgba(60, 64, 67, 0.3), 0px 1px 3px 1px rgba(60, 64, 67, 0.15);\n",
              "      fill: #174EA6;\n",
              "    }\n",
              "\n",
              "    [theme=dark] .colab-df-convert {\n",
              "      background-color: #3B4455;\n",
              "      fill: #D2E3FC;\n",
              "    }\n",
              "\n",
              "    [theme=dark] .colab-df-convert:hover {\n",
              "      background-color: #434B5C;\n",
              "      box-shadow: 0px 1px 3px 1px rgba(0, 0, 0, 0.15);\n",
              "      filter: drop-shadow(0px 1px 2px rgba(0, 0, 0, 0.3));\n",
              "      fill: #FFFFFF;\n",
              "    }\n",
              "  </style>\n",
              "\n",
              "      <script>\n",
              "        const buttonEl =\n",
              "          document.querySelector('#df-7c265806-2fdb-4170-b0c5-a9e15b801860 button.colab-df-convert');\n",
              "        buttonEl.style.display =\n",
              "          google.colab.kernel.accessAllowed ? 'block' : 'none';\n",
              "\n",
              "        async function convertToInteractive(key) {\n",
              "          const element = document.querySelector('#df-7c265806-2fdb-4170-b0c5-a9e15b801860');\n",
              "          const dataTable =\n",
              "            await google.colab.kernel.invokeFunction('convertToInteractive',\n",
              "                                                     [key], {});\n",
              "          if (!dataTable) return;\n",
              "\n",
              "          const docLinkHtml = 'Like what you see? Visit the ' +\n",
              "            '<a target=\"_blank\" href=https://colab.research.google.com/notebooks/data_table.ipynb>data table notebook</a>'\n",
              "            + ' to learn more about interactive tables.';\n",
              "          element.innerHTML = '';\n",
              "          dataTable['output_type'] = 'display_data';\n",
              "          await google.colab.output.renderOutput(dataTable, element);\n",
              "          const docLink = document.createElement('div');\n",
              "          docLink.innerHTML = docLinkHtml;\n",
              "          element.appendChild(docLink);\n",
              "        }\n",
              "      </script>\n",
              "    </div>\n",
              "  </div>\n",
              "  "
            ]
          },
          "metadata": {},
          "execution_count": 304
        }
      ]
    },
    {
      "cell_type": "markdown",
      "source": [
        "Tratamiento de variables"
      ],
      "metadata": {
        "id": "gMpsV5wHWuLH"
      }
    },
    {
      "cell_type": "code",
      "source": [
        "# Dummies\n",
        "df_train['CryoSleep'] = df_train['CryoSleep'].map({False: 0, True: 1})\n",
        "df_train['VIP'] = df_train['VIP'].map({False: 0, True: 1})\n",
        "df_train['Transported'] = df_train['Transported'].map({False: 0, True: 1})\n",
        "\n",
        "df_test['CryoSleep'] = df_test['CryoSleep'].map({False: 0, True: 1})\n",
        "df_test['VIP'] = df_test['VIP'].map({False: 0, True: 1})"
      ],
      "metadata": {
        "id": "niRa4qE2X1Ce"
      },
      "execution_count": 305,
      "outputs": []
    },
    {
      "cell_type": "code",
      "source": [
        "# Variables explicativas y dependiente\n",
        "X_var = df_train.drop(['PassengerId', 'Name', 'Cabin', 'Group', 'Transported'], axis = 1). columns\n",
        "X_train = df_train.loc[:, X_var]\n",
        "X_test = df_test.loc[:, X_var]\n",
        "\n",
        "y_train = df_train.loc[:, 'Transported'].values\n",
        "\n",
        "print('Dimensiones X (Train):', X_train.shape)\n",
        "print('Dimensiones y (Train):', y_train.shape)\n",
        "\n",
        "print('Dimensiones X (Test):', X_test.shape)"
      ],
      "metadata": {
        "colab": {
          "base_uri": "https://localhost:8080/"
        },
        "id": "kn-gvCJFXi_P",
        "outputId": "851242a8-0f8e-48f4-c952-b4bc7639d991"
      },
      "execution_count": 306,
      "outputs": [
        {
          "output_type": "stream",
          "name": "stdout",
          "text": [
            "Dimensiones X (Train): (8693, 11)\n",
            "Dimensiones y (Train): (8693,)\n",
            "Dimensiones X (Test): (4277, 11)\n"
          ]
        }
      ]
    },
    {
      "cell_type": "code",
      "source": [
        "# Dummies\n",
        "X_train = pd.get_dummies(X_train)\n",
        "X_test = pd.get_dummies(X_test)"
      ],
      "metadata": {
        "id": "aFWnL3_9a30y"
      },
      "execution_count": 307,
      "outputs": []
    },
    {
      "cell_type": "markdown",
      "source": [
        "Estimación del modelo"
      ],
      "metadata": {
        "id": "Vd_iRnbrZOGA"
      }
    },
    {
      "cell_type": "code",
      "source": [
        "# Estimacion del modelo\n",
        "xgb = XGBClassifier()\n",
        "xgb.fit(X_train, y_train)"
      ],
      "metadata": {
        "colab": {
          "base_uri": "https://localhost:8080/"
        },
        "id": "efxNq5aQZKhF",
        "outputId": "527f664c-2545-4702-becd-e0ed0f92d037"
      },
      "execution_count": 308,
      "outputs": [
        {
          "output_type": "execute_result",
          "data": {
            "text/plain": [
              "XGBClassifier()"
            ]
          },
          "metadata": {},
          "execution_count": 308
        }
      ]
    },
    {
      "cell_type": "markdown",
      "source": [
        "Exportar resultados"
      ],
      "metadata": {
        "id": "jr1DJKJwcoD2"
      }
    },
    {
      "cell_type": "code",
      "source": [
        "df_res = df_test[['PassengerId']].copy()"
      ],
      "metadata": {
        "id": "4WuG5VdCcyCV"
      },
      "execution_count": 309,
      "outputs": []
    },
    {
      "cell_type": "code",
      "source": [
        "df_res['Transported'] = xgb.predict(X_test)"
      ],
      "metadata": {
        "id": "i22-m2FfZgfX"
      },
      "execution_count": 310,
      "outputs": []
    },
    {
      "cell_type": "code",
      "source": [
        "df_res"
      ],
      "metadata": {
        "colab": {
          "base_uri": "https://localhost:8080/",
          "height": 424
        },
        "id": "AgentWL4dRRO",
        "outputId": "9873aefa-3436-4621-cb0a-61a7e313169d"
      },
      "execution_count": 311,
      "outputs": [
        {
          "output_type": "execute_result",
          "data": {
            "text/plain": [
              "     PassengerId  Transported\n",
              "0        0013_01            1\n",
              "1        0018_01            0\n",
              "2        0019_01            1\n",
              "3        0021_01            1\n",
              "4        0023_01            1\n",
              "...          ...          ...\n",
              "4272     9266_02            1\n",
              "4273     9269_01            0\n",
              "4274     9271_01            1\n",
              "4275     9273_01            1\n",
              "4276     9277_01            1\n",
              "\n",
              "[4277 rows x 2 columns]"
            ],
            "text/html": [
              "\n",
              "  <div id=\"df-93ca16d9-e577-44a0-b485-0fe9e6396d87\">\n",
              "    <div class=\"colab-df-container\">\n",
              "      <div>\n",
              "<style scoped>\n",
              "    .dataframe tbody tr th:only-of-type {\n",
              "        vertical-align: middle;\n",
              "    }\n",
              "\n",
              "    .dataframe tbody tr th {\n",
              "        vertical-align: top;\n",
              "    }\n",
              "\n",
              "    .dataframe thead th {\n",
              "        text-align: right;\n",
              "    }\n",
              "</style>\n",
              "<table border=\"1\" class=\"dataframe\">\n",
              "  <thead>\n",
              "    <tr style=\"text-align: right;\">\n",
              "      <th></th>\n",
              "      <th>PassengerId</th>\n",
              "      <th>Transported</th>\n",
              "    </tr>\n",
              "  </thead>\n",
              "  <tbody>\n",
              "    <tr>\n",
              "      <th>0</th>\n",
              "      <td>0013_01</td>\n",
              "      <td>1</td>\n",
              "    </tr>\n",
              "    <tr>\n",
              "      <th>1</th>\n",
              "      <td>0018_01</td>\n",
              "      <td>0</td>\n",
              "    </tr>\n",
              "    <tr>\n",
              "      <th>2</th>\n",
              "      <td>0019_01</td>\n",
              "      <td>1</td>\n",
              "    </tr>\n",
              "    <tr>\n",
              "      <th>3</th>\n",
              "      <td>0021_01</td>\n",
              "      <td>1</td>\n",
              "    </tr>\n",
              "    <tr>\n",
              "      <th>4</th>\n",
              "      <td>0023_01</td>\n",
              "      <td>1</td>\n",
              "    </tr>\n",
              "    <tr>\n",
              "      <th>...</th>\n",
              "      <td>...</td>\n",
              "      <td>...</td>\n",
              "    </tr>\n",
              "    <tr>\n",
              "      <th>4272</th>\n",
              "      <td>9266_02</td>\n",
              "      <td>1</td>\n",
              "    </tr>\n",
              "    <tr>\n",
              "      <th>4273</th>\n",
              "      <td>9269_01</td>\n",
              "      <td>0</td>\n",
              "    </tr>\n",
              "    <tr>\n",
              "      <th>4274</th>\n",
              "      <td>9271_01</td>\n",
              "      <td>1</td>\n",
              "    </tr>\n",
              "    <tr>\n",
              "      <th>4275</th>\n",
              "      <td>9273_01</td>\n",
              "      <td>1</td>\n",
              "    </tr>\n",
              "    <tr>\n",
              "      <th>4276</th>\n",
              "      <td>9277_01</td>\n",
              "      <td>1</td>\n",
              "    </tr>\n",
              "  </tbody>\n",
              "</table>\n",
              "<p>4277 rows × 2 columns</p>\n",
              "</div>\n",
              "      <button class=\"colab-df-convert\" onclick=\"convertToInteractive('df-93ca16d9-e577-44a0-b485-0fe9e6396d87')\"\n",
              "              title=\"Convert this dataframe to an interactive table.\"\n",
              "              style=\"display:none;\">\n",
              "        \n",
              "  <svg xmlns=\"http://www.w3.org/2000/svg\" height=\"24px\"viewBox=\"0 0 24 24\"\n",
              "       width=\"24px\">\n",
              "    <path d=\"M0 0h24v24H0V0z\" fill=\"none\"/>\n",
              "    <path d=\"M18.56 5.44l.94 2.06.94-2.06 2.06-.94-2.06-.94-.94-2.06-.94 2.06-2.06.94zm-11 1L8.5 8.5l.94-2.06 2.06-.94-2.06-.94L8.5 2.5l-.94 2.06-2.06.94zm10 10l.94 2.06.94-2.06 2.06-.94-2.06-.94-.94-2.06-.94 2.06-2.06.94z\"/><path d=\"M17.41 7.96l-1.37-1.37c-.4-.4-.92-.59-1.43-.59-.52 0-1.04.2-1.43.59L10.3 9.45l-7.72 7.72c-.78.78-.78 2.05 0 2.83L4 21.41c.39.39.9.59 1.41.59.51 0 1.02-.2 1.41-.59l7.78-7.78 2.81-2.81c.8-.78.8-2.07 0-2.86zM5.41 20L4 18.59l7.72-7.72 1.47 1.35L5.41 20z\"/>\n",
              "  </svg>\n",
              "      </button>\n",
              "      \n",
              "  <style>\n",
              "    .colab-df-container {\n",
              "      display:flex;\n",
              "      flex-wrap:wrap;\n",
              "      gap: 12px;\n",
              "    }\n",
              "\n",
              "    .colab-df-convert {\n",
              "      background-color: #E8F0FE;\n",
              "      border: none;\n",
              "      border-radius: 50%;\n",
              "      cursor: pointer;\n",
              "      display: none;\n",
              "      fill: #1967D2;\n",
              "      height: 32px;\n",
              "      padding: 0 0 0 0;\n",
              "      width: 32px;\n",
              "    }\n",
              "\n",
              "    .colab-df-convert:hover {\n",
              "      background-color: #E2EBFA;\n",
              "      box-shadow: 0px 1px 2px rgba(60, 64, 67, 0.3), 0px 1px 3px 1px rgba(60, 64, 67, 0.15);\n",
              "      fill: #174EA6;\n",
              "    }\n",
              "\n",
              "    [theme=dark] .colab-df-convert {\n",
              "      background-color: #3B4455;\n",
              "      fill: #D2E3FC;\n",
              "    }\n",
              "\n",
              "    [theme=dark] .colab-df-convert:hover {\n",
              "      background-color: #434B5C;\n",
              "      box-shadow: 0px 1px 3px 1px rgba(0, 0, 0, 0.15);\n",
              "      filter: drop-shadow(0px 1px 2px rgba(0, 0, 0, 0.3));\n",
              "      fill: #FFFFFF;\n",
              "    }\n",
              "  </style>\n",
              "\n",
              "      <script>\n",
              "        const buttonEl =\n",
              "          document.querySelector('#df-93ca16d9-e577-44a0-b485-0fe9e6396d87 button.colab-df-convert');\n",
              "        buttonEl.style.display =\n",
              "          google.colab.kernel.accessAllowed ? 'block' : 'none';\n",
              "\n",
              "        async function convertToInteractive(key) {\n",
              "          const element = document.querySelector('#df-93ca16d9-e577-44a0-b485-0fe9e6396d87');\n",
              "          const dataTable =\n",
              "            await google.colab.kernel.invokeFunction('convertToInteractive',\n",
              "                                                     [key], {});\n",
              "          if (!dataTable) return;\n",
              "\n",
              "          const docLinkHtml = 'Like what you see? Visit the ' +\n",
              "            '<a target=\"_blank\" href=https://colab.research.google.com/notebooks/data_table.ipynb>data table notebook</a>'\n",
              "            + ' to learn more about interactive tables.';\n",
              "          element.innerHTML = '';\n",
              "          dataTable['output_type'] = 'display_data';\n",
              "          await google.colab.output.renderOutput(dataTable, element);\n",
              "          const docLink = document.createElement('div');\n",
              "          docLink.innerHTML = docLinkHtml;\n",
              "          element.appendChild(docLink);\n",
              "        }\n",
              "      </script>\n",
              "    </div>\n",
              "  </div>\n",
              "  "
            ]
          },
          "metadata": {},
          "execution_count": 311
        }
      ]
    },
    {
      "cell_type": "code",
      "source": [
        "df_res.to_csv('resultados1.csv', index = False)"
      ],
      "metadata": {
        "id": "tC3O53DpfNEO"
      },
      "execution_count": 312,
      "outputs": []
    },
    {
      "cell_type": "markdown",
      "source": [
        "![image.png](data:image/png;base64,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)"
      ],
      "metadata": {
        "id": "NGxM44CZiG3-"
      }
    },
    {
      "cell_type": "code",
      "source": [
        ""
      ],
      "metadata": {
        "id": "p46nqrwZg618"
      },
      "execution_count": 312,
      "outputs": []
    }
  ]
}